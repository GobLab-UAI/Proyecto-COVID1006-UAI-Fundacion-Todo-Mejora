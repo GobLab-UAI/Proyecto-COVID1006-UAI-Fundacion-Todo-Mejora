{
 "cells": [
  {
   "cell_type": "code",
   "execution_count": 3,
   "metadata": {},
   "outputs": [],
   "source": [
    "#!pip install --user matplotlib==3.1.3\n",
    "import matplotlib.pyplot as plt\n",
    "import seaborn as sns\n",
    "%matplotlib inline\n",
    "import pandas as pd\n",
    "pd.set_option('display.max_columns', 500)\n",
    "import numpy as np\n",
    "#from xlrd import *\n",
    "import string\n",
    "import unidecode\n",
    "import re\n",
    "from itertools import compress\n",
    "from datetime import datetime"
   ]
  },
  {
   "cell_type": "code",
   "execution_count": null,
   "metadata": {},
   "outputs": [],
   "source": [
    "from stargazer.stargazer import Stargazer"
   ]
  },
  {
   "cell_type": "code",
   "execution_count": null,
   "metadata": {},
   "outputs": [],
   "source": [
    "import spacy\n",
    "nlp = spacy.load('es_core_news_sm')\n",
    "\n",
    "def lemmatizer(text):  \n",
    "  doc = nlp(text)\n",
    "  return ' '.join([word.lemma_ for word in doc])"
   ]
  },
  {
   "cell_type": "code",
   "execution_count": 12,
   "metadata": {},
   "outputs": [
    {
     "data": {
      "application/vnd.jupyter.widget-view+json": {
       "model_id": "d65fdb2a466040638884dc97830a03c3",
       "version_major": 2,
       "version_minor": 0
      },
      "text/plain": [
       "Downloading https://raw.githubusercontent.com/stanfordnlp/stanza-resources/main/resources_1.3.0.json:   0%|   …"
      ]
     },
     "metadata": {},
     "output_type": "display_data"
    },
    {
     "name": "stderr",
     "output_type": "stream",
     "text": [
      "2022-03-01 17:14:27 INFO: Downloading default packages for language: es (Spanish)...\n",
      "2022-03-01 17:14:30 INFO: File exists: C:\\Users\\usuario\\stanza_resources\\es\\default.zip.\n",
      "2022-03-01 17:14:38 INFO: Finished downloading models and saved to C:\\Users\\usuario\\stanza_resources.\n",
      "2022-03-01 17:14:38 WARNING: Language es package default expects mwt, which has been added\n",
      "2022-03-01 17:14:38 INFO: Loading these models for language: es (Spanish):\n",
      "=======================\n",
      "| Processor | Package |\n",
      "-----------------------\n",
      "| tokenize  | ancora  |\n",
      "| mwt       | ancora  |\n",
      "| pos       | ancora  |\n",
      "| lemma     | ancora  |\n",
      "=======================\n",
      "\n",
      "2022-03-01 17:14:38 INFO: Use device: cpu\n",
      "2022-03-01 17:14:38 INFO: Loading: tokenize\n",
      "2022-03-01 17:14:38 INFO: Loading: mwt\n",
      "2022-03-01 17:14:38 INFO: Loading: pos\n",
      "2022-03-01 17:14:39 INFO: Loading: lemma\n",
      "2022-03-01 17:14:39 INFO: Done loading processors!\n",
      "2022-03-01 17:14:39 INFO: Loading these models for language: es (Spanish):\n",
      "=======================\n",
      "| Processor | Package |\n",
      "-----------------------\n",
      "| tokenize  | ancora  |\n",
      "| mwt       | ancora  |\n",
      "| pos       | ancora  |\n",
      "| lemma     | ancora  |\n",
      "| depparse  | ancora  |\n",
      "=======================\n",
      "\n",
      "2022-03-01 17:14:39 INFO: Use device: cpu\n",
      "2022-03-01 17:14:39 INFO: Loading: tokenize\n",
      "2022-03-01 17:14:39 INFO: Loading: mwt\n",
      "2022-03-01 17:14:39 INFO: Loading: pos\n",
      "2022-03-01 17:14:39 INFO: Loading: lemma\n",
      "2022-03-01 17:14:39 INFO: Loading: depparse\n",
      "2022-03-01 17:14:40 INFO: Done loading processors!\n"
     ]
    }
   ],
   "source": [
    "import stanza\n",
    "\n",
    "stanza.download('es')\n",
    "stanza_tagger = stanza.Pipeline(lang='es', processors='tokenize,  pos, lemma')\n",
    "parser = stanza.Pipeline(lang='es', processors='tokenize,mwt,pos,lemma,depparse')\n",
    "\n",
    "def pos_tagger(mytext):\n",
    "\n",
    "  stanza_outcome = stanza_tagger(mytext)\n",
    "  pos_text = [ word.text  for sent in stanza_outcome.sentences for word in sent.words]\n",
    "  pos_upos = [ word.upos  for sent in stanza_outcome.sentences for word in sent.words]\n",
    "  pos_xpos = [ word.xpos  for sent in stanza_outcome.sentences for word in sent.words]\n",
    "  pos_lemma = [ word.lemma  for sent in stanza_outcome.sentences for word in sent.words]\n",
    "  pos_feat = [ word.feats if word.feats else \"_\"  for sent in stanza_outcome.sentences for word in sent.words]\n",
    "  dict_pos = {'word': pos_text, 'tag': pos_upos, 'lemma':pos_lemma, 'xpos': pos_xpos, 'feat':pos_feat} \n",
    "    \n",
    "  df_pos = pd.DataFrame(dict_pos)\n",
    "  return df_pos\n",
    "\n",
    "def depen_parser(mytext):\n",
    "   out_parser = parser(mytext)\n",
    "   parser_id = [word.id for sent in out_parser.sentences for word in sent.words]\n",
    "   parser_text = [word.text for sent in out_parser.sentences for word in sent.words]\n",
    "   parser_head = [word.head for sent in out_parser.sentences for word in sent.words]\n",
    "   parser_tag = [word.upos for sent in out_parser.sentences for word in sent.words] \n",
    "   parser_lemma = [word.lemma for sent in out_parser.sentences for word in sent.words] \n",
    "   parser_root = [sent.words[word.head-1].text if word.head > 0 else \"root\" for sent in out_parser.sentences for word in sent.words]\n",
    "   parser_dep = [word.deprel  for sent in out_parser.sentences for word in sent.words]\n",
    "   dict_pos = {'id':parser_id,'word': parser_text, 'head_id': parser_head, 'tag':parser_tag, 'lemma':parser_lemma, 'head': parser_root, 'dep':parser_dep} \n",
    "    \n",
    "   df_parser = pd.DataFrame(dict_pos)\n",
    "   return df_parser"
   ]
  },
  {
   "cell_type": "code",
   "execution_count": null,
   "metadata": {},
   "outputs": [],
   "source": [
    "\n"
   ]
  },
  {
   "cell_type": "code",
   "execution_count": 5,
   "metadata": {},
   "outputs": [],
   "source": [
    "import os\n",
    "from liwc import Liwc\n",
    "\n",
    "orig_path = os.getcwd()\n",
    "\n",
    "LIWC_FILEPATH = os.path.abspath(os.path.join(orig_path, 'LIWC2001_Spanish_O.dic'))\n",
    "liwc = Liwc(LIWC_FILEPATH)\n",
    "\n",
    "liwc.search('pueblos')  # ejemplo"
   ]
  },
  {
   "cell_type": "markdown",
   "metadata": {},
   "source": [
    "### Aplicando LIWC a las 1000 conversaciones taggeadas\n",
    "\n",
    "probablemente no funcione bien con nuevas versiones de LIWC"
   ]
  },
  {
   "cell_type": "code",
   "execution_count": 4,
   "metadata": {},
   "outputs": [
    {
     "name": "stderr",
     "output_type": "stream",
     "text": [
      "C:\\Users\\usuario\\AppData\\Local\\Temp/ipykernel_4452/811414434.py:1: DtypeWarning: Columns (6) have mixed types. Specify dtype option on import or set low_memory=False.\n",
      "  full5 = pd.read_csv('muestra_anonimizada5.csv',sep='\\t',encoding='utf-8')\n"
     ]
    }
   ],
   "source": [
    "full5 = pd.read_csv('muestra_anonimizada5.csv',sep='\\t',encoding='utf-8')\n",
    "taggs = pd.read_csv('conversaciones_taggeadas_validación.csv',sep='\\t',encoding='utf-8')"
   ]
  },
  {
   "cell_type": "code",
   "execution_count": 5,
   "metadata": {},
   "outputs": [
    {
     "data": {
      "text/html": [
       "<div>\n",
       "<style scoped>\n",
       "    .dataframe tbody tr th:only-of-type {\n",
       "        vertical-align: middle;\n",
       "    }\n",
       "\n",
       "    .dataframe tbody tr th {\n",
       "        vertical-align: top;\n",
       "    }\n",
       "\n",
       "    .dataframe thead th {\n",
       "        text-align: right;\n",
       "    }\n",
       "</style>\n",
       "<table border=\"1\" class=\"dataframe\">\n",
       "  <thead>\n",
       "    <tr style=\"text-align: right;\">\n",
       "      <th></th>\n",
       "      <th>Id</th>\n",
       "      <th>Ansiosa</th>\n",
       "      <th>Depresiva</th>\n",
       "      <th>Suicida</th>\n",
       "      <th>Temas_autoimagen</th>\n",
       "      <th>Temas_vinculares</th>\n",
       "      <th>Temas_sentido</th>\n",
       "      <th>Temas_emoción</th>\n",
       "      <th>Temas_violencia</th>\n",
       "      <th>Temas_desempeño</th>\n",
       "      <th>Temas_diversidad</th>\n",
       "      <th>estrategia_validación</th>\n",
       "      <th>estrategia_reflexionar</th>\n",
       "      <th>estrategia_recursos</th>\n",
       "      <th>estrategia_contención</th>\n",
       "      <th>estrategia_indagación</th>\n",
       "      <th>estrategia_educación</th>\n",
       "      <th>estrategia_derivación</th>\n",
       "      <th>recursos</th>\n",
       "      <th>gravedad</th>\n",
       "      <th>exito</th>\n",
       "    </tr>\n",
       "  </thead>\n",
       "  <tbody>\n",
       "    <tr>\n",
       "      <th>0</th>\n",
       "      <td>1331246</td>\n",
       "      <td>1</td>\n",
       "      <td>1</td>\n",
       "      <td>0</td>\n",
       "      <td>0</td>\n",
       "      <td>1</td>\n",
       "      <td>0</td>\n",
       "      <td>0</td>\n",
       "      <td>1</td>\n",
       "      <td>0</td>\n",
       "      <td>0</td>\n",
       "      <td>0</td>\n",
       "      <td>0</td>\n",
       "      <td>0</td>\n",
       "      <td>0</td>\n",
       "      <td>1</td>\n",
       "      <td>0</td>\n",
       "      <td>0</td>\n",
       "      <td>medio</td>\n",
       "      <td>medio</td>\n",
       "      <td>poco</td>\n",
       "    </tr>\n",
       "    <tr>\n",
       "      <th>1</th>\n",
       "      <td>1301687</td>\n",
       "      <td>1</td>\n",
       "      <td>0</td>\n",
       "      <td>0</td>\n",
       "      <td>0</td>\n",
       "      <td>1</td>\n",
       "      <td>0</td>\n",
       "      <td>0</td>\n",
       "      <td>0</td>\n",
       "      <td>0</td>\n",
       "      <td>0</td>\n",
       "      <td>0</td>\n",
       "      <td>0</td>\n",
       "      <td>1</td>\n",
       "      <td>1</td>\n",
       "      <td>1</td>\n",
       "      <td>0</td>\n",
       "      <td>0</td>\n",
       "      <td>bastante</td>\n",
       "      <td>medio</td>\n",
       "      <td>bastante</td>\n",
       "    </tr>\n",
       "    <tr>\n",
       "      <th>2</th>\n",
       "      <td>1311242</td>\n",
       "      <td>0</td>\n",
       "      <td>0</td>\n",
       "      <td>0</td>\n",
       "      <td>0</td>\n",
       "      <td>0</td>\n",
       "      <td>0</td>\n",
       "      <td>0</td>\n",
       "      <td>0</td>\n",
       "      <td>0</td>\n",
       "      <td>0</td>\n",
       "      <td>0</td>\n",
       "      <td>0</td>\n",
       "      <td>0</td>\n",
       "      <td>0</td>\n",
       "      <td>1</td>\n",
       "      <td>0</td>\n",
       "      <td>0</td>\n",
       "      <td>medio</td>\n",
       "      <td>medio</td>\n",
       "      <td>medio</td>\n",
       "    </tr>\n",
       "    <tr>\n",
       "      <th>3</th>\n",
       "      <td>1362804</td>\n",
       "      <td>1</td>\n",
       "      <td>1</td>\n",
       "      <td>0</td>\n",
       "      <td>1</td>\n",
       "      <td>1</td>\n",
       "      <td>0</td>\n",
       "      <td>1</td>\n",
       "      <td>0</td>\n",
       "      <td>1</td>\n",
       "      <td>0</td>\n",
       "      <td>0</td>\n",
       "      <td>0</td>\n",
       "      <td>1</td>\n",
       "      <td>1</td>\n",
       "      <td>1</td>\n",
       "      <td>0</td>\n",
       "      <td>0</td>\n",
       "      <td>medio</td>\n",
       "      <td>medio</td>\n",
       "      <td>poco</td>\n",
       "    </tr>\n",
       "    <tr>\n",
       "      <th>4</th>\n",
       "      <td>1400860</td>\n",
       "      <td>0</td>\n",
       "      <td>1</td>\n",
       "      <td>1</td>\n",
       "      <td>0</td>\n",
       "      <td>1</td>\n",
       "      <td>0</td>\n",
       "      <td>0</td>\n",
       "      <td>0</td>\n",
       "      <td>0</td>\n",
       "      <td>0</td>\n",
       "      <td>0</td>\n",
       "      <td>1</td>\n",
       "      <td>1</td>\n",
       "      <td>1</td>\n",
       "      <td>1</td>\n",
       "      <td>0</td>\n",
       "      <td>0</td>\n",
       "      <td>medio</td>\n",
       "      <td>medio</td>\n",
       "      <td>bastante</td>\n",
       "    </tr>\n",
       "  </tbody>\n",
       "</table>\n",
       "</div>"
      ],
      "text/plain": [
       "        Id  Ansiosa  Depresiva  Suicida  Temas_autoimagen  Temas_vinculares  \\\n",
       "0  1331246        1          1        0                 0                 1   \n",
       "1  1301687        1          0        0                 0                 1   \n",
       "2  1311242        0          0        0                 0                 0   \n",
       "3  1362804        1          1        0                 1                 1   \n",
       "4  1400860        0          1        1                 0                 1   \n",
       "\n",
       "   Temas_sentido  Temas_emoción  Temas_violencia  Temas_desempeño  \\\n",
       "0              0              0                1                0   \n",
       "1              0              0                0                0   \n",
       "2              0              0                0                0   \n",
       "3              0              1                0                1   \n",
       "4              0              0                0                0   \n",
       "\n",
       "   Temas_diversidad  estrategia_validación  estrategia_reflexionar  \\\n",
       "0                 0                      0                       0   \n",
       "1                 0                      0                       0   \n",
       "2                 0                      0                       0   \n",
       "3                 0                      0                       0   \n",
       "4                 0                      0                       1   \n",
       "\n",
       "   estrategia_recursos  estrategia_contención  estrategia_indagación  \\\n",
       "0                    0                      0                      1   \n",
       "1                    1                      1                      1   \n",
       "2                    0                      0                      1   \n",
       "3                    1                      1                      1   \n",
       "4                    1                      1                      1   \n",
       "\n",
       "   estrategia_educación  estrategia_derivación  recursos gravedad     exito  \n",
       "0                     0                      0     medio    medio      poco  \n",
       "1                     0                      0  bastante    medio  bastante  \n",
       "2                     0                      0     medio    medio     medio  \n",
       "3                     0                      0     medio    medio      poco  \n",
       "4                     0                      0     medio    medio  bastante  "
      ]
     },
     "execution_count": 5,
     "metadata": {},
     "output_type": "execute_result"
    }
   ],
   "source": [
    "taggs.head()"
   ]
  },
  {
   "cell_type": "code",
   "execution_count": 6,
   "metadata": {},
   "outputs": [
    {
     "data": {
      "text/html": [
       "<div>\n",
       "<style scoped>\n",
       "    .dataframe tbody tr th:only-of-type {\n",
       "        vertical-align: middle;\n",
       "    }\n",
       "\n",
       "    .dataframe tbody tr th {\n",
       "        vertical-align: top;\n",
       "    }\n",
       "\n",
       "    .dataframe thead th {\n",
       "        text-align: right;\n",
       "    }\n",
       "</style>\n",
       "<table border=\"1\" class=\"dataframe\">\n",
       "  <thead>\n",
       "    <tr style=\"text-align: right;\">\n",
       "      <th></th>\n",
       "      <th>Identifier</th>\n",
       "      <th>content</th>\n",
       "      <th>tags</th>\n",
       "      <th>person_type</th>\n",
       "      <th>Client name</th>\n",
       "      <th>message_created_at</th>\n",
       "      <th>projects</th>\n",
       "      <th>ansioso</th>\n",
       "      <th>depresivo</th>\n",
       "      <th>content2</th>\n",
       "    </tr>\n",
       "  </thead>\n",
       "  <tbody>\n",
       "    <tr>\n",
       "      <th>0</th>\n",
       "      <td>166421.0</td>\n",
       "      <td>Hola</td>\n",
       "      <td>Caracterización OK</td>\n",
       "      <td>Client</td>\n",
       "      <td>Francisco</td>\n",
       "      <td>2018-01-01 21:28:12</td>\n",
       "      <td>NaN</td>\n",
       "      <td>0</td>\n",
       "      <td>0</td>\n",
       "      <td>hola</td>\n",
       "    </tr>\n",
       "    <tr>\n",
       "      <th>1</th>\n",
       "      <td>166421.0</td>\n",
       "      <td>Hola! Bienvenidx a un espacio seguro para conv...</td>\n",
       "      <td>Caracterización OK</td>\n",
       "      <td>User</td>\n",
       "      <td>Francisco</td>\n",
       "      <td>2018-01-01 21:29:16</td>\n",
       "      <td>NaN</td>\n",
       "      <td>0</td>\n",
       "      <td>0</td>\n",
       "      <td>NN ! bienvenido a un espacio seguro para conve...</td>\n",
       "    </tr>\n",
       "    <tr>\n",
       "      <th>2</th>\n",
       "      <td>166421.0</td>\n",
       "      <td>Francisco</td>\n",
       "      <td>Caracterización OK</td>\n",
       "      <td>Client</td>\n",
       "      <td>Francisco</td>\n",
       "      <td>2018-01-01 21:29:30</td>\n",
       "      <td>NaN</td>\n",
       "      <td>0</td>\n",
       "      <td>0</td>\n",
       "      <td>NN</td>\n",
       "    </tr>\n",
       "    <tr>\n",
       "      <th>3</th>\n",
       "      <td>166421.0</td>\n",
       "      <td>Quiero contarles a mis padres que soy gay, y a...</td>\n",
       "      <td>Caracterización OK</td>\n",
       "      <td>Client</td>\n",
       "      <td>Francisco</td>\n",
       "      <td>2018-01-01 21:30:57</td>\n",
       "      <td>NaN</td>\n",
       "      <td>0</td>\n",
       "      <td>0</td>\n",
       "      <td>quiero contarles a mis padres que soy gay , y ...</td>\n",
       "    </tr>\n",
       "    <tr>\n",
       "      <th>4</th>\n",
       "      <td>166421.0</td>\n",
       "      <td>Francisco, en primer lugar nos alegramos mucho...</td>\n",
       "      <td>Caracterización OK</td>\n",
       "      <td>User</td>\n",
       "      <td>Francisco</td>\n",
       "      <td>2018-01-01 21:32:03</td>\n",
       "      <td>NaN</td>\n",
       "      <td>0</td>\n",
       "      <td>0</td>\n",
       "      <td>NN , en primer lugar nos alegramos mucho de qu...</td>\n",
       "    </tr>\n",
       "  </tbody>\n",
       "</table>\n",
       "</div>"
      ],
      "text/plain": [
       "   Identifier                                            content  \\\n",
       "0    166421.0                                               Hola   \n",
       "1    166421.0  Hola! Bienvenidx a un espacio seguro para conv...   \n",
       "2    166421.0                                          Francisco   \n",
       "3    166421.0  Quiero contarles a mis padres que soy gay, y a...   \n",
       "4    166421.0  Francisco, en primer lugar nos alegramos mucho...   \n",
       "\n",
       "                 tags person_type Client name   message_created_at projects  \\\n",
       "0  Caracterización OK      Client   Francisco  2018-01-01 21:28:12      NaN   \n",
       "1  Caracterización OK        User   Francisco  2018-01-01 21:29:16      NaN   \n",
       "2  Caracterización OK      Client   Francisco  2018-01-01 21:29:30      NaN   \n",
       "3  Caracterización OK      Client   Francisco  2018-01-01 21:30:57      NaN   \n",
       "4  Caracterización OK        User   Francisco  2018-01-01 21:32:03      NaN   \n",
       "\n",
       "   ansioso  depresivo                                           content2  \n",
       "0        0          0                                               hola  \n",
       "1        0          0  NN ! bienvenido a un espacio seguro para conve...  \n",
       "2        0          0                                                 NN  \n",
       "3        0          0  quiero contarles a mis padres que soy gay , y ...  \n",
       "4        0          0  NN , en primer lugar nos alegramos mucho de qu...  "
      ]
     },
     "execution_count": 6,
     "metadata": {},
     "output_type": "execute_result"
    }
   ],
   "source": [
    "full5.head()"
   ]
  },
  {
   "cell_type": "code",
   "execution_count": null,
   "metadata": {},
   "outputs": [],
   "source": [
    "liwc_keys = []\n",
    "for ix in range(taggs.Id.shape[0]):\n",
    "  texto = ' '.join(full5[(full5.Identifier==taggs.Id[ix]) & (full5.person_type=='Client') ].content2.tolist())  \n",
    "  aux = liwc.parse(texto.split())\n",
    "  liwc_keys.extend(list(aux.keys())) "
   ]
  },
  {
   "cell_type": "code",
   "execution_count": null,
   "metadata": {},
   "outputs": [],
   "source": [
    "liwc_keys = list(set(liwc_keys))\n",
    "len(liwc_keys)"
   ]
  },
  {
   "cell_type": "code",
   "execution_count": null,
   "metadata": {},
   "outputs": [],
   "source": [
    "taggsLIWC = taggs[['Id']]\n",
    "taggsLIWC = taggsLIWC.assign(**dict.fromkeys(liwc_keys, 0))"
   ]
  },
  {
   "cell_type": "code",
   "execution_count": null,
   "metadata": {},
   "outputs": [],
   "source": [
    "taggsLIWC.head()"
   ]
  },
  {
   "cell_type": "code",
   "execution_count": null,
   "metadata": {},
   "outputs": [],
   "source": [
    "taggsLIWC.shape"
   ]
  },
  {
   "cell_type": "code",
   "execution_count": null,
   "metadata": {},
   "outputs": [],
   "source": [
    "liwc_keys = []\n",
    "for ix in range(taggsLIWC.Id.shape[0]):\n",
    "  texto = ' '.join(full5[(full5.Identifier==taggsLIWC.Id[ix]) & (full5.person_type=='Client') ].content2.tolist())  \n",
    "  aux = liwc.parse(texto.split())\n",
    "  taggsLIWC.loc[ix,list(aux.keys())]=list(aux.values())  "
   ]
  },
  {
   "cell_type": "code",
   "execution_count": null,
   "metadata": {},
   "outputs": [],
   "source": [
    "taggsLIWC.to_csv(\"conversaciones_LIWC.csv\", sep='\\t')"
   ]
  },
  {
   "cell_type": "code",
   "execution_count": null,
   "metadata": {},
   "outputs": [],
   "source": [
    "taggsLIWC.shape"
   ]
  },
  {
   "cell_type": "code",
   "execution_count": null,
   "metadata": {},
   "outputs": [],
   "source": []
  },
  {
   "cell_type": "markdown",
   "metadata": {},
   "source": [
    "### Empezando los análisis"
   ]
  },
  {
   "cell_type": "code",
   "execution_count": 7,
   "metadata": {
    "scrolled": true
   },
   "outputs": [
    {
     "data": {
      "text/html": [
       "<style type=\"text/css\">\n",
       "#T_4d2e3_row0_col9, #T_4d2e3_row1_col9, #T_4d2e3_row2_col9, #T_4d2e3_row3_col9, #T_4d2e3_row4_col9 {\n",
       "  width: 900px;\n",
       "}\n",
       "</style>\n",
       "<table id=\"T_4d2e3\">\n",
       "  <thead>\n",
       "    <tr>\n",
       "      <th class=\"blank level0\" >&nbsp;</th>\n",
       "      <th id=\"T_4d2e3_level0_col0\" class=\"col_heading level0 col0\" >Identifier</th>\n",
       "      <th id=\"T_4d2e3_level0_col1\" class=\"col_heading level0 col1\" >content</th>\n",
       "      <th id=\"T_4d2e3_level0_col2\" class=\"col_heading level0 col2\" >tags</th>\n",
       "      <th id=\"T_4d2e3_level0_col3\" class=\"col_heading level0 col3\" >person_type</th>\n",
       "      <th id=\"T_4d2e3_level0_col4\" class=\"col_heading level0 col4\" >Client name</th>\n",
       "      <th id=\"T_4d2e3_level0_col5\" class=\"col_heading level0 col5\" >message_created_at</th>\n",
       "      <th id=\"T_4d2e3_level0_col6\" class=\"col_heading level0 col6\" >projects</th>\n",
       "      <th id=\"T_4d2e3_level0_col7\" class=\"col_heading level0 col7\" >ansioso</th>\n",
       "      <th id=\"T_4d2e3_level0_col8\" class=\"col_heading level0 col8\" >depresivo</th>\n",
       "      <th id=\"T_4d2e3_level0_col9\" class=\"col_heading level0 col9\" >content2</th>\n",
       "    </tr>\n",
       "  </thead>\n",
       "  <tbody>\n",
       "    <tr>\n",
       "      <th id=\"T_4d2e3_level0_row0\" class=\"row_heading level0 row0\" >219471</th>\n",
       "      <td id=\"T_4d2e3_row0_col0\" class=\"data row0 col0\" >1175791.000000</td>\n",
       "      <td id=\"T_4d2e3_row0_col1\" class=\"data row0 col1\" >es un proceso similar a la salida del closet de lx hijx</td>\n",
       "      <td id=\"T_4d2e3_row0_col2\" class=\"data row0 col2\" >LGBTI+,Salida del clóset,Caracterización OK</td>\n",
       "      <td id=\"T_4d2e3_row0_col3\" class=\"data row0 col3\" >User</td>\n",
       "      <td id=\"T_4d2e3_row0_col4\" class=\"data row0 col4\" >Amanda</td>\n",
       "      <td id=\"T_4d2e3_row0_col5\" class=\"data row0 col5\" >2019-04-30 23:33:42</td>\n",
       "      <td id=\"T_4d2e3_row0_col6\" class=\"data row0 col6\" >nan</td>\n",
       "      <td id=\"T_4d2e3_row0_col7\" class=\"data row0 col7\" >0</td>\n",
       "      <td id=\"T_4d2e3_row0_col8\" class=\"data row0 col8\" >0</td>\n",
       "      <td id=\"T_4d2e3_row0_col9\" class=\"data row0 col9\" >es un proceso similar a la salida del clo set de lx hijx</td>\n",
       "    </tr>\n",
       "    <tr>\n",
       "      <th id=\"T_4d2e3_level0_row1\" class=\"row_heading level0 row1\" >299829</th>\n",
       "      <td id=\"T_4d2e3_row1_col0\" class=\"data row1 col0\" >1392562.000000</td>\n",
       "      <td id=\"T_4d2e3_row1_col1\" class=\"data row1 col1\" >es que tengo isapre</td>\n",
       "      <td id=\"T_4d2e3_row1_col2\" class=\"data row1 col2\" >Comportamiento suicida,Posible testimonio,Sintomatología depresiva,Caracterización OK</td>\n",
       "      <td id=\"T_4d2e3_row1_col3\" class=\"data row1 col3\" >Client</td>\n",
       "      <td id=\"T_4d2e3_row1_col4\" class=\"data row1 col4\" >belenmilla</td>\n",
       "      <td id=\"T_4d2e3_row1_col5\" class=\"data row1 col5\" >2019-08-22 01:00:47</td>\n",
       "      <td id=\"T_4d2e3_row1_col6\" class=\"data row1 col6\" >nan</td>\n",
       "      <td id=\"T_4d2e3_row1_col7\" class=\"data row1 col7\" >0</td>\n",
       "      <td id=\"T_4d2e3_row1_col8\" class=\"data row1 col8\" >1</td>\n",
       "      <td id=\"T_4d2e3_row1_col9\" class=\"data row1 col9\" >es que tengo isapre</td>\n",
       "    </tr>\n",
       "    <tr>\n",
       "      <th id=\"T_4d2e3_level0_row2\" class=\"row_heading level0 row2\" >9088</th>\n",
       "      <td id=\"T_4d2e3_row2_col0\" class=\"data row2 col0\" >214473.000000</td>\n",
       "      <td id=\"T_4d2e3_row2_col1\" class=\"data row2 col1\" >cuentanos en que te podemos ayudar</td>\n",
       "      <td id=\"T_4d2e3_row2_col2\" class=\"data row2 col2\" >Caracterización OK</td>\n",
       "      <td id=\"T_4d2e3_row2_col3\" class=\"data row2 col3\" >User</td>\n",
       "      <td id=\"T_4d2e3_row2_col4\" class=\"data row2 col4\" >Fernanda</td>\n",
       "      <td id=\"T_4d2e3_row2_col5\" class=\"data row2 col5\" >2018-02-14 18:00:58</td>\n",
       "      <td id=\"T_4d2e3_row2_col6\" class=\"data row2 col6\" >nan</td>\n",
       "      <td id=\"T_4d2e3_row2_col7\" class=\"data row2 col7\" >0</td>\n",
       "      <td id=\"T_4d2e3_row2_col8\" class=\"data row2 col8\" >0</td>\n",
       "      <td id=\"T_4d2e3_row2_col9\" class=\"data row2 col9\" >cuentanos en que te podemos ayudar</td>\n",
       "    </tr>\n",
       "    <tr>\n",
       "      <th id=\"T_4d2e3_level0_row3\" class=\"row_heading level0 row3\" >401698</th>\n",
       "      <td id=\"T_4d2e3_row3_col0\" class=\"data row3 col0\" >1643940.000000</td>\n",
       "      <td id=\"T_4d2e3_row3_col1\" class=\"data row3 col1\" >Es muy fácil para un hombre como él quejarse y quejarse y dejar que la otra persona haga y resuelva. En fin, lo que importa es que tú estés tranquila y determinada.</td>\n",
       "      <td id=\"T_4d2e3_row3_col2\" class=\"data row3 col2\" >Caracterización OK</td>\n",
       "      <td id=\"T_4d2e3_row3_col3\" class=\"data row3 col3\" >User</td>\n",
       "      <td id=\"T_4d2e3_row3_col4\" class=\"data row3 col4\" >Yacsel Mundaca </td>\n",
       "      <td id=\"T_4d2e3_row3_col5\" class=\"data row3 col5\" >2019-12-29 23:54:23</td>\n",
       "      <td id=\"T_4d2e3_row3_col6\" class=\"data row3 col6\" >nan</td>\n",
       "      <td id=\"T_4d2e3_row3_col7\" class=\"data row3 col7\" >0</td>\n",
       "      <td id=\"T_4d2e3_row3_col8\" class=\"data row3 col8\" >0</td>\n",
       "      <td id=\"T_4d2e3_row3_col9\" class=\"data row3 col9\" >es muy fácil para un hombre como él quejarse y quejarse y dejar que la otra persona haga y resuelva . en fin , lo que importa es que tú estés tranquila y determinada .</td>\n",
       "    </tr>\n",
       "    <tr>\n",
       "      <th id=\"T_4d2e3_level0_row4\" class=\"row_heading level0 row4\" >481486</th>\n",
       "      <td id=\"T_4d2e3_row4_col0\" class=\"data row4 col0\" >2061421.000000</td>\n",
       "      <td id=\"T_4d2e3_row4_col1\" class=\"data row4 col1\" >para nada, una persona que comete suicidio es porque lamentablemente no pudo encontrar el apoyo, ni la motivación para seguir adelante, y solo vio la muerte como el fin del sufrimiento</td>\n",
       "      <td id=\"T_4d2e3_row4_col2\" class=\"data row4 col2\" >Caracterización OK,Comportamiento suicida,Rechazo Familiar,Sintomatología depresiva</td>\n",
       "      <td id=\"T_4d2e3_row4_col3\" class=\"data row4 col3\" >User</td>\n",
       "      <td id=\"T_4d2e3_row4_col4\" class=\"data row4 col4\" >Genesis</td>\n",
       "      <td id=\"T_4d2e3_row4_col5\" class=\"data row4 col5\" >2020-04-21 00:42:40</td>\n",
       "      <td id=\"T_4d2e3_row4_col6\" class=\"data row4 col6\" >alerta</td>\n",
       "      <td id=\"T_4d2e3_row4_col7\" class=\"data row4 col7\" >0</td>\n",
       "      <td id=\"T_4d2e3_row4_col8\" class=\"data row4 col8\" >1</td>\n",
       "      <td id=\"T_4d2e3_row4_col9\" class=\"data row4 col9\" >para nada , una persona que comete suicidio es porque lamentablemente no pudo encontrar el apoyo , ni la motivación para seguir adelante , y solo vio la muerte como el fin del sufrimiento</td>\n",
       "    </tr>\n",
       "  </tbody>\n",
       "</table>\n"
      ],
      "text/plain": [
       "<pandas.io.formats.style.Styler at 0x1f717cafbb0>"
      ]
     },
     "execution_count": 7,
     "metadata": {},
     "output_type": "execute_result"
    }
   ],
   "source": [
    "full5.sample(5).style.set_properties(subset=['content2'], **{'width': '900px'}) "
   ]
  },
  {
   "cell_type": "code",
   "execution_count": 8,
   "metadata": {},
   "outputs": [
    {
     "data": {
      "text/plain": [
       "(636184, 10)"
      ]
     },
     "execution_count": 8,
     "metadata": {},
     "output_type": "execute_result"
    }
   ],
   "source": [
    "full5.shape"
   ]
  },
  {
   "cell_type": "code",
   "execution_count": 9,
   "metadata": {},
   "outputs": [
    {
     "data": {
      "text/plain": [
       "10987"
      ]
     },
     "execution_count": 9,
     "metadata": {},
     "output_type": "execute_result"
    }
   ],
   "source": [
    "len(full5.Identifier.unique())  "
   ]
  },
  {
   "cell_type": "markdown",
   "metadata": {},
   "source": [
    "Esto es para identificar la conversación de 2021 que deberíamos sacar"
   ]
  },
  {
   "cell_type": "code",
   "execution_count": 11,
   "metadata": {},
   "outputs": [
    {
     "data": {
      "text/plain": [
       "635240    3099366.0\n",
       "Name: Identifier, dtype: float64"
      ]
     },
     "execution_count": 11,
     "metadata": {},
     "output_type": "execute_result"
    }
   ],
   "source": [
    "full5[full5.message_created_at.str.contains('2021')].Identifier"
   ]
  },
  {
   "cell_type": "markdown",
   "metadata": {},
   "source": [
    "### Generando una columna de texto con palabras nocionales\n",
    "\n",
    "Esto no hace falta correrlo para replicar los análisis, porque se usa para entrenar clasificadores, que a su vez se usan como base para los diccionarios, pero los diccionarios igual son refinados después, y están ingresados más adelante."
   ]
  },
  {
   "cell_type": "code",
   "execution_count": 13,
   "metadata": {},
   "outputs": [
    {
     "name": "stderr",
     "output_type": "stream",
     "text": [
      "C:\\Users\\usuario\\anaconda3\\envs\\nlp1\\lib\\site-packages\\stanza\\models\\common\\beam.py:86: UserWarning: __floordiv__ is deprecated, and its behavior will change in a future version of pytorch. It currently rounds toward 0 (like the 'trunc' function NOT 'floor'). This results in incorrect rounding for negative values. To keep the current behavior, use torch.div(a, b, rounding_mode='trunc'), or for actual floor division, use torch.div(a, b, rounding_mode='floor').\n",
      "  prevK = bestScoresId // numWords\n"
     ]
    },
    {
     "ename": "AttributeError",
     "evalue": "'float' object has no attribute 'lower'",
     "output_type": "error",
     "traceback": [
      "\u001b[1;31m---------------------------------------------------------------------------\u001b[0m",
      "\u001b[1;31mAttributeError\u001b[0m                            Traceback (most recent call last)",
      "\u001b[1;32m<timed exec>\u001b[0m in \u001b[0;36m<module>\u001b[1;34m\u001b[0m\n",
      "\u001b[1;31mAttributeError\u001b[0m: 'float' object has no attribute 'lower'"
     ]
    }
   ],
   "source": [
    "%%time\n",
    "taggs_texto = []\n",
    "\n",
    "for ixd in range(taggs.shape[0]):\n",
    "  ide = taggs.Id[ixd]\n",
    "  df_texto = full5[full5.Identifier==ide].reset_index(drop=True)\n",
    "  texto = []\n",
    "\n",
    "  for ix in range(df_texto.shape[0]):\n",
    "    if df_texto.person_type[ix]=='Client':\n",
    "        mytext = df_texto.content2[ix].lower()\n",
    "        mytext = mytext.replace(',',' , ')\n",
    "        mytext = mytext.replace('.',' . ')\n",
    "        asd = depen_parser(mytext)\n",
    "        newtext = asd[asd.tag.isin(['NOUN','ADJ','VERB'])].lemma.tolist()\n",
    "        texto.append(' '.join(newtext))\n",
    "\n",
    "  texto= ' .'.join(texto)\n",
    "  taggs_texto.append(texto)\n",
    "\n",
    "taggs['texto'] = taggs_texto\n"
   ]
  },
  {
   "cell_type": "code",
   "execution_count": 14,
   "metadata": {},
   "outputs": [
    {
     "data": {
      "text/html": [
       "<div>\n",
       "<style scoped>\n",
       "    .dataframe tbody tr th:only-of-type {\n",
       "        vertical-align: middle;\n",
       "    }\n",
       "\n",
       "    .dataframe tbody tr th {\n",
       "        vertical-align: top;\n",
       "    }\n",
       "\n",
       "    .dataframe thead th {\n",
       "        text-align: right;\n",
       "    }\n",
       "</style>\n",
       "<table border=\"1\" class=\"dataframe\">\n",
       "  <thead>\n",
       "    <tr style=\"text-align: right;\">\n",
       "      <th></th>\n",
       "      <th>Id</th>\n",
       "      <th>Ansiosa</th>\n",
       "      <th>Depresiva</th>\n",
       "      <th>Suicida</th>\n",
       "      <th>Temas_autoimagen</th>\n",
       "      <th>Temas_vinculares</th>\n",
       "      <th>Temas_sentido</th>\n",
       "      <th>Temas_emoción</th>\n",
       "      <th>Temas_violencia</th>\n",
       "      <th>Temas_desempeño</th>\n",
       "      <th>Temas_diversidad</th>\n",
       "      <th>estrategia_validación</th>\n",
       "      <th>estrategia_reflexionar</th>\n",
       "      <th>estrategia_recursos</th>\n",
       "      <th>estrategia_contención</th>\n",
       "      <th>estrategia_indagación</th>\n",
       "      <th>estrategia_educación</th>\n",
       "      <th>estrategia_derivación</th>\n",
       "      <th>recursos</th>\n",
       "      <th>gravedad</th>\n",
       "      <th>exito</th>\n",
       "    </tr>\n",
       "  </thead>\n",
       "  <tbody>\n",
       "    <tr>\n",
       "      <th>0</th>\n",
       "      <td>1331246</td>\n",
       "      <td>1</td>\n",
       "      <td>1</td>\n",
       "      <td>0</td>\n",
       "      <td>0</td>\n",
       "      <td>1</td>\n",
       "      <td>0</td>\n",
       "      <td>0</td>\n",
       "      <td>1</td>\n",
       "      <td>0</td>\n",
       "      <td>0</td>\n",
       "      <td>0</td>\n",
       "      <td>0</td>\n",
       "      <td>0</td>\n",
       "      <td>0</td>\n",
       "      <td>1</td>\n",
       "      <td>0</td>\n",
       "      <td>0</td>\n",
       "      <td>medio</td>\n",
       "      <td>medio</td>\n",
       "      <td>poco</td>\n",
       "    </tr>\n",
       "    <tr>\n",
       "      <th>1</th>\n",
       "      <td>1301687</td>\n",
       "      <td>1</td>\n",
       "      <td>0</td>\n",
       "      <td>0</td>\n",
       "      <td>0</td>\n",
       "      <td>1</td>\n",
       "      <td>0</td>\n",
       "      <td>0</td>\n",
       "      <td>0</td>\n",
       "      <td>0</td>\n",
       "      <td>0</td>\n",
       "      <td>0</td>\n",
       "      <td>0</td>\n",
       "      <td>1</td>\n",
       "      <td>1</td>\n",
       "      <td>1</td>\n",
       "      <td>0</td>\n",
       "      <td>0</td>\n",
       "      <td>bastante</td>\n",
       "      <td>medio</td>\n",
       "      <td>bastante</td>\n",
       "    </tr>\n",
       "    <tr>\n",
       "      <th>2</th>\n",
       "      <td>1311242</td>\n",
       "      <td>0</td>\n",
       "      <td>0</td>\n",
       "      <td>0</td>\n",
       "      <td>0</td>\n",
       "      <td>0</td>\n",
       "      <td>0</td>\n",
       "      <td>0</td>\n",
       "      <td>0</td>\n",
       "      <td>0</td>\n",
       "      <td>0</td>\n",
       "      <td>0</td>\n",
       "      <td>0</td>\n",
       "      <td>0</td>\n",
       "      <td>0</td>\n",
       "      <td>1</td>\n",
       "      <td>0</td>\n",
       "      <td>0</td>\n",
       "      <td>medio</td>\n",
       "      <td>medio</td>\n",
       "      <td>medio</td>\n",
       "    </tr>\n",
       "    <tr>\n",
       "      <th>3</th>\n",
       "      <td>1362804</td>\n",
       "      <td>1</td>\n",
       "      <td>1</td>\n",
       "      <td>0</td>\n",
       "      <td>1</td>\n",
       "      <td>1</td>\n",
       "      <td>0</td>\n",
       "      <td>1</td>\n",
       "      <td>0</td>\n",
       "      <td>1</td>\n",
       "      <td>0</td>\n",
       "      <td>0</td>\n",
       "      <td>0</td>\n",
       "      <td>1</td>\n",
       "      <td>1</td>\n",
       "      <td>1</td>\n",
       "      <td>0</td>\n",
       "      <td>0</td>\n",
       "      <td>medio</td>\n",
       "      <td>medio</td>\n",
       "      <td>poco</td>\n",
       "    </tr>\n",
       "    <tr>\n",
       "      <th>4</th>\n",
       "      <td>1400860</td>\n",
       "      <td>0</td>\n",
       "      <td>1</td>\n",
       "      <td>1</td>\n",
       "      <td>0</td>\n",
       "      <td>1</td>\n",
       "      <td>0</td>\n",
       "      <td>0</td>\n",
       "      <td>0</td>\n",
       "      <td>0</td>\n",
       "      <td>0</td>\n",
       "      <td>0</td>\n",
       "      <td>1</td>\n",
       "      <td>1</td>\n",
       "      <td>1</td>\n",
       "      <td>1</td>\n",
       "      <td>0</td>\n",
       "      <td>0</td>\n",
       "      <td>medio</td>\n",
       "      <td>medio</td>\n",
       "      <td>bastante</td>\n",
       "    </tr>\n",
       "    <tr>\n",
       "      <th>...</th>\n",
       "      <td>...</td>\n",
       "      <td>...</td>\n",
       "      <td>...</td>\n",
       "      <td>...</td>\n",
       "      <td>...</td>\n",
       "      <td>...</td>\n",
       "      <td>...</td>\n",
       "      <td>...</td>\n",
       "      <td>...</td>\n",
       "      <td>...</td>\n",
       "      <td>...</td>\n",
       "      <td>...</td>\n",
       "      <td>...</td>\n",
       "      <td>...</td>\n",
       "      <td>...</td>\n",
       "      <td>...</td>\n",
       "      <td>...</td>\n",
       "      <td>...</td>\n",
       "      <td>...</td>\n",
       "      <td>...</td>\n",
       "      <td>...</td>\n",
       "    </tr>\n",
       "    <tr>\n",
       "      <th>1195</th>\n",
       "      <td>553037</td>\n",
       "      <td>0</td>\n",
       "      <td>0</td>\n",
       "      <td>0</td>\n",
       "      <td>0</td>\n",
       "      <td>1</td>\n",
       "      <td>0</td>\n",
       "      <td>0</td>\n",
       "      <td>0</td>\n",
       "      <td>0</td>\n",
       "      <td>1</td>\n",
       "      <td>0</td>\n",
       "      <td>0</td>\n",
       "      <td>1</td>\n",
       "      <td>0</td>\n",
       "      <td>1</td>\n",
       "      <td>0</td>\n",
       "      <td>0</td>\n",
       "      <td>bastante</td>\n",
       "      <td>poco</td>\n",
       "      <td>poco</td>\n",
       "    </tr>\n",
       "    <tr>\n",
       "      <th>1196</th>\n",
       "      <td>579276</td>\n",
       "      <td>0</td>\n",
       "      <td>0</td>\n",
       "      <td>0</td>\n",
       "      <td>0</td>\n",
       "      <td>0</td>\n",
       "      <td>0</td>\n",
       "      <td>0</td>\n",
       "      <td>1</td>\n",
       "      <td>0</td>\n",
       "      <td>0</td>\n",
       "      <td>0</td>\n",
       "      <td>0</td>\n",
       "      <td>1</td>\n",
       "      <td>1</td>\n",
       "      <td>1</td>\n",
       "      <td>0</td>\n",
       "      <td>0</td>\n",
       "      <td>medio</td>\n",
       "      <td>bastante</td>\n",
       "      <td>medio</td>\n",
       "    </tr>\n",
       "    <tr>\n",
       "      <th>1197</th>\n",
       "      <td>596602</td>\n",
       "      <td>0</td>\n",
       "      <td>0</td>\n",
       "      <td>0</td>\n",
       "      <td>0</td>\n",
       "      <td>1</td>\n",
       "      <td>0</td>\n",
       "      <td>0</td>\n",
       "      <td>0</td>\n",
       "      <td>0</td>\n",
       "      <td>1</td>\n",
       "      <td>1</td>\n",
       "      <td>1</td>\n",
       "      <td>0</td>\n",
       "      <td>0</td>\n",
       "      <td>0</td>\n",
       "      <td>0</td>\n",
       "      <td>0</td>\n",
       "      <td>medio</td>\n",
       "      <td>poco</td>\n",
       "      <td>medio</td>\n",
       "    </tr>\n",
       "    <tr>\n",
       "      <th>1198</th>\n",
       "      <td>518687</td>\n",
       "      <td>0</td>\n",
       "      <td>0</td>\n",
       "      <td>1</td>\n",
       "      <td>0</td>\n",
       "      <td>0</td>\n",
       "      <td>1</td>\n",
       "      <td>1</td>\n",
       "      <td>0</td>\n",
       "      <td>0</td>\n",
       "      <td>0</td>\n",
       "      <td>1</td>\n",
       "      <td>1</td>\n",
       "      <td>0</td>\n",
       "      <td>1</td>\n",
       "      <td>0</td>\n",
       "      <td>0</td>\n",
       "      <td>0</td>\n",
       "      <td>medio</td>\n",
       "      <td>medio</td>\n",
       "      <td>medio</td>\n",
       "    </tr>\n",
       "    <tr>\n",
       "      <th>1199</th>\n",
       "      <td>395121</td>\n",
       "      <td>0</td>\n",
       "      <td>0</td>\n",
       "      <td>0</td>\n",
       "      <td>0</td>\n",
       "      <td>1</td>\n",
       "      <td>0</td>\n",
       "      <td>0</td>\n",
       "      <td>1</td>\n",
       "      <td>0</td>\n",
       "      <td>1</td>\n",
       "      <td>0</td>\n",
       "      <td>1</td>\n",
       "      <td>0</td>\n",
       "      <td>0</td>\n",
       "      <td>0</td>\n",
       "      <td>0</td>\n",
       "      <td>0</td>\n",
       "      <td>poco</td>\n",
       "      <td>medio</td>\n",
       "      <td>medio</td>\n",
       "    </tr>\n",
       "  </tbody>\n",
       "</table>\n",
       "<p>1200 rows × 21 columns</p>\n",
       "</div>"
      ],
      "text/plain": [
       "           Id  Ansiosa  Depresiva  Suicida  Temas_autoimagen  \\\n",
       "0     1331246        1          1        0                 0   \n",
       "1     1301687        1          0        0                 0   \n",
       "2     1311242        0          0        0                 0   \n",
       "3     1362804        1          1        0                 1   \n",
       "4     1400860        0          1        1                 0   \n",
       "...       ...      ...        ...      ...               ...   \n",
       "1195   553037        0          0        0                 0   \n",
       "1196   579276        0          0        0                 0   \n",
       "1197   596602        0          0        0                 0   \n",
       "1198   518687        0          0        1                 0   \n",
       "1199   395121        0          0        0                 0   \n",
       "\n",
       "      Temas_vinculares  Temas_sentido  Temas_emoción  Temas_violencia  \\\n",
       "0                    1              0              0                1   \n",
       "1                    1              0              0                0   \n",
       "2                    0              0              0                0   \n",
       "3                    1              0              1                0   \n",
       "4                    1              0              0                0   \n",
       "...                ...            ...            ...              ...   \n",
       "1195                 1              0              0                0   \n",
       "1196                 0              0              0                1   \n",
       "1197                 1              0              0                0   \n",
       "1198                 0              1              1                0   \n",
       "1199                 1              0              0                1   \n",
       "\n",
       "      Temas_desempeño  Temas_diversidad  estrategia_validación  \\\n",
       "0                   0                 0                      0   \n",
       "1                   0                 0                      0   \n",
       "2                   0                 0                      0   \n",
       "3                   1                 0                      0   \n",
       "4                   0                 0                      0   \n",
       "...               ...               ...                    ...   \n",
       "1195                0                 1                      0   \n",
       "1196                0                 0                      0   \n",
       "1197                0                 1                      1   \n",
       "1198                0                 0                      1   \n",
       "1199                0                 1                      0   \n",
       "\n",
       "      estrategia_reflexionar  estrategia_recursos  estrategia_contención  \\\n",
       "0                          0                    0                      0   \n",
       "1                          0                    1                      1   \n",
       "2                          0                    0                      0   \n",
       "3                          0                    1                      1   \n",
       "4                          1                    1                      1   \n",
       "...                      ...                  ...                    ...   \n",
       "1195                       0                    1                      0   \n",
       "1196                       0                    1                      1   \n",
       "1197                       1                    0                      0   \n",
       "1198                       1                    0                      1   \n",
       "1199                       1                    0                      0   \n",
       "\n",
       "      estrategia_indagación  estrategia_educación  estrategia_derivación  \\\n",
       "0                         1                     0                      0   \n",
       "1                         1                     0                      0   \n",
       "2                         1                     0                      0   \n",
       "3                         1                     0                      0   \n",
       "4                         1                     0                      0   \n",
       "...                     ...                   ...                    ...   \n",
       "1195                      1                     0                      0   \n",
       "1196                      1                     0                      0   \n",
       "1197                      0                     0                      0   \n",
       "1198                      0                     0                      0   \n",
       "1199                      0                     0                      0   \n",
       "\n",
       "      recursos  gravedad     exito  \n",
       "0        medio     medio      poco  \n",
       "1     bastante     medio  bastante  \n",
       "2        medio     medio     medio  \n",
       "3        medio     medio      poco  \n",
       "4        medio     medio  bastante  \n",
       "...        ...       ...       ...  \n",
       "1195  bastante      poco      poco  \n",
       "1196     medio  bastante     medio  \n",
       "1197     medio      poco     medio  \n",
       "1198     medio     medio     medio  \n",
       "1199      poco     medio     medio  \n",
       "\n",
       "[1200 rows x 21 columns]"
      ]
     },
     "execution_count": 14,
     "metadata": {},
     "output_type": "execute_result"
    }
   ],
   "source": [
    "taggs"
   ]
  },
  {
   "cell_type": "code",
   "execution_count": 15,
   "metadata": {},
   "outputs": [
    {
     "data": {
      "text/plain": [
       "Id                                                               1713220639\n",
       "Ansiosa                                                                 288\n",
       "Depresiva                                                               468\n",
       "Suicida                                                                 432\n",
       "Temas_autoimagen                                                        391\n",
       "Temas_vinculares                                                        846\n",
       "Temas_sentido                                                           161\n",
       "Temas_emoción                                                           492\n",
       "Temas_violencia                                                         300\n",
       "Temas_desempeño                                                         200\n",
       "Temas_diversidad                                                        269\n",
       "estrategia_validación                                                   611\n",
       "estrategia_reflexionar                                                  251\n",
       "estrategia_recursos                                                     585\n",
       "estrategia_contención                                                   762\n",
       "estrategia_indagación                                                   998\n",
       "estrategia_educación                                                    238\n",
       "estrategia_derivación                                                   181\n",
       "recursos                  mediobastantemediomediomediomediomediomediopoc...\n",
       "gravedad                  mediomediomediomediomediobastantemediomediobas...\n",
       "exito                     pocobastantemediopocobastantebastantebastantem...\n",
       "dtype: object"
      ]
     },
     "execution_count": 15,
     "metadata": {},
     "output_type": "execute_result"
    }
   ],
   "source": [
    "taggs.sum()"
   ]
  },
  {
   "cell_type": "markdown",
   "metadata": {},
   "source": [
    "### Probando un random forest\n",
    "\n",
    "#### En esta parte veo, para cada uno de los temas, cual es el desempeño del clasificador en las 1000 conversaciones, cuales son los hiperparámetros optimizados, y cuales son las palabras predictoras"
   ]
  },
  {
   "cell_type": "code",
   "execution_count": 17,
   "metadata": {},
   "outputs": [],
   "source": [
    "from sklearn.feature_extraction.text import TfidfVectorizer\n",
    "vectorizer = TfidfVectorizer(min_df = 2,lowercase = True, ngram_range = (1,2), use_idf = True, stop_words=spn_stop)"
   ]
  },
  {
   "cell_type": "code",
   "execution_count": null,
   "metadata": {},
   "outputs": [],
   "source": [
    "from nltk.corpus import stopwords\n",
    "spn_stop = stopwords.words('spanish') + ['nn','xx']"
   ]
  },
  {
   "cell_type": "markdown",
   "metadata": {},
   "source": [
    "abajo puse dos casos: uno con el texto lemmatizado, otro no. Pero en ambos casos seleccioné sólo sustantivos.\n",
    "\n",
    "como la matriz de features es siempre la misma, la siguiente celda sirve para todos los clasificadores"
   ]
  },
  {
   "cell_type": "code",
   "execution_count": null,
   "metadata": {},
   "outputs": [],
   "source": [
    "corpus = taggs.texto.tolist()\n",
    "X = vectorizer.fit_transform(corpus)"
   ]
  },
  {
   "cell_type": "markdown",
   "metadata": {},
   "source": [
    "#### Optimizando hyperparametros"
   ]
  },
  {
   "cell_type": "code",
   "execution_count": null,
   "metadata": {},
   "outputs": [],
   "source": [
    "# Number of trees in random forest\n",
    "n_estimators = [int(x) for x in np.linspace(start = 100, stop = 400, num = 10)]\n",
    "# Number of features to consider at every split\n",
    "max_features = [100,125,150,175,200,250]"
   ]
  },
  {
   "cell_type": "code",
   "execution_count": null,
   "metadata": {},
   "outputs": [],
   "source": [
    "# Create the param grid\n",
    "param_grid = {'n_estimators': n_estimators,\n",
    "               'max_features': max_features}"
   ]
  },
  {
   "cell_type": "code",
   "execution_count": null,
   "metadata": {},
   "outputs": [],
   "source": [
    "from sklearn.ensemble import RandomForestClassifier\n",
    "rf_Model = RandomForestClassifier()"
   ]
  },
  {
   "cell_type": "code",
   "execution_count": null,
   "metadata": {},
   "outputs": [],
   "source": [
    "from sklearn.model_selection import RandomizedSearchCV\n",
    "rf_RandomGrid = RandomizedSearchCV(estimator = rf_Model, param_distributions = param_grid, cv = 10, verbose=2, n_jobs = 4)"
   ]
  },
  {
   "cell_type": "markdown",
   "metadata": {},
   "source": [
    "Desde acá se cambia la variable dependiente"
   ]
  },
  {
   "cell_type": "code",
   "execution_count": null,
   "metadata": {},
   "outputs": [],
   "source": [
    "y = taggs.Temas_emoción\n",
    "from sklearn.model_selection import train_test_split\n",
    "X_train, X_test, y_train, y_test = train_test_split(X, y, test_size=0.2, random_state=0)"
   ]
  },
  {
   "cell_type": "code",
   "execution_count": null,
   "metadata": {},
   "outputs": [],
   "source": [
    "rf_RandomGrid.fit(X_train, y_train)"
   ]
  },
  {
   "cell_type": "code",
   "execution_count": null,
   "metadata": {},
   "outputs": [],
   "source": [
    "param = rf_RandomGrid.best_params_"
   ]
  },
  {
   "cell_type": "code",
   "execution_count": null,
   "metadata": {},
   "outputs": [],
   "source": [
    "param"
   ]
  },
  {
   "cell_type": "code",
   "execution_count": null,
   "metadata": {},
   "outputs": [],
   "source": [
    "param_vinculares = {'n_estimators': 333, 'max_features': 125}\n",
    "param_autoimagen = {'n_estimators': 333, 'max_features': 250}\n",
    "param_diversidad = {'n_estimators': 366, 'max_features': 250}\n",
    "param_sentido = {'n_estimators': 233, 'max_features': 100}\n",
    "param_desempeño = {'n_estimators': 100, 'max_features': 250}\n",
    "param_violencia = {'n_estimators': 100, 'max_features': 250}\n",
    "param_emocion = {'n_estimators': 166, 'max_features': 150}"
   ]
  },
  {
   "cell_type": "code",
   "execution_count": null,
   "metadata": {},
   "outputs": [],
   "source": [
    "rf = RandomForestClassifier(**param)\n",
    "rf.fit(X_train,y_train)"
   ]
  },
  {
   "cell_type": "code",
   "execution_count": null,
   "metadata": {},
   "outputs": [],
   "source": [
    "from sklearn.metrics import accuracy_score\n",
    "from sklearn.metrics import confusion_matrix\n",
    "\n",
    "print(accuracy_score(y_test, rf.predict(X_test)))\n",
    "\n",
    "confusion_matrix(y_test, rf.predict(X_test))\n",
    "\n",
    "# accuracy vinculares :0.775\n",
    "# accuracy autoimagen :0.65\n",
    "# accuracy diversidad :0.865\n",
    "# accuracy sentido : 0.865   la matriz de confusión tiene un cero en 2,2 ??\n",
    "# accuracy desempeño : 0.745\n",
    "# accuracy violencia : 0.805\n",
    "# accuracy emoción : 0.59"
   ]
  },
  {
   "cell_type": "code",
   "execution_count": null,
   "metadata": {},
   "outputs": [],
   "source": [
    "feature_names = [i for i in range(X.shape[1])]\n",
    "importances = rf.feature_importances_\n",
    "std = np.std([tree.feature_importances_ for tree in rf.estimators_], axis=0)\n",
    "forest_importances = pd.Series(importances, index=feature_names)"
   ]
  },
  {
   "cell_type": "code",
   "execution_count": null,
   "metadata": {},
   "outputs": [],
   "source": [
    "rf.predict(X_test)"
   ]
  },
  {
   "cell_type": "code",
   "execution_count": null,
   "metadata": {},
   "outputs": [],
   "source": [
    "features = pd.DataFrame(forest_importances)\n",
    "features = features.reset_index()\n",
    "features['word']  = [vectorizer.get_feature_names()[x] for x in features.index]"
   ]
  },
  {
   "cell_type": "code",
   "execution_count": null,
   "metadata": {
    "scrolled": true
   },
   "outputs": [],
   "source": [
    "features.sort_values(0,ascending=False).head(40).word.tolist()"
   ]
  },
  {
   "cell_type": "code",
   "execution_count": null,
   "metadata": {},
   "outputs": [],
   "source": [
    "temas_vinculares = ['decir', 'solo', 'hablar', 'hacer', 'cosa', 'tener', 'gustar', 'casa', 'pasar', 'amigo', 'buen', 'ver', 'creer', 'sentir', 'ayuda', 'querer', 'llegar', 'saber', 'persona', 'vez', 'mamá', 'amiga', 'sentir solo', 'seguir', 'padre', 'necesitar', 'gracias', 'miedo', 'terminar', 'intentar', 'papá', 'familia', 'tema', 'mejor', 'año', 'dejar', 'forma', 'necesitar ayuda', 'tiempo', 'salir']\n",
    "temas_autoimagen = ['cuerpo', 'autoestima', 'feo', 'sentir', 'feliz', 'pensar', 'vez', 'año', 'dar', 'chile', 'cosa', 'querer', 'tener', 'inseguro', 'hacer', 'vida', 'saber', 'gana', 'odio', 'verdad', 'creer', 'negativo', 'gustar', 'decir', 'contar', 'ver', 'tiempo', 'asco', 'gente', 'gracias', 'buen', 'tonto', 'culpable', 'amigo', 'solo', 'dejar', 'lograr', 'intentar', 'tratar', 'hablar']\n",
    "temas_diversidad = ['gay', 'homosexual', 'hombre', 'orientación', 'mujer', 'sexual', 'tran', 'aceptar', 'bisexual', 'lesbiano', 'clo', 'clo set', 'género', 'set', 'orientación sexual', 'trans', 'chico', 'chica', 'identidad', 'homofóbico', 'femenino', 'bi', 'hetero', 'niño', 'salir clo', 'sexo', 'transgénero', 'mujer hombre', 'gustar chica', 'polola', 'hormona', 'joven', 'hombre mujer', 'duda', 'gustar hombre', 'binario', 'definir', 'gustar mujer', 'osear', 'gracias ayuda']\n",
    "temas_sentido    = ['vida', 'ayuda favor', 'suicidio', 'encontrar vida', 'morir', 'querer', 'favor', 'pensar', 'tener gana', 'llevar', 'tener sentir', 'intentar vez', 'suicidarse', 'peor', 'rendir', 'ayuda', 'desconocido', 'decir gustar', 'pensar suicidio', 'hacer', 'estudiar carrera', 'valer pena', 'decepcionar', 'dormir buen', 'intento', 'favor favor', 'querer seguir', 'daño querer', 'sentir sentir', 'tener', 'dema', 'vida hacer', 'sentir', 'vida tener', 'feliz', 'separado', 'inútil', 'gris', 'sociedad', 'motivación']\n",
    "temas_desempeño  = ['estudiar', 'trabajo', 'carrera', 'universidad', 'sentir', 'papá', 'tiempo', 'vez', 'tener', 'triste sentir', 'lograr', 'mamá', 'capaz', 'año', 'casa', 'odio', 'vivir', 'solo', 'hacer', 'gustar', 'gana', 'mente', 'pasar', 'punto', 'costar', 'medio', 'llorar', 'buen', 'cosa', 'esperar', 'peor', 'decepcionar', 'mejorar', 'estresar', 'problema', 'tener trabajo', 'pensar', 'saber', 'igual', 'cambio']\n",
    "temas_violencia  = ['dejar', 'pegar', 'sufrir', 'violencia', 'abuso', 'decir', 'hija', 'bullying', 'casa', 'golpear', 'molestar', 'carabinero', 'tia', 'bebé', 'ir tener', 'año', 'ex', 'papá', 'sufrir bullying', 'padre', 'querer salir', 'año sufrir', 'tio', 'bulling', 'abusado', 'cosa decir', 'verdad hablar', 'insultar', 'salir', 'sufrir depresión', 'niña', 'hermano', 'amenazar', 'crecer', 'detalle', 'colegio', 'vivir', 'dar', 'robar', 'buen']    \n",
    "temas_emocion    = ['crisis', 'llorar', 'tener', 'sentir', 'hacer', 'pasar', 'dar', 'vez', 'solo', 'ansiedad', 'miedo', 'año', 'mes', 'volver', 'aguantar', 'cosa', 'necesitar', 'hablar', 'familia','saber', 'pánico', 'tiempo', 'querer', 'horrible', 'día', 'pecho', 'matar', 'vida', 'casa', 'pastilla', 'ir', 'llegar', 'dia', 'pensar', 'angustia', 'gustar', 'creer', 'tener crisis', 'decir', 'rato'] "
   ]
  },
  {
   "cell_type": "code",
   "execution_count": null,
   "metadata": {},
   "outputs": [],
   "source": []
  },
  {
   "cell_type": "markdown",
   "metadata": {
    "scrolled": true
   },
   "source": [
    "## Viendo la evolución de las familias temáticas..."
   ]
  },
  {
   "cell_type": "markdown",
   "metadata": {},
   "source": [
    "### Vemos primero las conversaciones por fecha, en toda la base"
   ]
  },
  {
   "cell_type": "markdown",
   "metadata": {},
   "source": [
    "removiendo conversaciones de menos de 10 mensajes"
   ]
  },
  {
   "cell_type": "code",
   "execution_count": 18,
   "metadata": {},
   "outputs": [],
   "source": [
    "conver_size = full5.groupby(['Identifier']).content.size().reset_index()\n",
    "remove_id = conver_size[conver_size.content<=10].Identifier"
   ]
  },
  {
   "cell_type": "code",
   "execution_count": 19,
   "metadata": {},
   "outputs": [],
   "source": [
    "full5 = full5[~full5.Identifier.isin(remove_id)]"
   ]
  },
  {
   "cell_type": "code",
   "execution_count": 20,
   "metadata": {},
   "outputs": [
    {
     "data": {
      "text/plain": [
       "(635806, 10)"
      ]
     },
     "execution_count": 20,
     "metadata": {},
     "output_type": "execute_result"
    }
   ],
   "source": [
    "full5.shape"
   ]
  },
  {
   "cell_type": "markdown",
   "metadata": {},
   "source": [
    "creamos variable de \"año-mes\" y contamos luego la cantidad de conversaciones agrupando por esta variable"
   ]
  },
  {
   "cell_type": "code",
   "execution_count": 21,
   "metadata": {},
   "outputs": [],
   "source": [
    "full5['yearm'] = [datetime.strptime(x, '%Y-%m-%d %H:%M:%S').strftime('%Y-%m') for x in full5.message_created_at]\n",
    "full5 = full5[full5.yearm.astype(str)!='2021-01'] \n",
    "converdate = full5.groupby(['yearm']).Identifier.nunique().reset_index()\n",
    "converdate = converdate.rename(columns={'Identifier':'total'})"
   ]
  },
  {
   "cell_type": "markdown",
   "metadata": {},
   "source": [
    "De agosto 2017 a 12 de mayo de 2019 se atendieron 45 horas semanales.\n",
    "\n",
    "Lunes a viernes de 13.00 a 14.00 hrs. y 18.00 a 19.00\n",
    "Sábado y Domingo 13.00 a 14.00 y 19.00 a 23.00\n",
    "\n",
    "De 13 de mayo de 2019 a la fecha (actual) se atienden 40 horas semanales (se elimina la atención de los sábados).\n",
    "\n",
    "Lunes a viernes de 13.00 a 14.00 hrs. y 18.00 a 19.00\n",
    "Domingo 13.00 a 14.00 y 19.00 a 23.00"
   ]
  },
  {
   "cell_type": "code",
   "execution_count": 22,
   "metadata": {},
   "outputs": [
    {
     "data": {
      "text/plain": [
       "<AxesSubplot:>"
      ]
     },
     "execution_count": 22,
     "metadata": {},
     "output_type": "execute_result"
    },
    {
     "data": {
      "image/png": "[encoded data removed]",
      "text/plain": [
       "<Figure size 432x288 with 1 Axes>"
      ]
     },
     "metadata": {
      "needs_background": "light"
     },
     "output_type": "display_data"
    }
   ],
   "source": [
    "converdate.plot()"
   ]
  },
  {
   "cell_type": "code",
   "execution_count": 23,
   "metadata": {},
   "outputs": [
    {
     "data": {
      "text/html": [
       "<div>\n",
       "<style scoped>\n",
       "    .dataframe tbody tr th:only-of-type {\n",
       "        vertical-align: middle;\n",
       "    }\n",
       "\n",
       "    .dataframe tbody tr th {\n",
       "        vertical-align: top;\n",
       "    }\n",
       "\n",
       "    .dataframe thead th {\n",
       "        text-align: right;\n",
       "    }\n",
       "</style>\n",
       "<table border=\"1\" class=\"dataframe\">\n",
       "  <thead>\n",
       "    <tr style=\"text-align: right;\">\n",
       "      <th></th>\n",
       "      <th>yearm</th>\n",
       "      <th>total</th>\n",
       "    </tr>\n",
       "  </thead>\n",
       "  <tbody>\n",
       "    <tr>\n",
       "      <th>0</th>\n",
       "      <td>2018-01</td>\n",
       "      <td>108</td>\n",
       "    </tr>\n",
       "    <tr>\n",
       "      <th>1</th>\n",
       "      <td>2018-02</td>\n",
       "      <td>75</td>\n",
       "    </tr>\n",
       "    <tr>\n",
       "      <th>2</th>\n",
       "      <td>2018-03</td>\n",
       "      <td>136</td>\n",
       "    </tr>\n",
       "    <tr>\n",
       "      <th>3</th>\n",
       "      <td>2018-04</td>\n",
       "      <td>200</td>\n",
       "    </tr>\n",
       "    <tr>\n",
       "      <th>4</th>\n",
       "      <td>2018-05</td>\n",
       "      <td>418</td>\n",
       "    </tr>\n",
       "  </tbody>\n",
       "</table>\n",
       "</div>"
      ],
      "text/plain": [
       "     yearm  total\n",
       "0  2018-01    108\n",
       "1  2018-02     75\n",
       "2  2018-03    136\n",
       "3  2018-04    200\n",
       "4  2018-05    418"
      ]
     },
     "execution_count": 23,
     "metadata": {},
     "output_type": "execute_result"
    }
   ],
   "source": [
    "converdate.head()"
   ]
  },
  {
   "cell_type": "markdown",
   "metadata": {},
   "source": [
    "### Ahora vamos a ver la evolución de temas, pero dentro de las 1000\n",
    "\n",
    "para eso, primero contamos cuantas conversaciones tenemos por mes"
   ]
  },
  {
   "cell_type": "code",
   "execution_count": 24,
   "metadata": {},
   "outputs": [],
   "source": [
    "sample_date = full5.copy()\n",
    "sample_date = sample_date[sample_date.Identifier.isin(taggs.Id)]\n",
    "sample_date['yearm'] = [datetime.strptime(x, '%Y-%m-%d %H:%M:%S').strftime('%Y-%m') for x in sample_date.message_created_at]\n",
    "sample_date = sample_date[sample_date.yearm.astype(str)!='2021-01'] \n",
    "converdate_sample = sample_date.groupby(['yearm']).Identifier.nunique().reset_index()\n",
    "converdate_sample = converdate_sample.rename(columns={'Identifier':'total'})"
   ]
  },
  {
   "cell_type": "code",
   "execution_count": 25,
   "metadata": {},
   "outputs": [
    {
     "data": {
      "text/plain": [
       "<AxesSubplot:>"
      ]
     },
     "execution_count": 25,
     "metadata": {},
     "output_type": "execute_result"
    },
    {
     "data": {
      "image/png": "[encoded data removed]",
      "text/plain": [
       "<Figure size 432x288 with 1 Axes>"
      ]
     },
     "metadata": {
      "needs_background": "light"
     },
     "output_type": "display_data"
    }
   ],
   "source": [
    "converdate_sample.plot()"
   ]
  },
  {
   "cell_type": "code",
   "execution_count": 26,
   "metadata": {},
   "outputs": [
    {
     "data": {
      "text/html": [
       "<div>\n",
       "<style scoped>\n",
       "    .dataframe tbody tr th:only-of-type {\n",
       "        vertical-align: middle;\n",
       "    }\n",
       "\n",
       "    .dataframe tbody tr th {\n",
       "        vertical-align: top;\n",
       "    }\n",
       "\n",
       "    .dataframe thead th {\n",
       "        text-align: right;\n",
       "    }\n",
       "</style>\n",
       "<table border=\"1\" class=\"dataframe\">\n",
       "  <thead>\n",
       "    <tr style=\"text-align: right;\">\n",
       "      <th></th>\n",
       "      <th>yearm</th>\n",
       "      <th>total</th>\n",
       "    </tr>\n",
       "  </thead>\n",
       "  <tbody>\n",
       "    <tr>\n",
       "      <th>0</th>\n",
       "      <td>2018-01</td>\n",
       "      <td>28</td>\n",
       "    </tr>\n",
       "    <tr>\n",
       "      <th>1</th>\n",
       "      <td>2018-02</td>\n",
       "      <td>24</td>\n",
       "    </tr>\n",
       "    <tr>\n",
       "      <th>2</th>\n",
       "      <td>2018-03</td>\n",
       "      <td>32</td>\n",
       "    </tr>\n",
       "    <tr>\n",
       "      <th>3</th>\n",
       "      <td>2018-04</td>\n",
       "      <td>34</td>\n",
       "    </tr>\n",
       "    <tr>\n",
       "      <th>4</th>\n",
       "      <td>2018-05</td>\n",
       "      <td>38</td>\n",
       "    </tr>\n",
       "  </tbody>\n",
       "</table>\n",
       "</div>"
      ],
      "text/plain": [
       "     yearm  total\n",
       "0  2018-01     28\n",
       "1  2018-02     24\n",
       "2  2018-03     32\n",
       "3  2018-04     34\n",
       "4  2018-05     38"
      ]
     },
     "execution_count": 26,
     "metadata": {},
     "output_type": "execute_result"
    }
   ],
   "source": [
    "converdate_sample.head()"
   ]
  },
  {
   "cell_type": "code",
   "execution_count": 27,
   "metadata": {},
   "outputs": [],
   "source": [
    "taggs_date = taggs.merge(sample_date[['yearm','Identifier']].drop_duplicates(), left_on='Id', right_on='Identifier')"
   ]
  },
  {
   "cell_type": "code",
   "execution_count": 28,
   "metadata": {},
   "outputs": [
    {
     "data": {
      "text/plain": [
       "(1253, 23)"
      ]
     },
     "execution_count": 28,
     "metadata": {},
     "output_type": "execute_result"
    }
   ],
   "source": [
    "taggs_date.shape"
   ]
  },
  {
   "cell_type": "code",
   "execution_count": 29,
   "metadata": {},
   "outputs": [],
   "source": [
    "temas_tiempo_sample = taggs_date.groupby(['yearm']).sum().reset_index().drop(['Id','Identifier'],axis=1)\n",
    "temas_tiempo_sample = temas_tiempo_sample.merge(converdate_sample, on='yearm')"
   ]
  },
  {
   "cell_type": "code",
   "execution_count": 30,
   "metadata": {
    "scrolled": true
   },
   "outputs": [
    {
     "data": {
      "text/html": [
       "<div>\n",
       "<style scoped>\n",
       "    .dataframe tbody tr th:only-of-type {\n",
       "        vertical-align: middle;\n",
       "    }\n",
       "\n",
       "    .dataframe tbody tr th {\n",
       "        vertical-align: top;\n",
       "    }\n",
       "\n",
       "    .dataframe thead th {\n",
       "        text-align: right;\n",
       "    }\n",
       "</style>\n",
       "<table border=\"1\" class=\"dataframe\">\n",
       "  <thead>\n",
       "    <tr style=\"text-align: right;\">\n",
       "      <th></th>\n",
       "      <th>yearm</th>\n",
       "      <th>Ansiosa</th>\n",
       "      <th>Depresiva</th>\n",
       "      <th>Suicida</th>\n",
       "      <th>Temas_autoimagen</th>\n",
       "      <th>Temas_vinculares</th>\n",
       "      <th>Temas_sentido</th>\n",
       "      <th>Temas_emoción</th>\n",
       "      <th>Temas_violencia</th>\n",
       "      <th>Temas_desempeño</th>\n",
       "      <th>Temas_diversidad</th>\n",
       "      <th>estrategia_validación</th>\n",
       "      <th>estrategia_reflexionar</th>\n",
       "      <th>estrategia_recursos</th>\n",
       "      <th>estrategia_contención</th>\n",
       "      <th>estrategia_indagación</th>\n",
       "      <th>estrategia_educación</th>\n",
       "      <th>estrategia_derivación</th>\n",
       "      <th>total</th>\n",
       "    </tr>\n",
       "  </thead>\n",
       "  <tbody>\n",
       "    <tr>\n",
       "      <th>0</th>\n",
       "      <td>2018-01</td>\n",
       "      <td>7</td>\n",
       "      <td>15</td>\n",
       "      <td>13</td>\n",
       "      <td>10</td>\n",
       "      <td>22</td>\n",
       "      <td>2</td>\n",
       "      <td>12</td>\n",
       "      <td>9</td>\n",
       "      <td>4</td>\n",
       "      <td>9</td>\n",
       "      <td>17</td>\n",
       "      <td>5</td>\n",
       "      <td>13</td>\n",
       "      <td>12</td>\n",
       "      <td>18</td>\n",
       "      <td>7</td>\n",
       "      <td>5</td>\n",
       "      <td>28</td>\n",
       "    </tr>\n",
       "    <tr>\n",
       "      <th>1</th>\n",
       "      <td>2018-02</td>\n",
       "      <td>4</td>\n",
       "      <td>9</td>\n",
       "      <td>10</td>\n",
       "      <td>7</td>\n",
       "      <td>15</td>\n",
       "      <td>2</td>\n",
       "      <td>8</td>\n",
       "      <td>4</td>\n",
       "      <td>1</td>\n",
       "      <td>7</td>\n",
       "      <td>10</td>\n",
       "      <td>4</td>\n",
       "      <td>6</td>\n",
       "      <td>6</td>\n",
       "      <td>14</td>\n",
       "      <td>6</td>\n",
       "      <td>4</td>\n",
       "      <td>24</td>\n",
       "    </tr>\n",
       "    <tr>\n",
       "      <th>2</th>\n",
       "      <td>2018-03</td>\n",
       "      <td>7</td>\n",
       "      <td>18</td>\n",
       "      <td>15</td>\n",
       "      <td>14</td>\n",
       "      <td>22</td>\n",
       "      <td>7</td>\n",
       "      <td>13</td>\n",
       "      <td>5</td>\n",
       "      <td>4</td>\n",
       "      <td>11</td>\n",
       "      <td>18</td>\n",
       "      <td>11</td>\n",
       "      <td>13</td>\n",
       "      <td>13</td>\n",
       "      <td>20</td>\n",
       "      <td>6</td>\n",
       "      <td>3</td>\n",
       "      <td>32</td>\n",
       "    </tr>\n",
       "    <tr>\n",
       "      <th>3</th>\n",
       "      <td>2018-04</td>\n",
       "      <td>10</td>\n",
       "      <td>17</td>\n",
       "      <td>19</td>\n",
       "      <td>16</td>\n",
       "      <td>23</td>\n",
       "      <td>5</td>\n",
       "      <td>13</td>\n",
       "      <td>9</td>\n",
       "      <td>4</td>\n",
       "      <td>8</td>\n",
       "      <td>18</td>\n",
       "      <td>9</td>\n",
       "      <td>16</td>\n",
       "      <td>14</td>\n",
       "      <td>26</td>\n",
       "      <td>4</td>\n",
       "      <td>2</td>\n",
       "      <td>34</td>\n",
       "    </tr>\n",
       "    <tr>\n",
       "      <th>4</th>\n",
       "      <td>2018-05</td>\n",
       "      <td>6</td>\n",
       "      <td>10</td>\n",
       "      <td>22</td>\n",
       "      <td>10</td>\n",
       "      <td>32</td>\n",
       "      <td>5</td>\n",
       "      <td>9</td>\n",
       "      <td>9</td>\n",
       "      <td>2</td>\n",
       "      <td>6</td>\n",
       "      <td>16</td>\n",
       "      <td>4</td>\n",
       "      <td>19</td>\n",
       "      <td>18</td>\n",
       "      <td>20</td>\n",
       "      <td>4</td>\n",
       "      <td>2</td>\n",
       "      <td>38</td>\n",
       "    </tr>\n",
       "  </tbody>\n",
       "</table>\n",
       "</div>"
      ],
      "text/plain": [
       "     yearm  Ansiosa  Depresiva  Suicida  Temas_autoimagen  Temas_vinculares  \\\n",
       "0  2018-01        7         15       13                10                22   \n",
       "1  2018-02        4          9       10                 7                15   \n",
       "2  2018-03        7         18       15                14                22   \n",
       "3  2018-04       10         17       19                16                23   \n",
       "4  2018-05        6         10       22                10                32   \n",
       "\n",
       "   Temas_sentido  Temas_emoción  Temas_violencia  Temas_desempeño  \\\n",
       "0              2             12                9                4   \n",
       "1              2              8                4                1   \n",
       "2              7             13                5                4   \n",
       "3              5             13                9                4   \n",
       "4              5              9                9                2   \n",
       "\n",
       "   Temas_diversidad  estrategia_validación  estrategia_reflexionar  \\\n",
       "0                 9                     17                       5   \n",
       "1                 7                     10                       4   \n",
       "2                11                     18                      11   \n",
       "3                 8                     18                       9   \n",
       "4                 6                     16                       4   \n",
       "\n",
       "   estrategia_recursos  estrategia_contención  estrategia_indagación  \\\n",
       "0                   13                     12                     18   \n",
       "1                    6                      6                     14   \n",
       "2                   13                     13                     20   \n",
       "3                   16                     14                     26   \n",
       "4                   19                     18                     20   \n",
       "\n",
       "   estrategia_educación  estrategia_derivación  total  \n",
       "0                     7                      5     28  \n",
       "1                     6                      4     24  \n",
       "2                     6                      3     32  \n",
       "3                     4                      2     34  \n",
       "4                     4                      2     38  "
      ]
     },
     "execution_count": 30,
     "metadata": {},
     "output_type": "execute_result"
    }
   ],
   "source": [
    "temas_tiempo_sample.head()"
   ]
  },
  {
   "cell_type": "code",
   "execution_count": 31,
   "metadata": {},
   "outputs": [],
   "source": [
    "temas_tiempo_sample['autoimagenN'] = temas_tiempo_sample.Temas_autoimagen/temas_tiempo_sample.total\n",
    "temas_tiempo_sample['violenciaN'] = temas_tiempo_sample.Temas_violencia/temas_tiempo_sample.total\n",
    "temas_tiempo_sample['diversidadN'] = temas_tiempo_sample.Temas_diversidad/temas_tiempo_sample.total\n",
    "temas_tiempo_sample['desempeñoN'] = temas_tiempo_sample.Temas_desempeño/temas_tiempo_sample.total\n",
    "temas_tiempo_sample['sentidoN'] = temas_tiempo_sample.Temas_sentido/temas_tiempo_sample.total\n",
    "temas_tiempo_sample['vincularesN'] = temas_tiempo_sample.Temas_vinculares/temas_tiempo_sample.total\n",
    "temas_tiempo_sample['emociónN'] = temas_tiempo_sample.Temas_emoción/temas_tiempo_sample.total"
   ]
  },
  {
   "cell_type": "code",
   "execution_count": null,
   "metadata": {},
   "outputs": [],
   "source": []
  },
  {
   "cell_type": "markdown",
   "metadata": {},
   "source": [
    "### Aplicando diccionarios semilla para ver la evoluación de familias temáticas en todo el corpus "
   ]
  },
  {
   "cell_type": "code",
   "execution_count": 32,
   "metadata": {},
   "outputs": [],
   "source": [
    "short_autoimagen = ['cuerpo', 'autoestima', 'feo','fea', 'inseguro','insegura','odio', 'negativo', 'negativa','asco','arreglarme','agraciada','agraciado','atractivo','atractiva','rechazo','sirvo','sobro','comer','espejo', 'anormal','gorda','gordo','bonito','obesidad','obeso','obesa','autoimagen','corporal'] \n",
    "short_violencia = ['violaron','violación','violó','bullying', 'bulling', 'bullyng','abuso', 'abusa','abusó','abusaron', 'violencia', 'maltrato', 'acoso','acosa','acosan','agresión','pegar','pegan','pegaban', 'pegó','golpes','golpea','golpean','golpeaban','gritos','humilla','humillan']    \n",
    "short_diversidad = ['gay', 'homosexual',  'orientación',  'trans', 'bisexual', 'lesbiana', 'closet',  'género',  'homofóbico', 'homofóbica', 'homofóbicos', 'hetero', 'transgénero', 'binario','hermafrodita','intersexual','fluido','bigénero','agénero','demisexual','pansexual']\n",
    "short_sentido = ['miedos', 'fingir','rendí','rindo', 'rendirse', 'medioambiente', 'desesperanza', 'ecológico','ecológica' ,  'decepcionado', 'decepcionada','desmotivado' , 'desmotivada','esperanzado','esperanzada','desesperanzado','desesperanzada','motivación','motive' ] \n",
    "short_vinculares = [  'amigo', 'amigos', 'amiga', 'amigas', 'sola','padre', 'papá', 'familia','familiar', 'papás','padres', 'pareja','pololo','polola', 'discutir','discutí','discutimos','terminó', 'acabó','amigues', 'amigxs', 'hermanos','mamá', 'madre', 'terminamos',  'tóxica',  'casa']\n",
    "short_emocion = ['crisis', 'llorar', 'llanto', 'ansiedad',  'pánico', 'pecho',  'angustia', 'respiración', 'respirar', 'sudando','temblor', 'tiembla', 'tiemblan', 'pulso','miedos']\n",
    "short_desempeño = ['carrera', 'estudio', 'sueldo', 'universidad', 'notas' , 'psu' , 'insuficiente', 'trabajo' , 'trabajar', 'plata' , 'dinero', 'rendimiento', 'insuficientes', 'esfuerzo', 'prueba', 'esforzarme', 'preu' ]\n"
   ]
  },
  {
   "cell_type": "code",
   "execution_count": 33,
   "metadata": {},
   "outputs": [
    {
     "name": "stdout",
     "output_type": "stream",
     "text": [
      "Wall time: 40.7 s\n"
     ]
    }
   ],
   "source": [
    "%%time\n",
    "autoimagen = []\n",
    "violencia = []\n",
    "diversidad = []\n",
    "desempeño = []\n",
    "sentido = []\n",
    "vinculares = []\n",
    "emocion = []\n",
    "all_id = full5.Identifier.tolist()\n",
    "all_id = list(set(all_id))\n",
    "for idd in all_id:\n",
    "  df_texto = full5[full5.Identifier==idd].reset_index(drop=True)\n",
    "  texto = []\n",
    "  for ix in range(df_texto.shape[0]):\n",
    "    if df_texto.person_type[ix]=='Client':\n",
    "        mytext = df_texto.content[ix]\n",
    "        if isinstance(mytext,str):\n",
    "          mytext = mytext.lower()\n",
    "          mytext = mytext.replace('clo set','closet')\n",
    "          mytext = mytext.replace(',',' , ')\n",
    "          mytext = mytext.replace('.',' . ')\n",
    "          mytext = mytext.replace('(',' ( ')\n",
    "          mytext = mytext.replace(')',' ) ')\n",
    "          mytext = re.sub('\\W+',' ', mytext)\n",
    "          texto.append(mytext)\n",
    "  texto = ' '.join(texto)      \n",
    "  aa = len(list(set(texto.split()) & set(short_autoimagen)) ) \n",
    "  vv = len(list(set(texto.split()) & set(short_violencia)) )\n",
    "  dd = len(list(set(texto.split()) & set(short_diversidad)) )\n",
    "  de = len(list(set(texto.split()) & set(short_desempeño)) )\n",
    "  ss = len(list(set(texto.split()) & set(short_sentido)) )\n",
    "  vn = len(list(set(texto.split()) & set(short_vinculares)) )\n",
    "  ee = len(list(set(texto.split()) & set(short_emocion)) )\n",
    "  \n",
    "  autoimagen.append(aa)\n",
    "  violencia.append(vv)\n",
    "  diversidad.append(dd)\n",
    "  desempeño.append(de)\n",
    "  sentido.append(ss)\n",
    "  vinculares.append(vn)\n",
    "  emocion.append(ee)"
   ]
  },
  {
   "cell_type": "code",
   "execution_count": 34,
   "metadata": {},
   "outputs": [],
   "source": [
    "auto_textos = pd.DataFrame({'Id': all_id, 'autoimagen': autoimagen, 'violencia':violencia, 'diversidad':diversidad,'desempeño':desempeño,'sentido':sentido,'vinculares':vinculares, 'emocion':emocion })\n",
    "auto_textos.autoimagen = [1 if x>0 else 0 for x in auto_textos.autoimagen]\n",
    "auto_textos.violencia = [1 if x>0 else 0 for x in auto_textos.violencia]\n",
    "auto_textos.diversidad = [1 if x>0 else 0 for x in auto_textos.diversidad]\n",
    "auto_textos.desempeño = [1 if x>0 else 0 for x in auto_textos.desempeño]\n",
    "auto_textos.sentido = [1 if x>0 else 0 for x in auto_textos.sentido]\n",
    "auto_textos.vinculares = [1 if x>0 else 0 for x in auto_textos.vinculares]\n",
    "auto_textos.emocion = [1 if x>0 else 0 for x in auto_textos.emocion]"
   ]
  },
  {
   "cell_type": "markdown",
   "metadata": {},
   "source": [
    "Esta es la proporción en las 1000 conversaciones taggeadas\n",
    "\n",
    "Temas_autoimagen                                                        382  \n",
    "\n",
    "Temas_vinculares                                                        724\n",
    "\n",
    "Temas_sentido                                                           149\n",
    "\n",
    "Temas_emoción                                                           465\n",
    "\n",
    "Temas_violencia                                                         213\n",
    "\n",
    "Temas_desempeño                                                         321\n",
    "\n",
    "Temas_diversidad                                                        165"
   ]
  },
  {
   "cell_type": "code",
   "execution_count": 35,
   "metadata": {},
   "outputs": [
    {
     "name": "stdout",
     "output_type": "stream",
     "text": [
      "Autoimagen:  0.33\n",
      "Violencia:  0.15\n",
      "Diversidad:  0.16\n",
      "Desempeño:  0.32\n",
      "Sentido:  0.06\n",
      "Vinculares:  0.78\n",
      "Emoción:  0.35\n"
     ]
    }
   ],
   "source": [
    "print('Autoimagen: ' ,round(auto_textos[auto_textos.autoimagen>0].shape[0]/auto_textos.shape[0],2)) # 33\n",
    "print('Violencia: ' ,round(auto_textos[auto_textos.violencia>0].shape[0]/auto_textos.shape[0],2)) # 15\n",
    "print('Diversidad: ' ,round(auto_textos[auto_textos.diversidad>0].shape[0]/auto_textos.shape[0],2)) # 16\n",
    "print('Desempeño: ' ,round(auto_textos[auto_textos.desempeño>0].shape[0]/auto_textos.shape[0],2)) # 32\n",
    "print('Sentido: ' ,round(auto_textos[auto_textos.sentido>0].shape[0]/auto_textos.shape[0],2)) # 6\n",
    "print('Vinculares: ' ,round(auto_textos[auto_textos.vinculares>0].shape[0]/auto_textos.shape[0],2 )) # 78\n",
    "print('Emoción: ' ,round(auto_textos[auto_textos.emocion>0].shape[0]/auto_textos.shape[0],2))  # 35"
   ]
  },
  {
   "cell_type": "code",
   "execution_count": 36,
   "metadata": {},
   "outputs": [],
   "source": [
    "auto_textos = auto_textos.merge(full5[['yearm','Identifier']].drop_duplicates(), left_on='Id', right_on='Identifier')"
   ]
  },
  {
   "cell_type": "code",
   "execution_count": 37,
   "metadata": {},
   "outputs": [
    {
     "data": {
      "text/html": [
       "<div>\n",
       "<style scoped>\n",
       "    .dataframe tbody tr th:only-of-type {\n",
       "        vertical-align: middle;\n",
       "    }\n",
       "\n",
       "    .dataframe tbody tr th {\n",
       "        vertical-align: top;\n",
       "    }\n",
       "\n",
       "    .dataframe thead th {\n",
       "        text-align: right;\n",
       "    }\n",
       "</style>\n",
       "<table border=\"1\" class=\"dataframe\">\n",
       "  <thead>\n",
       "    <tr style=\"text-align: right;\">\n",
       "      <th></th>\n",
       "      <th>Id</th>\n",
       "      <th>autoimagen</th>\n",
       "      <th>violencia</th>\n",
       "      <th>diversidad</th>\n",
       "      <th>desempeño</th>\n",
       "      <th>sentido</th>\n",
       "      <th>vinculares</th>\n",
       "      <th>emocion</th>\n",
       "      <th>yearm</th>\n",
       "      <th>Identifier</th>\n",
       "    </tr>\n",
       "  </thead>\n",
       "  <tbody>\n",
       "    <tr>\n",
       "      <th>0</th>\n",
       "      <td>589825.0</td>\n",
       "      <td>1</td>\n",
       "      <td>0</td>\n",
       "      <td>1</td>\n",
       "      <td>0</td>\n",
       "      <td>0</td>\n",
       "      <td>1</td>\n",
       "      <td>0</td>\n",
       "      <td>2018-07</td>\n",
       "      <td>589825.0</td>\n",
       "    </tr>\n",
       "    <tr>\n",
       "      <th>1</th>\n",
       "      <td>1703949.0</td>\n",
       "      <td>0</td>\n",
       "      <td>0</td>\n",
       "      <td>0</td>\n",
       "      <td>1</td>\n",
       "      <td>0</td>\n",
       "      <td>1</td>\n",
       "      <td>0</td>\n",
       "      <td>2020-01</td>\n",
       "      <td>1703949.0</td>\n",
       "    </tr>\n",
       "    <tr>\n",
       "      <th>2</th>\n",
       "      <td>1277966.0</td>\n",
       "      <td>0</td>\n",
       "      <td>0</td>\n",
       "      <td>0</td>\n",
       "      <td>0</td>\n",
       "      <td>0</td>\n",
       "      <td>0</td>\n",
       "      <td>0</td>\n",
       "      <td>2019-06</td>\n",
       "      <td>1277966.0</td>\n",
       "    </tr>\n",
       "    <tr>\n",
       "      <th>3</th>\n",
       "      <td>2293776.0</td>\n",
       "      <td>1</td>\n",
       "      <td>0</td>\n",
       "      <td>0</td>\n",
       "      <td>1</td>\n",
       "      <td>0</td>\n",
       "      <td>1</td>\n",
       "      <td>1</td>\n",
       "      <td>2020-06</td>\n",
       "      <td>2293776.0</td>\n",
       "    </tr>\n",
       "    <tr>\n",
       "      <th>4</th>\n",
       "      <td>1703962.0</td>\n",
       "      <td>0</td>\n",
       "      <td>0</td>\n",
       "      <td>0</td>\n",
       "      <td>1</td>\n",
       "      <td>0</td>\n",
       "      <td>1</td>\n",
       "      <td>1</td>\n",
       "      <td>2020-01</td>\n",
       "      <td>1703962.0</td>\n",
       "    </tr>\n",
       "  </tbody>\n",
       "</table>\n",
       "</div>"
      ],
      "text/plain": [
       "          Id  autoimagen  violencia  diversidad  desempeño  sentido  \\\n",
       "0   589825.0           1          0           1          0        0   \n",
       "1  1703949.0           0          0           0          1        0   \n",
       "2  1277966.0           0          0           0          0        0   \n",
       "3  2293776.0           1          0           0          1        0   \n",
       "4  1703962.0           0          0           0          1        0   \n",
       "\n",
       "   vinculares  emocion    yearm  Identifier  \n",
       "0           1        0  2018-07    589825.0  \n",
       "1           1        0  2020-01   1703949.0  \n",
       "2           0        0  2019-06   1277966.0  \n",
       "3           1        1  2020-06   2293776.0  \n",
       "4           1        1  2020-01   1703962.0  "
      ]
     },
     "execution_count": 37,
     "metadata": {},
     "output_type": "execute_result"
    }
   ],
   "source": [
    "auto_textos.head()"
   ]
  },
  {
   "cell_type": "code",
   "execution_count": 38,
   "metadata": {},
   "outputs": [
    {
     "data": {
      "text/plain": [
       "(11228, 10)"
      ]
     },
     "execution_count": 38,
     "metadata": {},
     "output_type": "execute_result"
    }
   ],
   "source": [
    "auto_textos.shape"
   ]
  },
  {
   "cell_type": "markdown",
   "metadata": {},
   "source": [
    "### Para evaluar diccionarios semilla, vamos a comparar con conversaciones taggeadas"
   ]
  },
  {
   "cell_type": "code",
   "execution_count": 39,
   "metadata": {},
   "outputs": [
    {
     "data": {
      "text/html": [
       "<div>\n",
       "<style scoped>\n",
       "    .dataframe tbody tr th:only-of-type {\n",
       "        vertical-align: middle;\n",
       "    }\n",
       "\n",
       "    .dataframe tbody tr th {\n",
       "        vertical-align: top;\n",
       "    }\n",
       "\n",
       "    .dataframe thead th {\n",
       "        text-align: right;\n",
       "    }\n",
       "</style>\n",
       "<table border=\"1\" class=\"dataframe\">\n",
       "  <thead>\n",
       "    <tr style=\"text-align: right;\">\n",
       "      <th></th>\n",
       "      <th>Id</th>\n",
       "      <th>Ansiosa</th>\n",
       "      <th>Depresiva</th>\n",
       "      <th>Suicida</th>\n",
       "      <th>Temas_autoimagen</th>\n",
       "      <th>Temas_vinculares</th>\n",
       "      <th>Temas_sentido</th>\n",
       "      <th>Temas_emoción</th>\n",
       "      <th>Temas_violencia</th>\n",
       "      <th>Temas_desempeño</th>\n",
       "      <th>Temas_diversidad</th>\n",
       "      <th>estrategia_validación</th>\n",
       "      <th>estrategia_reflexionar</th>\n",
       "      <th>estrategia_recursos</th>\n",
       "      <th>estrategia_contención</th>\n",
       "      <th>estrategia_indagación</th>\n",
       "      <th>estrategia_educación</th>\n",
       "      <th>estrategia_derivación</th>\n",
       "      <th>recursos</th>\n",
       "      <th>gravedad</th>\n",
       "      <th>exito</th>\n",
       "    </tr>\n",
       "  </thead>\n",
       "  <tbody>\n",
       "    <tr>\n",
       "      <th>0</th>\n",
       "      <td>1331246</td>\n",
       "      <td>1</td>\n",
       "      <td>1</td>\n",
       "      <td>0</td>\n",
       "      <td>0</td>\n",
       "      <td>1</td>\n",
       "      <td>0</td>\n",
       "      <td>0</td>\n",
       "      <td>1</td>\n",
       "      <td>0</td>\n",
       "      <td>0</td>\n",
       "      <td>0</td>\n",
       "      <td>0</td>\n",
       "      <td>0</td>\n",
       "      <td>0</td>\n",
       "      <td>1</td>\n",
       "      <td>0</td>\n",
       "      <td>0</td>\n",
       "      <td>medio</td>\n",
       "      <td>medio</td>\n",
       "      <td>poco</td>\n",
       "    </tr>\n",
       "    <tr>\n",
       "      <th>1</th>\n",
       "      <td>1301687</td>\n",
       "      <td>1</td>\n",
       "      <td>0</td>\n",
       "      <td>0</td>\n",
       "      <td>0</td>\n",
       "      <td>1</td>\n",
       "      <td>0</td>\n",
       "      <td>0</td>\n",
       "      <td>0</td>\n",
       "      <td>0</td>\n",
       "      <td>0</td>\n",
       "      <td>0</td>\n",
       "      <td>0</td>\n",
       "      <td>1</td>\n",
       "      <td>1</td>\n",
       "      <td>1</td>\n",
       "      <td>0</td>\n",
       "      <td>0</td>\n",
       "      <td>bastante</td>\n",
       "      <td>medio</td>\n",
       "      <td>bastante</td>\n",
       "    </tr>\n",
       "    <tr>\n",
       "      <th>2</th>\n",
       "      <td>1311242</td>\n",
       "      <td>0</td>\n",
       "      <td>0</td>\n",
       "      <td>0</td>\n",
       "      <td>0</td>\n",
       "      <td>0</td>\n",
       "      <td>0</td>\n",
       "      <td>0</td>\n",
       "      <td>0</td>\n",
       "      <td>0</td>\n",
       "      <td>0</td>\n",
       "      <td>0</td>\n",
       "      <td>0</td>\n",
       "      <td>0</td>\n",
       "      <td>0</td>\n",
       "      <td>1</td>\n",
       "      <td>0</td>\n",
       "      <td>0</td>\n",
       "      <td>medio</td>\n",
       "      <td>medio</td>\n",
       "      <td>medio</td>\n",
       "    </tr>\n",
       "    <tr>\n",
       "      <th>3</th>\n",
       "      <td>1362804</td>\n",
       "      <td>1</td>\n",
       "      <td>1</td>\n",
       "      <td>0</td>\n",
       "      <td>1</td>\n",
       "      <td>1</td>\n",
       "      <td>0</td>\n",
       "      <td>1</td>\n",
       "      <td>0</td>\n",
       "      <td>1</td>\n",
       "      <td>0</td>\n",
       "      <td>0</td>\n",
       "      <td>0</td>\n",
       "      <td>1</td>\n",
       "      <td>1</td>\n",
       "      <td>1</td>\n",
       "      <td>0</td>\n",
       "      <td>0</td>\n",
       "      <td>medio</td>\n",
       "      <td>medio</td>\n",
       "      <td>poco</td>\n",
       "    </tr>\n",
       "    <tr>\n",
       "      <th>4</th>\n",
       "      <td>1400860</td>\n",
       "      <td>0</td>\n",
       "      <td>1</td>\n",
       "      <td>1</td>\n",
       "      <td>0</td>\n",
       "      <td>1</td>\n",
       "      <td>0</td>\n",
       "      <td>0</td>\n",
       "      <td>0</td>\n",
       "      <td>0</td>\n",
       "      <td>0</td>\n",
       "      <td>0</td>\n",
       "      <td>1</td>\n",
       "      <td>1</td>\n",
       "      <td>1</td>\n",
       "      <td>1</td>\n",
       "      <td>0</td>\n",
       "      <td>0</td>\n",
       "      <td>medio</td>\n",
       "      <td>medio</td>\n",
       "      <td>bastante</td>\n",
       "    </tr>\n",
       "  </tbody>\n",
       "</table>\n",
       "</div>"
      ],
      "text/plain": [
       "        Id  Ansiosa  Depresiva  Suicida  Temas_autoimagen  Temas_vinculares  \\\n",
       "0  1331246        1          1        0                 0                 1   \n",
       "1  1301687        1          0        0                 0                 1   \n",
       "2  1311242        0          0        0                 0                 0   \n",
       "3  1362804        1          1        0                 1                 1   \n",
       "4  1400860        0          1        1                 0                 1   \n",
       "\n",
       "   Temas_sentido  Temas_emoción  Temas_violencia  Temas_desempeño  \\\n",
       "0              0              0                1                0   \n",
       "1              0              0                0                0   \n",
       "2              0              0                0                0   \n",
       "3              0              1                0                1   \n",
       "4              0              0                0                0   \n",
       "\n",
       "   Temas_diversidad  estrategia_validación  estrategia_reflexionar  \\\n",
       "0                 0                      0                       0   \n",
       "1                 0                      0                       0   \n",
       "2                 0                      0                       0   \n",
       "3                 0                      0                       0   \n",
       "4                 0                      0                       1   \n",
       "\n",
       "   estrategia_recursos  estrategia_contención  estrategia_indagación  \\\n",
       "0                    0                      0                      1   \n",
       "1                    1                      1                      1   \n",
       "2                    0                      0                      1   \n",
       "3                    1                      1                      1   \n",
       "4                    1                      1                      1   \n",
       "\n",
       "   estrategia_educación  estrategia_derivación  recursos gravedad     exito  \n",
       "0                     0                      0     medio    medio      poco  \n",
       "1                     0                      0  bastante    medio  bastante  \n",
       "2                     0                      0     medio    medio     medio  \n",
       "3                     0                      0     medio    medio      poco  \n",
       "4                     0                      0     medio    medio  bastante  "
      ]
     },
     "execution_count": 39,
     "metadata": {},
     "output_type": "execute_result"
    }
   ],
   "source": [
    "taggs.head()"
   ]
  },
  {
   "cell_type": "code",
   "execution_count": 40,
   "metadata": {},
   "outputs": [],
   "source": [
    "taggs_dic = auto_textos[auto_textos.Id.isin(taggs.Id)]"
   ]
  },
  {
   "cell_type": "code",
   "execution_count": 41,
   "metadata": {},
   "outputs": [
    {
     "data": {
      "text/plain": [
       "(1253, 10)"
      ]
     },
     "execution_count": 41,
     "metadata": {},
     "output_type": "execute_result"
    }
   ],
   "source": [
    "taggs_dic.shape"
   ]
  },
  {
   "cell_type": "code",
   "execution_count": 42,
   "metadata": {},
   "outputs": [
    {
     "data": {
      "text/plain": [
       "1196"
      ]
     },
     "execution_count": 42,
     "metadata": {},
     "output_type": "execute_result"
    }
   ],
   "source": [
    "len(taggs_dic.Id.unique())"
   ]
  },
  {
   "cell_type": "markdown",
   "metadata": {},
   "source": [
    "### Emoción"
   ]
  },
  {
   "cell_type": "code",
   "execution_count": 43,
   "metadata": {},
   "outputs": [],
   "source": [
    "emocion = taggs[['Temas_emoción','Id']].merge(taggs_dic[['emocion','Id']])"
   ]
  },
  {
   "cell_type": "code",
   "execution_count": 44,
   "metadata": {},
   "outputs": [
    {
     "name": "stdout",
     "output_type": "stream",
     "text": [
      "accuracy:  0.6624102154828412\n",
      "precision:  0.6108597285067874\n",
      "recall:  0.5182341650671785\n"
     ]
    }
   ],
   "source": [
    "TP = emocion[(emocion.Temas_emoción==1) & (emocion.emocion==1)].shape[0]\n",
    "FP = emocion[(emocion.Temas_emoción==0) & (emocion.emocion==1)].shape[0]\n",
    "TN = emocion[(emocion.Temas_emoción==0) & (emocion.emocion==0)].shape[0]\n",
    "FN = emocion[(emocion.Temas_emoción==1) & (emocion.emocion==0)].shape[0]\n",
    "accuracy = (TP+TN) / (TP + FP + TN + FN )\n",
    "precision = TP / (TP + FP)\n",
    "recall  = TP / (TP + FN)\n",
    "print('accuracy: ',accuracy) \n",
    "print('precision: ',precision) \n",
    "print('recall: ',recall) "
   ]
  },
  {
   "cell_type": "code",
   "execution_count": 45,
   "metadata": {},
   "outputs": [
    {
     "data": {
      "text/plain": [
       "830"
      ]
     },
     "execution_count": 45,
     "metadata": {},
     "output_type": "execute_result"
    }
   ],
   "source": [
    "sum((emocion.Temas_emoción - emocion.emocion)==0) "
   ]
  },
  {
   "cell_type": "code",
   "execution_count": 46,
   "metadata": {},
   "outputs": [
    {
     "data": {
      "text/plain": [
       "251"
      ]
     },
     "execution_count": 46,
     "metadata": {},
     "output_type": "execute_result"
    }
   ],
   "source": [
    "## CASO 1, fueron taggeados como emoción por los taggeadores, pero no por el diccionario\n",
    "sum((emocion.Temas_emoción - emocion.emocion)>0) "
   ]
  },
  {
   "cell_type": "code",
   "execution_count": 47,
   "metadata": {},
   "outputs": [
    {
     "data": {
      "text/plain": [
       "172"
      ]
     },
     "execution_count": 47,
     "metadata": {},
     "output_type": "execute_result"
    }
   ],
   "source": [
    "## CASO 2, fue clasificado como emoción por el diccionario pero no por los taggeadores\n",
    "sum((emocion.Temas_emoción - emocion.emocion)<0)"
   ]
  },
  {
   "cell_type": "code",
   "execution_count": 48,
   "metadata": {},
   "outputs": [],
   "source": [
    "caso1 = emocion[(emocion.Temas_emoción - emocion.emocion)>0].Id.tolist()\n",
    "caso2 = emocion[(emocion.Temas_emoción - emocion.emocion)<0].Id.tolist() "
   ]
  },
  {
   "cell_type": "code",
   "execution_count": 49,
   "metadata": {},
   "outputs": [],
   "source": [
    "#full5[(full5.Identifier==caso1[19]) & (full5.person_type=='Client')].reset_index(drop=True).style.set_properties(subset=['content2'], **{'width': '600px'})"
   ]
  },
  {
   "cell_type": "code",
   "execution_count": 50,
   "metadata": {},
   "outputs": [
    {
     "name": "stdout",
     "output_type": "stream",
     "text": [
      "crisis 68 26\n",
      "llorar 121 64\n",
      "llanto 15 4\n",
      "ansiedad 88 63\n",
      "pánico 40 21\n",
      "pecho 33 18\n",
      "angustia 49 51\n",
      "respiración 7 2\n",
      "respirar 31 8\n",
      "sudando 0 0\n",
      "temblor 0 1\n",
      "tiembla 2 0\n",
      "tiemblan 0 0\n",
      "pulso 16 5\n",
      "miedos 11 10\n"
     ]
    }
   ],
   "source": [
    "all_id = taggs.Id.tolist()\n",
    "all_id = list(set(all_id))\n",
    "for word in short_emocion:\n",
    "  count=0\n",
    "  count_no=0\n",
    "  for idd in all_id:\n",
    "    df_texto = full5[full5.Identifier==idd].reset_index(drop=True)\n",
    "    texto = []\n",
    "    for ix in range(df_texto.shape[0]):\n",
    "      if df_texto.person_type[ix]=='Client':\n",
    "        mytext = df_texto.content[ix]\n",
    "        if isinstance(mytext,str):\n",
    "          mytext = mytext.lower()\n",
    "          mytext = mytext.replace(',',' , ')\n",
    "          mytext = mytext.replace('.',' . ')\n",
    "          mytext = mytext.replace('(',' ( ')\n",
    "          mytext = mytext.replace(')',' ) ')\n",
    "          mytext = re.sub('\\W+',' ', mytext)\n",
    "          texto.append(mytext)\n",
    "    texto = ' '.join(texto)  \n",
    "    tema = taggs[taggs.Id==idd].Temas_emoción.tolist()[0]\n",
    "    if (word in texto) and (tema==1):\n",
    "       count +=1\n",
    "    if (word in texto) and (tema==0):\n",
    "       count_no +=1\n",
    "  print(word,count,count_no) "
   ]
  },
  {
   "cell_type": "markdown",
   "metadata": {},
   "source": [
    "### Vinculares"
   ]
  },
  {
   "cell_type": "code",
   "execution_count": 51,
   "metadata": {},
   "outputs": [],
   "source": [
    "vinculares = taggs[['Temas_vinculares','Id']].merge(taggs_dic[['vinculares','Id']])"
   ]
  },
  {
   "cell_type": "code",
   "execution_count": 52,
   "metadata": {},
   "outputs": [
    {
     "name": "stdout",
     "output_type": "stream",
     "text": [
      "accuracy:  0.8068635275339185\n",
      "precision:  0.8284561049445005\n",
      "recall:  0.9193729003359462\n"
     ]
    }
   ],
   "source": [
    "TP = vinculares[(vinculares.Temas_vinculares==1) & (vinculares.vinculares==1)].shape[0]\n",
    "FP = vinculares[(vinculares.Temas_vinculares==0) & (vinculares.vinculares==1)].shape[0]\n",
    "TN = vinculares[(vinculares.Temas_vinculares==0) & (vinculares.vinculares==0)].shape[0]\n",
    "FN = vinculares[(vinculares.Temas_vinculares==1) & (vinculares.vinculares==0)].shape[0]\n",
    "\n",
    "accuracy = (TP+TN) / (TP + FP + TN + FN )\n",
    "precision = TP / (TP + FP)\n",
    "recall  = TP / (TP + FN)\n",
    "print('accuracy: ',accuracy) \n",
    "print('precision: ',precision) \n",
    "print('recall: ',recall) "
   ]
  },
  {
   "cell_type": "code",
   "execution_count": 53,
   "metadata": {},
   "outputs": [
    {
     "data": {
      "text/plain": [
       "1011"
      ]
     },
     "execution_count": 53,
     "metadata": {},
     "output_type": "execute_result"
    }
   ],
   "source": [
    "sum((vinculares.Temas_vinculares - vinculares.vinculares)==0) "
   ]
  },
  {
   "cell_type": "code",
   "execution_count": 54,
   "metadata": {},
   "outputs": [
    {
     "data": {
      "text/plain": [
       "72"
      ]
     },
     "execution_count": 54,
     "metadata": {},
     "output_type": "execute_result"
    }
   ],
   "source": [
    "## CASO 1,  fueron taggeados como vinculares por los taggeadores, pero no por el diccionario\n",
    "sum((vinculares.Temas_vinculares - vinculares.vinculares)>0) "
   ]
  },
  {
   "cell_type": "code",
   "execution_count": 55,
   "metadata": {},
   "outputs": [
    {
     "data": {
      "text/plain": [
       "170"
      ]
     },
     "execution_count": 55,
     "metadata": {},
     "output_type": "execute_result"
    }
   ],
   "source": [
    "## CASO 2, fue clasificado como vincular por el diccionario pero no por los taggeadores\n",
    "sum((vinculares.Temas_vinculares - vinculares.vinculares)<0)"
   ]
  },
  {
   "cell_type": "code",
   "execution_count": 56,
   "metadata": {},
   "outputs": [],
   "source": [
    "caso1 = vinculares[(vinculares.Temas_vinculares - vinculares.vinculares)>0].Id.tolist()\n",
    "caso2 = vinculares[(vinculares.Temas_vinculares - vinculares.vinculares)<0].Id.tolist()"
   ]
  },
  {
   "cell_type": "code",
   "execution_count": 57,
   "metadata": {},
   "outputs": [],
   "source": [
    "#full5[(full5.Identifier==caso1[3]) & (full5.person_type=='Client')].reset_index(drop=True).style.set_properties(subset=['content2'], **{'width': '600px'})"
   ]
  },
  {
   "cell_type": "code",
   "execution_count": 58,
   "metadata": {},
   "outputs": [
    {
     "name": "stdout",
     "output_type": "stream",
     "text": [
      "amigo 318 46\n",
      "amigos 274 35\n",
      "amiga 231 29\n",
      "amigas 111 10\n",
      "sola 288 45\n",
      "padre 190 32\n",
      "papá 197 22\n",
      "familia 359 59\n",
      "familiar 87 12\n",
      "papás 106 12\n",
      "padres 146 27\n",
      "pareja 152 12\n",
      "pololo 75 10\n",
      "polola 31 3\n",
      "discutir 3 0\n",
      "discutí 9 0\n",
      "discutimos 10 1\n",
      "terminó 31 3\n",
      "acabó 6 1\n",
      "amigues 3 0\n",
      "amigxs 15 3\n",
      "hermanos 44 5\n",
      "mamá 293 36\n",
      "madre 118 14\n",
      "terminamos 37 3\n",
      "tóxica 20 1\n",
      "casa 311 51\n"
     ]
    }
   ],
   "source": [
    "all_id = taggs.Id.tolist()\n",
    "all_id = list(set(all_id))\n",
    "for word in short_vinculares:\n",
    "  count=0\n",
    "  count_no=0\n",
    "  for idd in all_id:\n",
    "    df_texto = full5[full5.Identifier==idd].reset_index(drop=True)\n",
    "    texto = []\n",
    "    for ix in range(df_texto.shape[0]):\n",
    "      if df_texto.person_type[ix]=='Client':\n",
    "        mytext = df_texto.content[ix]\n",
    "        if isinstance(mytext,str):\n",
    "          mytext = mytext.lower()\n",
    "          mytext = mytext.replace(',',' , ')\n",
    "          mytext = mytext.replace('.',' . ')\n",
    "          mytext = mytext.replace('(',' ( ')\n",
    "          mytext = mytext.replace(')',' ) ')\n",
    "          mytext = re.sub('\\W+',' ', mytext)\n",
    "          texto.append(mytext)\n",
    "    texto = ' '.join(texto)  \n",
    "    tema = taggs[taggs.Id==idd].Temas_vinculares.tolist()[0]\n",
    "    if (word in texto) and (tema==1):\n",
    "       count +=1\n",
    "    if (word in texto) and (tema==0):\n",
    "       count_no +=1\n",
    "  print(word,count,count_no) "
   ]
  },
  {
   "cell_type": "markdown",
   "metadata": {},
   "source": [
    "### Violencia"
   ]
  },
  {
   "cell_type": "code",
   "execution_count": 59,
   "metadata": {},
   "outputs": [],
   "source": [
    "violencia = taggs[['Temas_violencia','Id']].merge(taggs_dic[['violencia','Id']])"
   ]
  },
  {
   "cell_type": "code",
   "execution_count": 60,
   "metadata": {},
   "outputs": [
    {
     "name": "stdout",
     "output_type": "stream",
     "text": [
      "accuracy:  0.8292098962490024\n",
      "precision:  0.7477876106194691\n",
      "recall:  0.5184049079754601\n"
     ]
    }
   ],
   "source": [
    "TP = violencia[(violencia.Temas_violencia==1) & (violencia.violencia==1)].shape[0]\n",
    "FP = violencia[(violencia.Temas_violencia==0) & (violencia.violencia==1)].shape[0]\n",
    "TN = violencia[(violencia.Temas_violencia==0) & (violencia.violencia==0)].shape[0]\n",
    "FN = violencia[(violencia.Temas_violencia==1) & (violencia.violencia==0)].shape[0]\n",
    "\n",
    "accuracy = (TP+TN) / (TP + FP + TN + FN )\n",
    "precision = TP / (TP + FP)\n",
    "recall  = TP / (TP + FN)\n",
    "print('accuracy: ',accuracy) \n",
    "print('precision: ',precision) \n",
    "print('recall: ',recall) "
   ]
  },
  {
   "cell_type": "code",
   "execution_count": 61,
   "metadata": {},
   "outputs": [
    {
     "data": {
      "text/plain": [
       "1039"
      ]
     },
     "execution_count": 61,
     "metadata": {},
     "output_type": "execute_result"
    }
   ],
   "source": [
    "sum((violencia.Temas_violencia - violencia.violencia)==0) "
   ]
  },
  {
   "cell_type": "code",
   "execution_count": 62,
   "metadata": {},
   "outputs": [
    {
     "data": {
      "text/plain": [
       "157"
      ]
     },
     "execution_count": 62,
     "metadata": {},
     "output_type": "execute_result"
    }
   ],
   "source": [
    "## CASO 1, fueron taggeados como violencia por los taggeadores, pero no por el diccionario  \n",
    "sum((violencia.Temas_violencia - violencia.violencia)>0)    "
   ]
  },
  {
   "cell_type": "code",
   "execution_count": 63,
   "metadata": {},
   "outputs": [
    {
     "data": {
      "text/plain": [
       "57"
      ]
     },
     "execution_count": 63,
     "metadata": {},
     "output_type": "execute_result"
    }
   ],
   "source": [
    "## CASO 2, fue clasificado como violencia por el diccionario pero no por los taggeadores \n",
    "sum((violencia.Temas_violencia - violencia.violencia)<0) "
   ]
  },
  {
   "cell_type": "code",
   "execution_count": 64,
   "metadata": {},
   "outputs": [],
   "source": [
    "caso1 = violencia[(violencia.Temas_violencia - violencia.violencia)>0].Id.tolist()\n",
    "caso2 = violencia[(violencia.Temas_violencia - violencia.violencia)<0].Id.tolist()"
   ]
  },
  {
   "cell_type": "code",
   "execution_count": 65,
   "metadata": {},
   "outputs": [],
   "source": [
    "#full5[(full5.Identifier==caso2[0]) & (full5.person_type=='Client')].reset_index(drop=True).style.set_properties(subset=['content2'], **{'width': '600px'})"
   ]
  },
  {
   "cell_type": "code",
   "execution_count": 66,
   "metadata": {},
   "outputs": [
    {
     "name": "stdout",
     "output_type": "stream",
     "text": [
      "violaron 4 0\n",
      "violación 7 1\n",
      "violó 5 0\n",
      "bullying 43 22\n",
      "bulling 12 1\n",
      "bullyng 8 3\n",
      "abuso 39 2\n",
      "abusa 29 5\n",
      "abusó 6 0\n",
      "abusaron 5 0\n",
      "violencia 22 4\n",
      "maltrato 13 3\n",
      "acoso 8 5\n",
      "acosa 10 2\n",
      "acosan 1 0\n",
      "agresión 2 0\n",
      "pegar 20 10\n",
      "pegan 5 2\n",
      "pegaban 3 0\n",
      "pegó 3 1\n",
      "golpes 18 3\n",
      "golpea 35 13\n",
      "golpean 7 0\n",
      "golpeaban 5 0\n",
      "gritos 9 5\n",
      "humilla 11 5\n",
      "humillan 2 1\n"
     ]
    }
   ],
   "source": [
    "all_id = taggs.Id.tolist()\n",
    "all_id = list(set(all_id))\n",
    "for word in short_violencia:\n",
    "  count=0\n",
    "  count_no=0\n",
    "  for idd in all_id:\n",
    "    df_texto = full5[full5.Identifier==idd].reset_index(drop=True)\n",
    "    texto = []\n",
    "    for ix in range(df_texto.shape[0]):\n",
    "      if df_texto.person_type[ix]=='Client':\n",
    "        mytext = df_texto.content[ix]\n",
    "        if isinstance(mytext,str):\n",
    "          mytext = mytext.lower()\n",
    "          mytext = mytext.replace(',',' , ')\n",
    "          mytext = mytext.replace('.',' . ')\n",
    "          mytext = mytext.replace('(',' ( ')\n",
    "          mytext = mytext.replace(')',' ) ')\n",
    "          mytext = re.sub('\\W+',' ', mytext)\n",
    "          texto.append(mytext)\n",
    "    texto = ' '.join(texto)  \n",
    "    tema = taggs[taggs.Id==idd].Temas_violencia.tolist()[0]\n",
    "    if (word in texto) and (tema==1):\n",
    "       count +=1\n",
    "    if (word in texto) and (tema==0):\n",
    "       count_no +=1\n",
    "  print(word,count,count_no) "
   ]
  },
  {
   "cell_type": "markdown",
   "metadata": {},
   "source": [
    "### Diversidad"
   ]
  },
  {
   "cell_type": "code",
   "execution_count": 67,
   "metadata": {},
   "outputs": [],
   "source": [
    "diversidad = taggs[['Temas_diversidad','Id']].merge(taggs_dic[['diversidad','Id']])"
   ]
  },
  {
   "cell_type": "code",
   "execution_count": 68,
   "metadata": {},
   "outputs": [
    {
     "name": "stdout",
     "output_type": "stream",
     "text": [
      "accuracy:  0.9034317637669593\n",
      "precision:  0.8516949152542372\n",
      "recall:  0.7003484320557491\n"
     ]
    }
   ],
   "source": [
    "TP = diversidad[(diversidad.Temas_diversidad==1) & (diversidad.diversidad==1)].shape[0]\n",
    "FP = diversidad[(diversidad.Temas_diversidad==0) & (diversidad.diversidad==1)].shape[0]\n",
    "TN = diversidad[(diversidad.Temas_diversidad==0) & (diversidad.diversidad==0)].shape[0]\n",
    "FN = diversidad[(diversidad.Temas_diversidad==1) & (diversidad.diversidad==0)].shape[0]\n",
    "\n",
    "accuracy = (TP+TN) / (TP + FP + TN + FN )\n",
    "precision = TP / (TP + FP)\n",
    "recall  = TP / (TP + FN)\n",
    "print('accuracy: ',accuracy) \n",
    "print('precision: ',precision) \n",
    "print('recall: ',recall) "
   ]
  },
  {
   "cell_type": "code",
   "execution_count": 69,
   "metadata": {},
   "outputs": [
    {
     "data": {
      "text/plain": [
       "1132"
      ]
     },
     "execution_count": 69,
     "metadata": {},
     "output_type": "execute_result"
    }
   ],
   "source": [
    "sum((diversidad.Temas_diversidad - diversidad.diversidad)==0) "
   ]
  },
  {
   "cell_type": "code",
   "execution_count": 70,
   "metadata": {},
   "outputs": [
    {
     "data": {
      "text/plain": [
       "86"
      ]
     },
     "execution_count": 70,
     "metadata": {},
     "output_type": "execute_result"
    }
   ],
   "source": [
    "## CASO 1, fueron taggeados como diversidad por los taggeadores, pero no por el diccionario\n",
    "sum((diversidad.Temas_diversidad - diversidad.diversidad)>0)    "
   ]
  },
  {
   "cell_type": "code",
   "execution_count": 71,
   "metadata": {},
   "outputs": [
    {
     "data": {
      "text/plain": [
       "35"
      ]
     },
     "execution_count": 71,
     "metadata": {},
     "output_type": "execute_result"
    }
   ],
   "source": [
    "## CASO 2, fue clasificado como diversidad por el diccionario pero no por los taggeadores\n",
    "sum((diversidad.Temas_diversidad - diversidad.diversidad)<0)  "
   ]
  },
  {
   "cell_type": "code",
   "execution_count": 72,
   "metadata": {},
   "outputs": [],
   "source": [
    "caso1 = diversidad[(diversidad.Temas_diversidad - diversidad.diversidad)>0].Id.tolist()\n",
    "caso2 = diversidad[(diversidad.Temas_diversidad - diversidad.diversidad)<0].Id.tolist()"
   ]
  },
  {
   "cell_type": "code",
   "execution_count": 73,
   "metadata": {},
   "outputs": [],
   "source": [
    "#full5[(full5.Identifier==caso1[7]) & (full5.person_type=='Client')].reset_index(drop=True).style.set_properties(subset=['content2'], **{'width': '600px'})"
   ]
  },
  {
   "cell_type": "code",
   "execution_count": 74,
   "metadata": {},
   "outputs": [
    {
     "name": "stdout",
     "output_type": "stream",
     "text": [
      "gay 59 4\n",
      "homosexual 32 3\n",
      "orientación 45 10\n",
      "trans 84 31\n",
      "bisexual 33 2\n",
      "lesbiana 34 4\n",
      "closet 27 1\n",
      "género 31 6\n",
      "homofóbico 8 0\n",
      "homofóbica 6 0\n",
      "homofóbicos 4 0\n",
      "hetero 21 4\n",
      "transgénero 10 0\n",
      "binario 7 0\n",
      "hermafrodita 0 0\n",
      "intersexual 1 0\n",
      "fluido 8 2\n",
      "bigénero 0 0\n",
      "agénero 0 0\n",
      "demisexual 0 1\n",
      "pansexual 3 0\n"
     ]
    }
   ],
   "source": [
    "all_id = taggs.Id.tolist()\n",
    "all_id = list(set(all_id))\n",
    "for word in short_diversidad:\n",
    "  count=0\n",
    "  count_no=0\n",
    "  for idd in all_id:\n",
    "    df_texto = full5[full5.Identifier==idd].reset_index(drop=True)\n",
    "    texto = []\n",
    "    for ix in range(df_texto.shape[0]):\n",
    "      if df_texto.person_type[ix]=='Client':\n",
    "        mytext = df_texto.content[ix]\n",
    "        if isinstance(mytext,str):\n",
    "          mytext = mytext.lower()\n",
    "          mytext = mytext.replace(',',' , ')\n",
    "          mytext = mytext.replace('.',' . ')\n",
    "          mytext = mytext.replace('(',' ( ')\n",
    "          mytext = mytext.replace(')',' ) ')\n",
    "          mytext = re.sub('\\W+',' ', mytext)\n",
    "          texto.append(mytext)\n",
    "    texto = ' '.join(texto)  \n",
    "    tema = taggs[taggs.Id==idd].Temas_diversidad.tolist()[0]\n",
    "    if (word in texto) and (tema==1):\n",
    "       count +=1\n",
    "    if (word in texto) and (tema==0):\n",
    "       count_no +=1\n",
    "  print(word,count,count_no) "
   ]
  },
  {
   "cell_type": "markdown",
   "metadata": {},
   "source": [
    "### Desempeño"
   ]
  },
  {
   "cell_type": "code",
   "execution_count": 75,
   "metadata": {},
   "outputs": [],
   "source": [
    "desempeño = taggs[['Temas_desempeño','Id']].merge(taggs_dic[['desempeño','Id']])"
   ]
  },
  {
   "cell_type": "code",
   "execution_count": 76,
   "metadata": {},
   "outputs": [
    {
     "name": "stdout",
     "output_type": "stream",
     "text": [
      "accuracy:  0.7294493216280926\n",
      "precision:  0.33585858585858586\n",
      "recall:  0.6363636363636364\n"
     ]
    }
   ],
   "source": [
    "TP = desempeño[(desempeño.Temas_desempeño==1) & (desempeño.desempeño==1)].shape[0]\n",
    "FP = desempeño[(desempeño.Temas_desempeño==0) & (desempeño.desempeño==1)].shape[0]\n",
    "TN = desempeño[(desempeño.Temas_desempeño==0) & (desempeño.desempeño==0)].shape[0]\n",
    "FN = desempeño[(desempeño.Temas_desempeño==1) & (desempeño.desempeño==0)].shape[0]\n",
    "\n",
    "accuracy = (TP+TN) / (TP + FP + TN + FN )\n",
    "precision = TP / (TP + FP)\n",
    "recall  = TP / (TP + FN)\n",
    "print('accuracy: ',accuracy) \n",
    "print('precision: ',precision) \n",
    "print('recall: ',recall) "
   ]
  },
  {
   "cell_type": "code",
   "execution_count": 77,
   "metadata": {},
   "outputs": [
    {
     "data": {
      "text/plain": [
       "914"
      ]
     },
     "execution_count": 77,
     "metadata": {},
     "output_type": "execute_result"
    }
   ],
   "source": [
    "sum((desempeño.Temas_desempeño - desempeño.desempeño)==0) "
   ]
  },
  {
   "cell_type": "code",
   "execution_count": 78,
   "metadata": {},
   "outputs": [
    {
     "data": {
      "text/plain": [
       "76"
      ]
     },
     "execution_count": 78,
     "metadata": {},
     "output_type": "execute_result"
    }
   ],
   "source": [
    "## CASO 1, fueron taggeados como desempeño por los taggeadores, pero no por el diccionario  \n",
    "sum((desempeño.Temas_desempeño - desempeño.desempeño)>0)    "
   ]
  },
  {
   "cell_type": "code",
   "execution_count": 79,
   "metadata": {},
   "outputs": [
    {
     "data": {
      "text/plain": [
       "263"
      ]
     },
     "execution_count": 79,
     "metadata": {},
     "output_type": "execute_result"
    }
   ],
   "source": [
    "## CASO 2, fue clasificado como desempeño por el diccionario pero no por los taggeadores  \n",
    "sum((desempeño.Temas_desempeño - desempeño.desempeño)<0)"
   ]
  },
  {
   "cell_type": "code",
   "execution_count": 80,
   "metadata": {},
   "outputs": [],
   "source": [
    "caso1 = desempeño[(desempeño.Temas_desempeño - desempeño.desempeño)>0].Id.tolist()\n",
    "caso2 = desempeño[(desempeño.Temas_desempeño - desempeño.desempeño)<0].Id.tolist()"
   ]
  },
  {
   "cell_type": "code",
   "execution_count": 81,
   "metadata": {
    "scrolled": false
   },
   "outputs": [],
   "source": [
    "#full5[(full5.Identifier==caso1[0]) & (full5.person_type=='Client')].reset_index(drop=True).style.set_properties(subset=['content2'], **{'width': '600px'})"
   ]
  },
  {
   "cell_type": "code",
   "execution_count": 82,
   "metadata": {},
   "outputs": [
    {
     "name": "stdout",
     "output_type": "stream",
     "text": [
      "carrera 31 20\n",
      "estudio 35 58\n",
      "sueldo 0 3\n",
      "universidad 39 41\n",
      "notas 32 11\n",
      "psu 8 8\n",
      "insuficiente 4 9\n",
      "trabajo 44 92\n",
      "trabajar 26 36\n",
      "plata 20 36\n",
      "dinero 23 53\n",
      "rendimiento 4 4\n",
      "insuficientes 0 1\n",
      "esfuerzo 16 21\n",
      "prueba 21 12\n",
      "esforzarme 3 0\n",
      "preu 4 4\n"
     ]
    }
   ],
   "source": [
    "all_id = taggs.Id.tolist()\n",
    "all_id = list(set(all_id))\n",
    "for word in short_desempeño:\n",
    "  count=0\n",
    "  count_no=0\n",
    "  for idd in all_id:\n",
    "    df_texto = full5[full5.Identifier==idd].reset_index(drop=True)\n",
    "    texto = []\n",
    "    for ix in range(df_texto.shape[0]):\n",
    "      if df_texto.person_type[ix]=='Client':\n",
    "        mytext = df_texto.content[ix]\n",
    "        if isinstance(mytext,str):\n",
    "          mytext = mytext.lower()\n",
    "          mytext = mytext.replace(',',' , ')\n",
    "          mytext = mytext.replace('.',' . ')\n",
    "          mytext = mytext.replace('(',' ( ')\n",
    "          mytext = mytext.replace(')',' ) ')\n",
    "          mytext = re.sub('\\W+',' ', mytext)\n",
    "          texto.append(mytext)\n",
    "    texto = ' '.join(texto)  \n",
    "    tema = taggs[taggs.Id==idd].Temas_desempeño.tolist()[0]\n",
    "    if (word in texto) and (tema==1):\n",
    "       count +=1\n",
    "    if (word in texto) and (tema==0):\n",
    "       count_no +=1\n",
    "  print(word,count,count_no) "
   ]
  },
  {
   "cell_type": "markdown",
   "metadata": {},
   "source": [
    "### Autoimagen"
   ]
  },
  {
   "cell_type": "code",
   "execution_count": 83,
   "metadata": {},
   "outputs": [],
   "source": [
    "autoimagen = taggs[['Temas_autoimagen','Id']].merge(taggs_dic[['autoimagen','Id']])"
   ]
  },
  {
   "cell_type": "code",
   "execution_count": 84,
   "metadata": {},
   "outputs": [
    {
     "name": "stdout",
     "output_type": "stream",
     "text": [
      "accuracy:  0.7166799680766162\n",
      "precision:  0.5747126436781609\n",
      "recall:  0.5952380952380952\n"
     ]
    }
   ],
   "source": [
    "TP = autoimagen[(autoimagen.Temas_autoimagen==1) & (autoimagen.autoimagen==1)].shape[0]\n",
    "FP = autoimagen[(autoimagen.Temas_autoimagen==0) & (autoimagen.autoimagen==1)].shape[0]\n",
    "TN = autoimagen[(autoimagen.Temas_autoimagen==0) & (autoimagen.autoimagen==0)].shape[0]\n",
    "FN = autoimagen[(autoimagen.Temas_autoimagen==1) & (autoimagen.autoimagen==0)].shape[0]\n",
    "\n",
    "accuracy = (TP+TN) / (TP + FP + TN + FN )\n",
    "precision = TP / (TP + FP)\n",
    "recall  = TP / (TP + FN)\n",
    "print('accuracy: ',accuracy) \n",
    "print('precision: ',precision) \n",
    "print('recall: ',recall) "
   ]
  },
  {
   "cell_type": "code",
   "execution_count": 85,
   "metadata": {},
   "outputs": [
    {
     "data": {
      "text/plain": [
       "898"
      ]
     },
     "execution_count": 85,
     "metadata": {},
     "output_type": "execute_result"
    }
   ],
   "source": [
    "sum((autoimagen.Temas_autoimagen - autoimagen.autoimagen)==0) "
   ]
  },
  {
   "cell_type": "code",
   "execution_count": 86,
   "metadata": {},
   "outputs": [
    {
     "data": {
      "text/plain": [
       "170"
      ]
     },
     "execution_count": 86,
     "metadata": {},
     "output_type": "execute_result"
    }
   ],
   "source": [
    "## CASO 1, fueron taggeados como desempeño por los taggeadores, pero no por el diccionario  \n",
    "sum((autoimagen.Temas_autoimagen - autoimagen.autoimagen)>0)    "
   ]
  },
  {
   "cell_type": "code",
   "execution_count": 87,
   "metadata": {},
   "outputs": [
    {
     "data": {
      "text/plain": [
       "185"
      ]
     },
     "execution_count": 87,
     "metadata": {},
     "output_type": "execute_result"
    }
   ],
   "source": [
    "## CASO 2, fue clasificado como desempeño por el diccionario pero no por los taggeadores  \n",
    "sum((autoimagen.Temas_autoimagen - autoimagen.autoimagen)<0)"
   ]
  },
  {
   "cell_type": "code",
   "execution_count": 88,
   "metadata": {},
   "outputs": [],
   "source": [
    "caso1 = autoimagen[(autoimagen.Temas_autoimagen - autoimagen.autoimagen)>0].Id.tolist()\n",
    "caso2 = autoimagen[(autoimagen.Temas_autoimagen - autoimagen.autoimagen)<0].Id.tolist()"
   ]
  },
  {
   "cell_type": "code",
   "execution_count": 89,
   "metadata": {
    "scrolled": false
   },
   "outputs": [],
   "source": [
    "#full5[(full5.Identifier==caso2[0]) & (full5.person_type=='Client')].reset_index(drop=True).style.set_properties(subset=['content2'], **{'width': '600px'})"
   ]
  },
  {
   "cell_type": "code",
   "execution_count": 90,
   "metadata": {},
   "outputs": [
    {
     "name": "stdout",
     "output_type": "stream",
     "text": [
      "cuerpo 65 48\n",
      "autoestima 62 19\n",
      "feo 19 17\n",
      "fea 33 19\n",
      "inseguro 4 3\n",
      "insegura 13 13\n",
      "odio 78 35\n",
      "negativo 9 16\n",
      "negativa 4 8\n",
      "asco 34 28\n",
      "arreglarme 1 3\n",
      "agraciada 0 0\n",
      "agraciado 0 0\n",
      "atractivo 2 1\n",
      "atractiva 0 1\n",
      "rechazo 18 12\n",
      "sirvo 22 7\n",
      "sobro 2 2\n",
      "comer 46 34\n",
      "espejo 12 7\n",
      "anormal 4 3\n",
      "gorda 29 8\n",
      "gordo 1 1\n",
      "bonito 12 10\n",
      "obesidad 1 0\n",
      "obeso 1 0\n",
      "obesa 3 0\n",
      "autoimagen 0 0\n",
      "corporal 3 4\n"
     ]
    }
   ],
   "source": [
    "all_id = taggs.Id.tolist()\n",
    "all_id = list(set(all_id))\n",
    "for word in short_autoimagen:\n",
    "  count=0\n",
    "  count_no=0\n",
    "  for idd in all_id:\n",
    "    df_texto = full5[full5.Identifier==idd].reset_index(drop=True)\n",
    "    texto = []\n",
    "    for ix in range(df_texto.shape[0]):\n",
    "      if df_texto.person_type[ix]=='Client':\n",
    "        mytext = df_texto.content[ix]\n",
    "        if isinstance(mytext,str):\n",
    "          mytext = mytext.lower()\n",
    "          mytext = mytext.replace(',',' , ')\n",
    "          mytext = mytext.replace('.',' . ')\n",
    "          mytext = mytext.replace('(',' ( ')\n",
    "          mytext = mytext.replace(')',' ) ')\n",
    "          mytext = re.sub('\\W+',' ', mytext)\n",
    "          texto.append(mytext)\n",
    "    texto = ' '.join(texto)  \n",
    "    tema = taggs[taggs.Id==idd].Temas_autoimagen.tolist()[0]\n",
    "    if (word in texto) and (tema==1):\n",
    "       count +=1\n",
    "    if (word in texto) and (tema==0):\n",
    "       count_no +=1\n",
    "  print(word,count,count_no)  "
   ]
  },
  {
   "cell_type": "code",
   "execution_count": null,
   "metadata": {},
   "outputs": [],
   "source": []
  },
  {
   "cell_type": "markdown",
   "metadata": {},
   "source": [
    "### Sentido"
   ]
  },
  {
   "cell_type": "code",
   "execution_count": 91,
   "metadata": {},
   "outputs": [],
   "source": [
    "sentido = taggs[['Temas_sentido','Id']].merge(taggs_dic[['sentido','Id']])"
   ]
  },
  {
   "cell_type": "code",
   "execution_count": 92,
   "metadata": {},
   "outputs": [
    {
     "name": "stdout",
     "output_type": "stream",
     "text": [
      "accuracy:  0.8244213886671987\n",
      "precision:  0.22727272727272727\n",
      "recall:  0.11627906976744186\n"
     ]
    }
   ],
   "source": [
    "TP = sentido[(sentido.Temas_sentido==1) & (sentido.sentido==1)].shape[0]\n",
    "FP = sentido[(sentido.Temas_sentido==0) & (sentido.sentido==1)].shape[0]\n",
    "TN = sentido[(sentido.Temas_sentido==0) & (sentido.sentido==0)].shape[0]\n",
    "FN = sentido[(sentido.Temas_sentido==1) & (sentido.sentido==0)].shape[0]\n",
    "\n",
    "accuracy = (TP+TN) / (TP + FP + TN + FN )\n",
    "precision = TP / (TP + FP)\n",
    "recall  = TP / (TP + FN)\n",
    "print('accuracy: ',accuracy) \n",
    "print('precision: ',precision) \n",
    "print('recall: ',recall) "
   ]
  },
  {
   "cell_type": "code",
   "execution_count": 93,
   "metadata": {},
   "outputs": [
    {
     "data": {
      "text/plain": [
       "(1013, 3)"
      ]
     },
     "execution_count": 93,
     "metadata": {},
     "output_type": "execute_result"
    }
   ],
   "source": [
    "sentido[(sentido.Temas_sentido==0) & (sentido.sentido==0)].shape"
   ]
  },
  {
   "cell_type": "code",
   "execution_count": 94,
   "metadata": {},
   "outputs": [
    {
     "data": {
      "text/plain": [
       "1033"
      ]
     },
     "execution_count": 94,
     "metadata": {},
     "output_type": "execute_result"
    }
   ],
   "source": [
    "sum((sentido.Temas_sentido - sentido.sentido)==0) "
   ]
  },
  {
   "cell_type": "code",
   "execution_count": 95,
   "metadata": {},
   "outputs": [
    {
     "data": {
      "text/plain": [
       "152"
      ]
     },
     "execution_count": 95,
     "metadata": {},
     "output_type": "execute_result"
    }
   ],
   "source": [
    "## CASO 1,  fueron taggeados como sentido por los taggeadores, pero no por el diccionario  \n",
    "sum((sentido.Temas_sentido - sentido.sentido)>0)    "
   ]
  },
  {
   "cell_type": "code",
   "execution_count": 96,
   "metadata": {},
   "outputs": [
    {
     "data": {
      "text/plain": [
       "68"
      ]
     },
     "execution_count": 96,
     "metadata": {},
     "output_type": "execute_result"
    }
   ],
   "source": [
    "## CASO 2, fue clasificado como sentido por el diccionario pero no por los taggeadores\n",
    "sum((sentido.Temas_sentido - sentido.sentido)<0)  "
   ]
  },
  {
   "cell_type": "code",
   "execution_count": 97,
   "metadata": {},
   "outputs": [],
   "source": [
    "caso1 = sentido[(sentido.Temas_sentido - sentido.sentido)>0].Id.tolist()\n",
    "caso2 = sentido[(sentido.Temas_sentido - sentido.sentido)<0].Id.tolist()"
   ]
  },
  {
   "cell_type": "code",
   "execution_count": 98,
   "metadata": {},
   "outputs": [],
   "source": [
    "#full5[(full5.Identifier==caso1[20]) & (full5.person_type=='Client')].reset_index(drop=True).style.set_properties(subset=['content2'], **{'width': '600px'})"
   ]
  },
  {
   "cell_type": "code",
   "execution_count": 99,
   "metadata": {},
   "outputs": [
    {
     "name": "stdout",
     "output_type": "stream",
     "text": [
      "miedos 3 18\n",
      "fingir 3 15\n",
      "rendí 2 10\n",
      "rindo 4 1\n",
      "rendirse 0 1\n",
      "medioambiente 0 0\n",
      "desesperanza 1 3\n",
      "ecológico 0 0\n",
      "ecológica 0 0\n",
      "decepcionado 1 7\n",
      "decepcionada 1 7\n",
      "desmotivado 2 4\n",
      "desmotivada 0 1\n",
      "esperanzado 0 1\n",
      "esperanzada 0 1\n",
      "desesperanzado 0 1\n",
      "desesperanzada 0 1\n",
      "motivación 4 16\n",
      "motive 3 1\n"
     ]
    }
   ],
   "source": [
    "all_id = taggs.Id.tolist()\n",
    "all_id = list(set(all_id))\n",
    "\n",
    "for word in short_sentido:\n",
    "  count=0\n",
    "  count_no=0\n",
    "  for idd in all_id:\n",
    "    df_texto = full5[full5.Identifier==idd].reset_index(drop=True)\n",
    "    texto = []\n",
    "    for ix in range(df_texto.shape[0]):\n",
    "      if df_texto.person_type[ix]=='Client':\n",
    "        mytext = df_texto.content[ix]\n",
    "        if isinstance(mytext,str):\n",
    "          mytext = mytext.lower()\n",
    "          mytext = mytext.replace(',',' , ')\n",
    "          mytext = mytext.replace('.',' . ')\n",
    "          mytext = mytext.replace('(',' ( ')\n",
    "          mytext = mytext.replace(')',' ) ')\n",
    "          mytext = re.sub('\\W+',' ', mytext)\n",
    "          texto.append(mytext)\n",
    "    texto = ' '.join(texto)  \n",
    "    tema = taggs[taggs.Id==idd].Temas_sentido.tolist()[0]\n",
    "    if (word in texto) and (tema==1):\n",
    "       count +=1\n",
    "    if (word in texto) and (tema==0):\n",
    "       count_no +=1\n",
    "  print(word,count,count_no)      "
   ]
  },
  {
   "cell_type": "markdown",
   "metadata": {},
   "source": [
    "#### Graficando los resultados"
   ]
  },
  {
   "cell_type": "code",
   "execution_count": 100,
   "metadata": {},
   "outputs": [],
   "source": [
    "temas_tiempo = auto_textos.groupby(['yearm']).sum().reset_index().drop(['Id','Identifier'],axis=1)\n",
    "temas_tiempo = temas_tiempo.merge(converdate, on='yearm')"
   ]
  },
  {
   "cell_type": "code",
   "execution_count": 101,
   "metadata": {},
   "outputs": [],
   "source": [
    "temas_tiempo['autoimagenN'] = temas_tiempo.autoimagen/temas_tiempo.total\n",
    "temas_tiempo['violenciaN'] = temas_tiempo.violencia/temas_tiempo.total\n",
    "temas_tiempo['diversidadN'] = temas_tiempo.diversidad/temas_tiempo.total\n",
    "temas_tiempo['desempeñoN'] = temas_tiempo.desempeño/temas_tiempo.total\n",
    "temas_tiempo['sentidoN'] = temas_tiempo.sentido/temas_tiempo.total\n",
    "temas_tiempo['vincularesN'] = temas_tiempo.vinculares/temas_tiempo.total"
   ]
  },
  {
   "cell_type": "code",
   "execution_count": 102,
   "metadata": {},
   "outputs": [
    {
     "data": {
      "image/png": "[encoded data removed]",
      "text/plain": [
       "<Figure size 936x288 with 1 Axes>"
      ]
     },
     "metadata": {
      "needs_background": "light"
     },
     "output_type": "display_data"
    }
   ],
   "source": [
    "ax = temas_tiempo.plot(x='yearm',y='vincularesN',figsize=(13,4))\n",
    "ax.axvline(26, color=\"red\", linestyle=\"--\")\n",
    "plt.savefig(\"vinculares.svg\")"
   ]
  },
  {
   "cell_type": "code",
   "execution_count": 103,
   "metadata": {},
   "outputs": [
    {
     "data": {
      "image/png": "[encoded data removed]",
      "text/plain": [
       "<Figure size 936x288 with 1 Axes>"
      ]
     },
     "metadata": {
      "needs_background": "light"
     },
     "output_type": "display_data"
    }
   ],
   "source": [
    "ax = temas_tiempo.plot(x='yearm',y='autoimagenN',figsize=(13,4))\n",
    "ax.axvline(26, color=\"red\", linestyle=\"--\")\n",
    "plt.savefig(\"autoimagen.svg\")"
   ]
  },
  {
   "cell_type": "code",
   "execution_count": 104,
   "metadata": {},
   "outputs": [
    {
     "data": {
      "image/png": "[encoded data removed]",
      "text/plain": [
       "<Figure size 936x288 with 1 Axes>"
      ]
     },
     "metadata": {
      "needs_background": "light"
     },
     "output_type": "display_data"
    }
   ],
   "source": [
    "ax = temas_tiempo.plot(x='yearm',y='violenciaN',figsize=(13,4))\n",
    "ax.axvline(26, color=\"red\", linestyle=\"--\")\n",
    "plt.savefig(\"violencia.svg\")"
   ]
  },
  {
   "cell_type": "code",
   "execution_count": 105,
   "metadata": {},
   "outputs": [
    {
     "data": {
      "text/plain": [
       "<matplotlib.lines.Line2D at 0x1f76d1c8880>"
      ]
     },
     "execution_count": 105,
     "metadata": {},
     "output_type": "execute_result"
    },
    {
     "data": {
      "image/png": "[encoded data removed]",
      "text/plain": [
       "<Figure size 936x288 with 1 Axes>"
      ]
     },
     "metadata": {
      "needs_background": "light"
     },
     "output_type": "display_data"
    }
   ],
   "source": [
    "ax = temas_tiempo.plot(x='yearm',y='diversidadN',figsize=(13,4))\n",
    "ax.axvline(26, color=\"red\", linestyle=\"--\")"
   ]
  },
  {
   "cell_type": "code",
   "execution_count": 106,
   "metadata": {},
   "outputs": [
    {
     "data": {
      "image/png": "[encoded data removed]",
      "text/plain": [
       "<Figure size 936x288 with 1 Axes>"
      ]
     },
     "metadata": {
      "needs_background": "light"
     },
     "output_type": "display_data"
    }
   ],
   "source": [
    "ax = temas_tiempo.plot(x='yearm',y='desempeñoN',figsize=(13,4))\n",
    "ax.axvline(26, color=\"red\", linestyle=\"--\")\n",
    "plt.savefig(\"desempeño.svg\")"
   ]
  },
  {
   "cell_type": "code",
   "execution_count": 107,
   "metadata": {},
   "outputs": [
    {
     "data": {
      "text/plain": [
       "<matplotlib.lines.Line2D at 0x1f76cd8eaf0>"
      ]
     },
     "execution_count": 107,
     "metadata": {},
     "output_type": "execute_result"
    },
    {
     "data": {
      "image/png": "[encoded data removed]",
      "text/plain": [
       "<Figure size 936x288 with 1 Axes>"
      ]
     },
     "metadata": {
      "needs_background": "light"
     },
     "output_type": "display_data"
    }
   ],
   "source": [
    "ax = temas_tiempo.plot(x='yearm',y='sentidoN',figsize=(13,4))\n",
    "ax.axvline(26, color=\"red\", linestyle=\"--\")"
   ]
  },
  {
   "cell_type": "code",
   "execution_count": 108,
   "metadata": {},
   "outputs": [],
   "source": [
    "temas_tiempo.to_csv('temas_tiempo.csv',sep='\\t',encoding='UTF-8')"
   ]
  },
  {
   "cell_type": "code",
   "execution_count": 109,
   "metadata": {},
   "outputs": [],
   "source": [
    "temas_tiempo_sample.to_csv('temas_tiempo_sample.csv',sep='\\t',encoding='UTF-8')"
   ]
  },
  {
   "cell_type": "code",
   "execution_count": null,
   "metadata": {},
   "outputs": [],
   "source": []
  },
  {
   "cell_type": "markdown",
   "metadata": {},
   "source": [
    "### ¿Qé formas de intervención están asociadas a qué sintomatologías?"
   ]
  },
  {
   "cell_type": "code",
   "execution_count": 110,
   "metadata": {},
   "outputs": [
    {
     "data": {
      "text/html": [
       "<div>\n",
       "<style scoped>\n",
       "    .dataframe tbody tr th:only-of-type {\n",
       "        vertical-align: middle;\n",
       "    }\n",
       "\n",
       "    .dataframe tbody tr th {\n",
       "        vertical-align: top;\n",
       "    }\n",
       "\n",
       "    .dataframe thead th {\n",
       "        text-align: right;\n",
       "    }\n",
       "</style>\n",
       "<table border=\"1\" class=\"dataframe\">\n",
       "  <thead>\n",
       "    <tr style=\"text-align: right;\">\n",
       "      <th></th>\n",
       "      <th>Id</th>\n",
       "      <th>Ansiosa</th>\n",
       "      <th>Depresiva</th>\n",
       "      <th>Suicida</th>\n",
       "      <th>Temas_autoimagen</th>\n",
       "      <th>Temas_vinculares</th>\n",
       "      <th>Temas_sentido</th>\n",
       "      <th>Temas_emoción</th>\n",
       "      <th>Temas_violencia</th>\n",
       "      <th>Temas_desempeño</th>\n",
       "      <th>Temas_diversidad</th>\n",
       "      <th>estrategia_validación</th>\n",
       "      <th>estrategia_reflexionar</th>\n",
       "      <th>estrategia_recursos</th>\n",
       "      <th>estrategia_contención</th>\n",
       "      <th>estrategia_indagación</th>\n",
       "      <th>estrategia_educación</th>\n",
       "      <th>estrategia_derivación</th>\n",
       "      <th>recursos</th>\n",
       "      <th>gravedad</th>\n",
       "      <th>exito</th>\n",
       "    </tr>\n",
       "  </thead>\n",
       "  <tbody>\n",
       "    <tr>\n",
       "      <th>0</th>\n",
       "      <td>1331246</td>\n",
       "      <td>1</td>\n",
       "      <td>1</td>\n",
       "      <td>0</td>\n",
       "      <td>0</td>\n",
       "      <td>1</td>\n",
       "      <td>0</td>\n",
       "      <td>0</td>\n",
       "      <td>1</td>\n",
       "      <td>0</td>\n",
       "      <td>0</td>\n",
       "      <td>0</td>\n",
       "      <td>0</td>\n",
       "      <td>0</td>\n",
       "      <td>0</td>\n",
       "      <td>1</td>\n",
       "      <td>0</td>\n",
       "      <td>0</td>\n",
       "      <td>medio</td>\n",
       "      <td>medio</td>\n",
       "      <td>poco</td>\n",
       "    </tr>\n",
       "    <tr>\n",
       "      <th>1</th>\n",
       "      <td>1301687</td>\n",
       "      <td>1</td>\n",
       "      <td>0</td>\n",
       "      <td>0</td>\n",
       "      <td>0</td>\n",
       "      <td>1</td>\n",
       "      <td>0</td>\n",
       "      <td>0</td>\n",
       "      <td>0</td>\n",
       "      <td>0</td>\n",
       "      <td>0</td>\n",
       "      <td>0</td>\n",
       "      <td>0</td>\n",
       "      <td>1</td>\n",
       "      <td>1</td>\n",
       "      <td>1</td>\n",
       "      <td>0</td>\n",
       "      <td>0</td>\n",
       "      <td>bastante</td>\n",
       "      <td>medio</td>\n",
       "      <td>bastante</td>\n",
       "    </tr>\n",
       "    <tr>\n",
       "      <th>2</th>\n",
       "      <td>1311242</td>\n",
       "      <td>0</td>\n",
       "      <td>0</td>\n",
       "      <td>0</td>\n",
       "      <td>0</td>\n",
       "      <td>0</td>\n",
       "      <td>0</td>\n",
       "      <td>0</td>\n",
       "      <td>0</td>\n",
       "      <td>0</td>\n",
       "      <td>0</td>\n",
       "      <td>0</td>\n",
       "      <td>0</td>\n",
       "      <td>0</td>\n",
       "      <td>0</td>\n",
       "      <td>1</td>\n",
       "      <td>0</td>\n",
       "      <td>0</td>\n",
       "      <td>medio</td>\n",
       "      <td>medio</td>\n",
       "      <td>medio</td>\n",
       "    </tr>\n",
       "    <tr>\n",
       "      <th>3</th>\n",
       "      <td>1362804</td>\n",
       "      <td>1</td>\n",
       "      <td>1</td>\n",
       "      <td>0</td>\n",
       "      <td>1</td>\n",
       "      <td>1</td>\n",
       "      <td>0</td>\n",
       "      <td>1</td>\n",
       "      <td>0</td>\n",
       "      <td>1</td>\n",
       "      <td>0</td>\n",
       "      <td>0</td>\n",
       "      <td>0</td>\n",
       "      <td>1</td>\n",
       "      <td>1</td>\n",
       "      <td>1</td>\n",
       "      <td>0</td>\n",
       "      <td>0</td>\n",
       "      <td>medio</td>\n",
       "      <td>medio</td>\n",
       "      <td>poco</td>\n",
       "    </tr>\n",
       "    <tr>\n",
       "      <th>4</th>\n",
       "      <td>1400860</td>\n",
       "      <td>0</td>\n",
       "      <td>1</td>\n",
       "      <td>1</td>\n",
       "      <td>0</td>\n",
       "      <td>1</td>\n",
       "      <td>0</td>\n",
       "      <td>0</td>\n",
       "      <td>0</td>\n",
       "      <td>0</td>\n",
       "      <td>0</td>\n",
       "      <td>0</td>\n",
       "      <td>1</td>\n",
       "      <td>1</td>\n",
       "      <td>1</td>\n",
       "      <td>1</td>\n",
       "      <td>0</td>\n",
       "      <td>0</td>\n",
       "      <td>medio</td>\n",
       "      <td>medio</td>\n",
       "      <td>bastante</td>\n",
       "    </tr>\n",
       "  </tbody>\n",
       "</table>\n",
       "</div>"
      ],
      "text/plain": [
       "        Id  Ansiosa  Depresiva  Suicida  Temas_autoimagen  Temas_vinculares  \\\n",
       "0  1331246        1          1        0                 0                 1   \n",
       "1  1301687        1          0        0                 0                 1   \n",
       "2  1311242        0          0        0                 0                 0   \n",
       "3  1362804        1          1        0                 1                 1   \n",
       "4  1400860        0          1        1                 0                 1   \n",
       "\n",
       "   Temas_sentido  Temas_emoción  Temas_violencia  Temas_desempeño  \\\n",
       "0              0              0                1                0   \n",
       "1              0              0                0                0   \n",
       "2              0              0                0                0   \n",
       "3              0              1                0                1   \n",
       "4              0              0                0                0   \n",
       "\n",
       "   Temas_diversidad  estrategia_validación  estrategia_reflexionar  \\\n",
       "0                 0                      0                       0   \n",
       "1                 0                      0                       0   \n",
       "2                 0                      0                       0   \n",
       "3                 0                      0                       0   \n",
       "4                 0                      0                       1   \n",
       "\n",
       "   estrategia_recursos  estrategia_contención  estrategia_indagación  \\\n",
       "0                    0                      0                      1   \n",
       "1                    1                      1                      1   \n",
       "2                    0                      0                      1   \n",
       "3                    1                      1                      1   \n",
       "4                    1                      1                      1   \n",
       "\n",
       "   estrategia_educación  estrategia_derivación  recursos gravedad     exito  \n",
       "0                     0                      0     medio    medio      poco  \n",
       "1                     0                      0  bastante    medio  bastante  \n",
       "2                     0                      0     medio    medio     medio  \n",
       "3                     0                      0     medio    medio      poco  \n",
       "4                     0                      0     medio    medio  bastante  "
      ]
     },
     "execution_count": 110,
     "metadata": {},
     "output_type": "execute_result"
    }
   ],
   "source": [
    "taggs.head()"
   ]
  },
  {
   "cell_type": "code",
   "execution_count": 112,
   "metadata": {},
   "outputs": [],
   "source": [
    "import statsmodels.api as sm\n",
    "from statsmodels.stats.outliers_influence import variance_inflation_factor\n",
    "import statsmodels.formula.api as smf\n",
    "from statsmodels.tools.tools import add_constant"
   ]
  },
  {
   "cell_type": "code",
   "execution_count": 13,
   "metadata": {},
   "outputs": [
    {
     "name": "stderr",
     "output_type": "stream",
     "text": [
      "C:\\Users\\Alumno05\\Anaconda3\\envs\\cabildos\\lib\\site-packages\\numpy\\core\\fromnumeric.py:2389: FutureWarning: Method .ptp is deprecated and will be removed in a future version. Use numpy.ptp instead.\n",
      "  return ptp(axis=axis, out=out, **kwargs)\n"
     ]
    }
   ],
   "source": [
    "taggs[\"estrategia_validación\"] = taggs[\"estrategia_validación\"].astype(\"category\")\n",
    "taggs[\"estrategia_reflexionar\"] = taggs[\"estrategia_reflexionar\"].astype(\"category\")\n",
    "taggs[\"estrategia_recursos\"] = taggs[\"estrategia_recursos\"].astype(\"category\")\n",
    "taggs[\"estrategia_contención\"] = taggs[\"estrategia_contención\"].astype(\"category\")\n",
    "taggs[\"estrategia_indagación\"] = taggs[\"estrategia_indagación\"].astype(\"category\")\n",
    "taggs[\"estrategia_educación\"] = taggs[\"estrategia_educación\"].astype(\"category\")\n",
    "taggs[\"estrategia_derivación\"] = taggs[\"estrategia_derivación\"].astype(\"category\")\n",
    "taggs[\"Temas_autoimagen\"] = taggs[\"Temas_autoimagen\"].astype(\"category\")\n",
    "taggs[\"Temas_vinculares\"] = taggs[\"Temas_vinculares\"].astype(\"category\")\n",
    "taggs[\"Temas_sentido\"] = taggs[\"Temas_sentido\"].astype(\"category\")\n",
    "taggs[\"Temas_emoción\"] = taggs[\"Temas_emoción\"].astype(\"category\")\n",
    "taggs[\"Temas_violencia\"] = taggs[\"Temas_violencia\"].astype(\"category\")\n",
    "taggs[\"Temas_desempeño\"] = taggs[\"Temas_desempeño\"].astype(\"category\")\n",
    "taggs[\"Temas_diversidad\"] = taggs[\"Temas_diversidad\"].astype(\"category\")\n",
    "\n",
    "\n",
    "feature_cols = ['Temas_autoimagen','Temas_vinculares','Temas_emoción','Temas_violencia','Temas_desempeño','Temas_diversidad','estrategia_validación', 'estrategia_reflexionar', 'estrategia_recursos', 'estrategia_contención','estrategia_indagación','estrategia_educación','estrategia_derivación']\n",
    "#feature_cols = ['Temas_autoimagen','Temas_vinculares','Temas_sentido','Temas_violencia','Temas_desempeño','Temas_diversidad','estrategia_validación', 'estrategia_reflexionar', 'estrategia_recursos', 'estrategia_contención','estrategia_indagación','estrategia_educación','estrategia_derivación']\n",
    "X = taggs[feature_cols] # Features\n",
    "#X = pd.get_dummies(X, columns=['Temas_autoimagen','Temas_vinculares','Temas_sentido','Temas_violencia','Temas_desempeño','Temas_diversidad','estrategia_validación', 'estrategia_reflexionar', 'estrategia_recursos','estrategia_contención','estrategia_indagación','estrategia_educación','estrategia_derivación'], drop_first = True)\n",
    "X = pd.get_dummies(X, columns=['Temas_autoimagen','Temas_vinculares','Temas_emoción','Temas_violencia','Temas_desempeño','Temas_diversidad','estrategia_validación', 'estrategia_reflexionar', 'estrategia_recursos','estrategia_contención','estrategia_indagación','estrategia_educación','estrategia_derivación'], drop_first = True)\n",
    "\n",
    "X = add_constant(X)"
   ]
  },
  {
   "cell_type": "code",
   "execution_count": null,
   "metadata": {},
   "outputs": [],
   "source": []
  },
  {
   "cell_type": "code",
   "execution_count": 14,
   "metadata": {},
   "outputs": [
    {
     "name": "stdout",
     "output_type": "stream",
     "text": [
      "Optimization terminated successfully.\n",
      "         Current function value: 0.606465\n",
      "         Iterations 5\n",
      "Optimization terminated successfully.\n",
      "         Current function value: 0.607593\n",
      "         Iterations 5\n",
      "Optimization terminated successfully.\n",
      "         Current function value: 0.612940\n",
      "         Iterations 5\n",
      "Optimization terminated successfully.\n",
      "         Current function value: 0.612226\n",
      "         Iterations 5\n"
     ]
    }
   ],
   "source": [
    "y_suicida = taggs.Suicida\n",
    "res1 = smf.logit(formula='y_suicida ~  Temas_autoimagen_1 + Temas_vinculares_1 + Temas_emoción_1 + Temas_violencia_1 + Temas_desempeño_1 + Temas_diversidad_1 + estrategia_validación_1 + estrategia_reflexionar_1 + estrategia_recursos_1 + estrategia_contención_1 + estrategia_indagación_1 + estrategia_educación_1 + estrategia_derivación_1', data=X).fit()\n",
    "\n",
    "# sin validación ni educación\n",
    "res2 = smf.logit(formula='y_suicida ~  Temas_autoimagen_1 + Temas_vinculares_1 + Temas_emoción_1 + Temas_violencia_1 + Temas_desempeño_1 + Temas_diversidad_1 + estrategia_reflexionar_1 + estrategia_recursos_1 + estrategia_contención_1 + estrategia_indagación_1 + estrategia_derivación_1', data=X).fit()\n",
    "\n",
    "# sin recursos ni educación\n",
    "res3 = smf.logit(formula='y_suicida ~  Temas_autoimagen_1 + Temas_vinculares_1 + Temas_emoción_1 + Temas_violencia_1 + Temas_desempeño_1 + Temas_diversidad_1 + estrategia_validación_1 + estrategia_reflexionar_1 + estrategia_contención_1 +  estrategia_indagación_1 + estrategia_derivación_1', data=X).fit()\n",
    "\n",
    "\n",
    "# sin recursos ni reflexionar\n",
    "res4 = smf.logit(formula='y_suicida ~  Temas_autoimagen_1 + Temas_vinculares_1 + Temas_emoción_1 + Temas_violencia_1 + Temas_desempeño_1 + Temas_diversidad_1 + estrategia_contención_1 +  estrategia_indagación_1 + estrategia_educación_1  + estrategia_derivación_1', data=X).fit()\n"
   ]
  },
  {
   "cell_type": "code",
   "execution_count": 17,
   "metadata": {},
   "outputs": [],
   "source": [
    "stargazer = Stargazer([res1,res2,res3,res4])"
   ]
  },
  {
   "cell_type": "code",
   "execution_count": 18,
   "metadata": {},
   "outputs": [
    {
     "data": {
      "text/html": [
       "<table style=\"text-align:center\"><tr><td colspan=\"5\" style=\"border-bottom: 1px solid black\"></td></tr><tr><td style=\"text-align:left\"></td><td colspan=\"4\"><em>Dependent variable:y_suicida</em></td></tr><tr><td style=\"text-align:left\"></td><tr><td style=\"text-align:left\"></td><td>(1)</td><td>(2)</td><td>(3)</td><td>(4)</td></tr><tr><td colspan=\"5\" style=\"border-bottom: 1px solid black\"></td></tr><tr><td style=\"text-align:left\">Intercept</td><td>-0.693<sup>***</sup></td><td>-0.687<sup>***</sup></td><td>-0.710<sup>***</sup></td><td>-0.651<sup>***</sup></td></tr><tr><td style=\"text-align:left\"></td><td>(0.203)</td><td>(0.199)</td><td>(0.201)</td><td>(0.198)</td></tr><tr><td style=\"text-align:left\">Temas_autoimagen_1</td><td>0.405<sup>***</sup></td><td>0.432<sup>***</sup></td><td>0.472<sup>***</sup></td><td>0.459<sup>***</sup></td></tr><tr><td style=\"text-align:left\"></td><td>(0.153)</td><td>(0.152)</td><td>(0.151)</td><td>(0.151)</td></tr><tr><td style=\"text-align:left\">Temas_desempeño_1</td><td>-0.259<sup></sup></td><td>-0.259<sup></sup></td><td>-0.236<sup></sup></td><td>-0.231<sup></sup></td></tr><tr><td style=\"text-align:left\"></td><td>(0.159)</td><td>(0.158)</td><td>(0.157)</td><td>(0.157)</td></tr><tr><td style=\"text-align:left\">Temas_diversidad_1</td><td>-0.554<sup>***</sup></td><td>-0.544<sup>***</sup></td><td>-0.559<sup>***</sup></td><td>-0.539<sup>***</sup></td></tr><tr><td style=\"text-align:left\"></td><td>(0.202)</td><td>(0.202)</td><td>(0.201)</td><td>(0.201)</td></tr><tr><td style=\"text-align:left\">Temas_emoción_1</td><td>0.599<sup>***</sup></td><td>0.634<sup>***</sup></td><td>0.691<sup>***</sup></td><td>0.670<sup>***</sup></td></tr><tr><td style=\"text-align:left\"></td><td>(0.148)</td><td>(0.146)</td><td>(0.145)</td><td>(0.146)</td></tr><tr><td style=\"text-align:left\">Temas_vinculares_1</td><td>-0.350<sup>**</sup></td><td>-0.348<sup>**</sup></td><td>-0.310<sup>*</sup></td><td>-0.283<sup>*</sup></td></tr><tr><td style=\"text-align:left\"></td><td>(0.170)</td><td>(0.169)</td><td>(0.168)</td><td>(0.167)</td></tr><tr><td style=\"text-align:left\">Temas_violencia_1</td><td>0.335<sup>*</sup></td><td>0.344<sup>**</sup></td><td>0.332<sup>*</sup></td><td>0.342<sup>**</sup></td></tr><tr><td style=\"text-align:left\"></td><td>(0.172)</td><td>(0.172)</td><td>(0.171)</td><td>(0.171)</td></tr><tr><td style=\"text-align:left\">estrategia_contención_1</td><td>0.529<sup>***</sup></td><td>0.573<sup>***</sup></td><td>0.616<sup>***</sup></td><td>0.648<sup>***</sup></td></tr><tr><td style=\"text-align:left\"></td><td>(0.185)</td><td>(0.180)</td><td>(0.182)</td><td>(0.177)</td></tr><tr><td style=\"text-align:left\">estrategia_derivación_1</td><td>0.290<sup>*</sup></td><td>0.327<sup>**</sup></td><td>0.401<sup>**</sup></td><td>0.365<sup>**</sup></td></tr><tr><td style=\"text-align:left\"></td><td>(0.163)</td><td>(0.161)</td><td>(0.158)</td><td>(0.161)</td></tr><tr><td style=\"text-align:left\">estrategia_educación_1</td><td>0.231<sup></sup></td><td></td><td></td><td>0.327<sup>**</sup></td></tr><tr><td style=\"text-align:left\"></td><td>(0.179)</td><td></td><td></td><td>(0.166)</td></tr><tr><td style=\"text-align:left\">estrategia_indagación_1</td><td>-0.908<sup>***</sup></td><td>-0.900<sup>***</sup></td><td>-0.823<sup>***</sup></td><td>-0.837<sup>***</sup></td></tr><tr><td style=\"text-align:left\"></td><td>(0.209)</td><td>(0.209)</td><td>(0.206)</td><td>(0.206)</td></tr><tr><td style=\"text-align:left\">estrategia_recursos_1</td><td>0.503<sup>***</sup></td><td>0.531<sup>***</sup></td><td></td><td></td></tr><tr><td style=\"text-align:left\"></td><td>(0.156)</td><td>(0.154)</td><td></td><td></td></tr><tr><td style=\"text-align:left\">estrategia_reflexionar_1</td><td>0.050<sup></sup></td><td>0.137<sup></sup></td><td>0.144<sup></sup></td><td></td></tr><tr><td style=\"text-align:left\"></td><td>(0.170)</td><td>(0.159)</td><td>(0.160)</td><td></td></tr><tr><td style=\"text-align:left\">estrategia_validación_1</td><td>0.100<sup></sup></td><td></td><td>0.180<sup></sup></td><td></td></tr><tr><td style=\"text-align:left\"></td><td>(0.166)</td><td></td><td>(0.163)</td><td></td></tr><td colspan=\"5\" style=\"border-bottom: 1px solid black\"></td></tr><tr><td style=\"text-align: left\">Observations</td><td>1,000</td><td>1,000</td><td>1,000</td><td>1,000</td></tr><tr><td style=\"text-align: left\">R<sup>2</sup></td><td></td><td></td><td></td><td></td></tr><tr><td style=\"text-align: left\">Adjusted R<sup>2</sup></td><td></td><td></td><td></td><td></td></tr><tr><td style=\"text-align: left\">Residual Std. Error</td><td>1.000 (df=986)</td><td>1.000 (df=988)</td><td>1.000 (df=988)</td><td>1.000 (df=989)</td></tr><tr><td style=\"text-align: left\">F Statistic</td><td><sup></sup> (df=13; 986)</td><td><sup></sup> (df=11; 988)</td><td><sup></sup> (df=11; 988)</td><td><sup></sup> (df=10; 989)</td></tr><tr><td colspan=\"5\" style=\"border-bottom: 1px solid black\"></td></tr><tr><td style=\"text-align: left\">Note:</td>\n",
       " <td colspan=\"4\" style=\"text-align: right\">\n",
       "  <sup>*</sup>p&lt;0.1;\n",
       "  <sup>**</sup>p&lt;0.05;\n",
       "  <sup>***</sup>p&lt;0.01\n",
       " </td></tr></table>"
      ],
      "text/plain": [
       "<stargazer.stargazer.Stargazer at 0x2a3043e4b38>"
      ]
     },
     "execution_count": 18,
     "metadata": {},
     "output_type": "execute_result"
    }
   ],
   "source": [
    "stargazer\n",
    "#print(stargazer.render_latex())"
   ]
  },
  {
   "cell_type": "markdown",
   "metadata": {},
   "source": [
    "Temas : emoción, autoimagen <br>\n",
    "Estrategias: contención, recursos"
   ]
  },
  {
   "cell_type": "code",
   "execution_count": 186,
   "metadata": {},
   "outputs": [
    {
     "name": "stdout",
     "output_type": "stream",
     "text": [
      "Optimization terminated successfully.\n",
      "         Current function value: 0.606465\n",
      "         Iterations 5\n",
      "                           Logit Regression Results                           \n",
      "==============================================================================\n",
      "Dep. Variable:                Suicida   No. Observations:                 1000\n",
      "Model:                          Logit   Df Residuals:                      986\n",
      "Method:                           MLE   Df Model:                           13\n",
      "Date:                Sun, 12 Dec 2021   Pseudo R-squ.:                 0.08938\n",
      "Time:                        15:36:49   Log-Likelihood:                -606.47\n",
      "converged:                       True   LL-Null:                       -665.99\n",
      "                                        LLR p-value:                 3.106e-19\n",
      "============================================================================================\n",
      "                               coef    std err          z      P>|z|      [0.025      0.975]\n",
      "--------------------------------------------------------------------------------------------\n",
      "const                       -0.6931      0.203     -3.421      0.001      -1.090      -0.296\n",
      "Temas_autoimagen_1           0.4049      0.153      2.642      0.008       0.105       0.705\n",
      "Temas_vinculares_1          -0.3504      0.170     -2.060      0.039      -0.684      -0.017\n",
      "Temas_emoción_1              0.5990      0.148      4.040      0.000       0.308       0.890\n",
      "Temas_violencia_1            0.3353      0.172      1.946      0.052      -0.002       0.673\n",
      "Temas_desempeño_1           -0.2585      0.159     -1.631      0.103      -0.569       0.052\n",
      "Temas_diversidad_1          -0.5537      0.202     -2.737      0.006      -0.950      -0.157\n",
      "estrategia_validación_1      0.0997      0.166      0.600      0.548      -0.226       0.425\n",
      "estrategia_reflexionar_1     0.0504      0.170      0.296      0.767      -0.283       0.384\n",
      "estrategia_recursos_1        0.5031      0.156      3.232      0.001       0.198       0.808\n",
      "estrategia_contención_1      0.5292      0.185      2.856      0.004       0.166       0.892\n",
      "estrategia_indagación_1     -0.9079      0.209     -4.343      0.000      -1.318      -0.498\n",
      "estrategia_educación_1       0.2311      0.179      1.292      0.196      -0.119       0.581\n",
      "estrategia_derivación_1      0.2899      0.163      1.777      0.076      -0.030       0.610\n",
      "============================================================================================\n"
     ]
    }
   ],
   "source": [
    "logit_model=sm.Logit(y_suicida,X)\n",
    "result=logit_model.fit()\n",
    "print(result.summary())"
   ]
  },
  {
   "cell_type": "code",
   "execution_count": null,
   "metadata": {},
   "outputs": [],
   "source": []
  },
  {
   "cell_type": "code",
   "execution_count": 26,
   "metadata": {
    "scrolled": false
   },
   "outputs": [
    {
     "name": "stdout",
     "output_type": "stream",
     "text": [
      "Optimization terminated successfully.\n",
      "         Current function value: 0.593045\n",
      "         Iterations 5\n",
      "                           Logit Regression Results                           \n",
      "==============================================================================\n",
      "Dep. Variable:              Depresiva   No. Observations:                 1000\n",
      "Model:                          Logit   Df Residuals:                      986\n",
      "Method:                           MLE   Df Model:                           13\n",
      "Date:                Mon, 13 Dec 2021   Pseudo R-squ.:                  0.1441\n",
      "Time:                        13:24:05   Log-Likelihood:                -593.04\n",
      "converged:                       True   LL-Null:                       -692.91\n",
      "                                        LLR p-value:                 1.559e-35\n",
      "============================================================================================\n",
      "                               coef    std err          z      P>|z|      [0.025      0.975]\n",
      "--------------------------------------------------------------------------------------------\n",
      "const                       -1.3542      0.214     -6.329      0.000      -1.774      -0.935\n",
      "Temas_autoimagen_1           0.4806      0.154      3.126      0.002       0.179       0.782\n",
      "Temas_vinculares_1           0.1401      0.171      0.818      0.413      -0.195       0.476\n",
      "Temas_emoción_1              0.8019      0.150      5.337      0.000       0.507       1.096\n",
      "Temas_violencia_1            0.4224      0.179      2.359      0.018       0.071       0.773\n",
      "Temas_desempeño_1            0.5044      0.159      3.180      0.001       0.194       0.815\n",
      "Temas_diversidad_1          -0.4920      0.198     -2.486      0.013      -0.880      -0.104\n",
      "estrategia_validación_1      0.5814      0.163      3.563      0.000       0.262       0.901\n",
      "estrategia_reflexionar_1    -0.1106      0.173     -0.640      0.522      -0.449       0.228\n",
      "estrategia_recursos_1        0.8490      0.152      5.576      0.000       0.551       1.147\n",
      "estrategia_contención_1      0.2326      0.178      1.309      0.190      -0.116       0.581\n",
      "estrategia_indagación_1     -0.5983      0.213     -2.805      0.005      -1.016      -0.180\n",
      "estrategia_educación_1      -0.1128      0.185     -0.609      0.542      -0.475       0.250\n",
      "estrategia_derivación_1      0.2468      0.171      1.445      0.148      -0.088       0.581\n",
      "============================================================================================\n"
     ]
    }
   ],
   "source": [
    "y_depre = taggs.Depresiva\n",
    "logit_model=sm.Logit(y_depre,X)\n",
    "result=logit_model.fit()\n",
    "print(result.summary())"
   ]
  },
  {
   "cell_type": "markdown",
   "metadata": {},
   "source": []
  },
  {
   "cell_type": "code",
   "execution_count": 188,
   "metadata": {},
   "outputs": [
    {
     "name": "stdout",
     "output_type": "stream",
     "text": [
      "Optimization terminated successfully.\n",
      "         Current function value: 0.593045\n",
      "         Iterations 5\n",
      "Optimization terminated successfully.\n",
      "         Current function value: 0.599435\n",
      "         Iterations 5\n",
      "Optimization terminated successfully.\n",
      "         Current function value: 0.608736\n",
      "         Iterations 5\n",
      "Optimization terminated successfully.\n",
      "         Current function value: 0.616822\n",
      "         Iterations 5\n"
     ]
    }
   ],
   "source": [
    "res1 = smf.logit(formula='y_depre ~  Temas_autoimagen_1 + Temas_vinculares_1 + Temas_emoción_1 + Temas_violencia_1 + Temas_desempeño_1 + Temas_diversidad_1 + estrategia_validación_1 + estrategia_reflexionar_1 + estrategia_recursos_1 + estrategia_contención_1 + estrategia_indagación_1 + estrategia_educación_1 + estrategia_derivación_1', data=X).fit()\n",
    "\n",
    "# sin validación ni educación\n",
    "res2 = smf.logit(formula='y_depre ~  Temas_autoimagen_1 + Temas_vinculares_1 + Temas_emoción_1 + Temas_violencia_1 + Temas_desempeño_1 + Temas_diversidad_1 + estrategia_reflexionar_1 + estrategia_recursos_1 + estrategia_contención_1 + estrategia_indagación_1 + estrategia_derivación_1', data=X).fit()\n",
    "\n",
    "# sin recursos ni educación\n",
    "res3 = smf.logit(formula='y_depre ~  Temas_autoimagen_1 + Temas_vinculares_1 + Temas_emoción_1 + Temas_violencia_1 + Temas_desempeño_1 + Temas_diversidad_1 + estrategia_validación_1 + estrategia_reflexionar_1 + estrategia_contención_1 +  estrategia_indagación_1 + estrategia_derivación_1', data=X).fit()\n",
    "\n",
    "\n",
    "# sin recursos ni reflexionar\n",
    "res4 = smf.logit(formula='y_depre ~  Temas_autoimagen_1 + Temas_vinculares_1 + Temas_emoción_1 + Temas_violencia_1 + Temas_desempeño_1 + Temas_diversidad_1 + estrategia_contención_1 +  estrategia_indagación_1 + estrategia_educación_1  + estrategia_derivación_1', data=X).fit()\n"
   ]
  },
  {
   "cell_type": "code",
   "execution_count": 195,
   "metadata": {},
   "outputs": [
    {
     "data": {
      "text/html": [
       "<table class=\"simpletable\">\n",
       "<caption>Logit Regression Results</caption>\n",
       "<tr>\n",
       "  <th>Dep. Variable:</th>      <td>y_depre</td>     <th>  No. Observations:  </th>  <td>  1000</td>  \n",
       "</tr>\n",
       "<tr>\n",
       "  <th>Model:</th>               <td>Logit</td>      <th>  Df Residuals:      </th>  <td>   989</td>  \n",
       "</tr>\n",
       "<tr>\n",
       "  <th>Method:</th>               <td>MLE</td>       <th>  Df Model:          </th>  <td>    10</td>  \n",
       "</tr>\n",
       "<tr>\n",
       "  <th>Date:</th>          <td>Sun, 12 Dec 2021</td> <th>  Pseudo R-squ.:     </th>  <td>0.1098</td>  \n",
       "</tr>\n",
       "<tr>\n",
       "  <th>Time:</th>              <td>15:47:37</td>     <th>  Log-Likelihood:    </th> <td> -616.82</td> \n",
       "</tr>\n",
       "<tr>\n",
       "  <th>converged:</th>           <td>True</td>       <th>  LL-Null:           </th> <td> -692.91</td> \n",
       "</tr>\n",
       "<tr>\n",
       "  <th> </th>                      <td> </td>        <th>  LLR p-value:       </th> <td>1.335e-27</td>\n",
       "</tr>\n",
       "</table>\n",
       "<table class=\"simpletable\">\n",
       "<tr>\n",
       "             <td></td>                <th>coef</th>     <th>std err</th>      <th>z</th>      <th>P>|z|</th>  <th>[0.025</th>    <th>0.975]</th>  \n",
       "</tr>\n",
       "<tr>\n",
       "  <th>Intercept</th>               <td>   -1.1598</td> <td>    0.204</td> <td>   -5.678</td> <td> 0.000</td> <td>   -1.560</td> <td>   -0.759</td>\n",
       "</tr>\n",
       "<tr>\n",
       "  <th>Temas_autoimagen_1</th>      <td>    0.5758</td> <td>    0.149</td> <td>    3.852</td> <td> 0.000</td> <td>    0.283</td> <td>    0.869</td>\n",
       "</tr>\n",
       "<tr>\n",
       "  <th>Temas_vinculares_1</th>      <td>    0.2716</td> <td>    0.165</td> <td>    1.645</td> <td> 0.100</td> <td>   -0.052</td> <td>    0.595</td>\n",
       "</tr>\n",
       "<tr>\n",
       "  <th>Temas_emoción_1</th>         <td>    0.9051</td> <td>    0.145</td> <td>    6.223</td> <td> 0.000</td> <td>    0.620</td> <td>    1.190</td>\n",
       "</tr>\n",
       "<tr>\n",
       "  <th>Temas_violencia_1</th>       <td>    0.4406</td> <td>    0.175</td> <td>    2.524</td> <td> 0.012</td> <td>    0.099</td> <td>    0.783</td>\n",
       "</tr>\n",
       "<tr>\n",
       "  <th>Temas_desempeño_1</th>       <td>    0.5266</td> <td>    0.155</td> <td>    3.398</td> <td> 0.001</td> <td>    0.223</td> <td>    0.830</td>\n",
       "</tr>\n",
       "<tr>\n",
       "  <th>Temas_diversidad_1</th>      <td>   -0.4235</td> <td>    0.193</td> <td>   -2.193</td> <td> 0.028</td> <td>   -0.802</td> <td>   -0.045</td>\n",
       "</tr>\n",
       "<tr>\n",
       "  <th>estrategia_contención_1</th> <td>    0.5139</td> <td>    0.167</td> <td>    3.084</td> <td> 0.002</td> <td>    0.187</td> <td>    0.841</td>\n",
       "</tr>\n",
       "<tr>\n",
       "  <th>estrategia_indagación_1</th> <td>   -0.4698</td> <td>    0.207</td> <td>   -2.274</td> <td> 0.023</td> <td>   -0.875</td> <td>   -0.065</td>\n",
       "</tr>\n",
       "<tr>\n",
       "  <th>estrategia_educación_1</th>  <td>    0.0733</td> <td>    0.169</td> <td>    0.432</td> <td> 0.665</td> <td>   -0.259</td> <td>    0.405</td>\n",
       "</tr>\n",
       "<tr>\n",
       "  <th>estrategia_derivación_1</th> <td>    0.3831</td> <td>    0.165</td> <td>    2.325</td> <td> 0.020</td> <td>    0.060</td> <td>    0.706</td>\n",
       "</tr>\n",
       "</table>"
      ],
      "text/plain": [
       "<class 'statsmodels.iolib.summary.Summary'>\n",
       "\"\"\"\n",
       "                           Logit Regression Results                           \n",
       "==============================================================================\n",
       "Dep. Variable:                y_depre   No. Observations:                 1000\n",
       "Model:                          Logit   Df Residuals:                      989\n",
       "Method:                           MLE   Df Model:                           10\n",
       "Date:                Sun, 12 Dec 2021   Pseudo R-squ.:                  0.1098\n",
       "Time:                        15:47:37   Log-Likelihood:                -616.82\n",
       "converged:                       True   LL-Null:                       -692.91\n",
       "                                        LLR p-value:                 1.335e-27\n",
       "===========================================================================================\n",
       "                              coef    std err          z      P>|z|      [0.025      0.975]\n",
       "-------------------------------------------------------------------------------------------\n",
       "Intercept                  -1.1598      0.204     -5.678      0.000      -1.560      -0.759\n",
       "Temas_autoimagen_1          0.5758      0.149      3.852      0.000       0.283       0.869\n",
       "Temas_vinculares_1          0.2716      0.165      1.645      0.100      -0.052       0.595\n",
       "Temas_emoción_1             0.9051      0.145      6.223      0.000       0.620       1.190\n",
       "Temas_violencia_1           0.4406      0.175      2.524      0.012       0.099       0.783\n",
       "Temas_desempeño_1           0.5266      0.155      3.398      0.001       0.223       0.830\n",
       "Temas_diversidad_1         -0.4235      0.193     -2.193      0.028      -0.802      -0.045\n",
       "estrategia_contención_1     0.5139      0.167      3.084      0.002       0.187       0.841\n",
       "estrategia_indagación_1    -0.4698      0.207     -2.274      0.023      -0.875      -0.065\n",
       "estrategia_educación_1      0.0733      0.169      0.432      0.665      -0.259       0.405\n",
       "estrategia_derivación_1     0.3831      0.165      2.325      0.020       0.060       0.706\n",
       "===========================================================================================\n",
       "\"\"\""
      ]
     },
     "execution_count": 195,
     "metadata": {},
     "output_type": "execute_result"
    }
   ],
   "source": [
    "res4.summary()"
   ]
  },
  {
   "cell_type": "code",
   "execution_count": 189,
   "metadata": {},
   "outputs": [],
   "source": [
    "stargazer = Stargazer([res1,res2,res3,res4])"
   ]
  },
  {
   "cell_type": "code",
   "execution_count": 191,
   "metadata": {},
   "outputs": [
    {
     "name": "stdout",
     "output_type": "stream",
     "text": [
      "\\begin{table}[!htbp] \\centering\n",
      "\\begin{tabular}{@{\\extracolsep{5pt}}lcccc}\n",
      "\\\\[-1.8ex]\\hline\n",
      "\\hline \\\\[-1.8ex]\n",
      "& \\multicolumn{4}{c}{\\textit{Dependent variable:}} \\\n",
      "\\cr \\cline{4-5}\n",
      "\\\\[-1.8ex] & (1) & (2) & (3) & (4) \\\\\n",
      "\\hline \\\\[-1.8ex]\n",
      " Intercept & -1.354$^{***}$ & -1.205$^{***}$ & -1.319$^{***}$ & -1.160$^{***}$ \\\\\n",
      "  & (0.214) & (0.207) & (0.210) & (0.204) \\\\\n",
      " Temas_autoimagen_1 & 0.481$^{***}$ & 0.505$^{***}$ & 0.544$^{***}$ & 0.576$^{***}$ \\\\\n",
      "  & (0.154) & (0.152) & (0.150) & (0.149) \\\\\n",
      " Temas_desempeño_1 & 0.504$^{***}$ & 0.506$^{***}$ & 0.526$^{***}$ & 0.527$^{***}$ \\\\\n",
      "  & (0.159) & (0.158) & (0.156) & (0.155) \\\\\n",
      " Temas_diversidad_1 & -0.492$^{**}$ & -0.434$^{**}$ & -0.494$^{**}$ & -0.424$^{**}$ \\\\\n",
      "  & (0.198) & (0.197) & (0.195) & (0.193) \\\\\n",
      " Temas_emoción_1 & 0.802$^{***}$ & 0.820$^{***}$ & 0.876$^{***}$ & 0.905$^{***}$ \\\\\n",
      "  & (0.150) & (0.147) & (0.145) & (0.145) \\\\\n",
      " Temas_vinculares_1 & 0.140$^{}$ & 0.189$^{}$ & 0.214$^{}$ & 0.272$^{*}$ \\\\\n",
      "  & (0.171) & (0.170) & (0.167) & (0.165) \\\\\n",
      " Temas_violencia_1 & 0.422$^{**}$ & 0.455$^{**}$ & 0.405$^{**}$ & 0.441$^{**}$ \\\\\n",
      "  & (0.179) & (0.178) & (0.176) & (0.175) \\\\\n",
      " estrategia_contención_1 & 0.233$^{}$ & 0.371$^{**}$ & 0.350$^{**}$ & 0.514$^{***}$ \\\\\n",
      "  & (0.178) & (0.171) & (0.173) & (0.167) \\\\\n",
      " estrategia_derivación_1 & 0.247$^{}$ & 0.249$^{}$ & 0.368$^{**}$ & 0.383$^{**}$ \\\\\n",
      "  & (0.171) & (0.167) & (0.164) & (0.165) \\\\\n",
      " estrategia_educación_1 & -0.113$^{}$ & & & 0.073$^{}$ \\\\\n",
      "  & (0.185) & & & (0.169) \\\\\n",
      " estrategia_indagación_1 & -0.598$^{***}$ & -0.606$^{***}$ & -0.471$^{**}$ & -0.470$^{**}$ \\\\\n",
      "  & (0.213) & (0.212) & (0.209) & (0.207) \\\\\n",
      " estrategia_recursos_1 & 0.849$^{***}$ & 0.884$^{***}$ & & \\\\\n",
      "  & (0.152) & (0.150) & & \\\\\n",
      " estrategia_reflexionar_1 & -0.111$^{}$ & -0.047$^{}$ & -0.090$^{}$ & \\\\\n",
      "  & (0.173) & (0.163) & (0.163) & \\\\\n",
      " estrategia_validación_1 & 0.581$^{***}$ & & 0.639$^{***}$ & \\\\\n",
      "  & (0.163) & & (0.158) & \\\\\n",
      "\\hline \\\\[-1.8ex]\n",
      " Observations & 1,000 & 1,000 & 1,000 & 1,000 \\\\\n",
      " $R^2$ &  &  &  &  \\\\\n",
      " Adjusted $R^2$ &  &  &  &  \\\\\n",
      " Residual Std. Error & 1.000(df = 986) & 1.000(df = 988) & 1.000(df = 988) & 1.000(df = 989)  \\\\\n",
      " F Statistic & $^{}$ (df = 13.0; 986.0) & $^{}$ (df = 11.0; 988.0) & $^{}$ (df = 11.0; 988.0) & $^{}$ (df = 10.0; 989.0) \\\\\n",
      "\\hline\n",
      "\\hline \\\\[-1.8ex]\n",
      "\\textit{Note:} & \\multicolumn{4}{r}{$^{*}$p$<$0.1; $^{**}$p$<$0.05; $^{***}$p$<$0.01} \\\\\n",
      "\\end{tabular}\n",
      "\\end{table}\n"
     ]
    }
   ],
   "source": [
    "#stargazer\n",
    "print(stargazer.render_latex())"
   ]
  },
  {
   "cell_type": "markdown",
   "metadata": {},
   "source": [
    "Temas : emoción, desempeño,  autoimagen, violencia <br>\n",
    "Estrategias : recursos, validación"
   ]
  },
  {
   "cell_type": "code",
   "execution_count": 19,
   "metadata": {},
   "outputs": [
    {
     "ename": "NameError",
     "evalue": "name 'y' is not defined",
     "output_type": "error",
     "traceback": [
      "\u001b[1;31m---------------------------------------------------------------------------\u001b[0m",
      "\u001b[1;31mNameError\u001b[0m                                 Traceback (most recent call last)",
      "\u001b[1;32m<ipython-input-19-895603274277>\u001b[0m in \u001b[0;36m<module>\u001b[1;34m\u001b[0m\n\u001b[0;32m      1\u001b[0m \u001b[0my_ansiosa\u001b[0m \u001b[1;33m=\u001b[0m \u001b[0mtaggs\u001b[0m\u001b[1;33m.\u001b[0m\u001b[0mAnsiosa\u001b[0m\u001b[1;33m\u001b[0m\u001b[1;33m\u001b[0m\u001b[0m\n\u001b[1;32m----> 2\u001b[1;33m \u001b[0mlogit_model\u001b[0m\u001b[1;33m=\u001b[0m\u001b[0msm\u001b[0m\u001b[1;33m.\u001b[0m\u001b[0mLogit\u001b[0m\u001b[1;33m(\u001b[0m\u001b[0my\u001b[0m\u001b[1;33m,\u001b[0m\u001b[0mX\u001b[0m\u001b[1;33m)\u001b[0m\u001b[1;33m\u001b[0m\u001b[1;33m\u001b[0m\u001b[0m\n\u001b[0m\u001b[0;32m      3\u001b[0m \u001b[0mresult\u001b[0m\u001b[1;33m=\u001b[0m\u001b[0mlogit_model\u001b[0m\u001b[1;33m.\u001b[0m\u001b[0mfit\u001b[0m\u001b[1;33m(\u001b[0m\u001b[1;33m)\u001b[0m\u001b[1;33m\u001b[0m\u001b[1;33m\u001b[0m\u001b[0m\n\u001b[0;32m      4\u001b[0m \u001b[0mprint\u001b[0m\u001b[1;33m(\u001b[0m\u001b[0mresult\u001b[0m\u001b[1;33m.\u001b[0m\u001b[0msummary\u001b[0m\u001b[1;33m(\u001b[0m\u001b[1;33m)\u001b[0m\u001b[1;33m)\u001b[0m\u001b[1;33m\u001b[0m\u001b[1;33m\u001b[0m\u001b[0m\n",
      "\u001b[1;31mNameError\u001b[0m: name 'y' is not defined"
     ]
    }
   ],
   "source": [
    "y_ansiosa = taggs.Ansiosa\n",
    "logit_model=sm.Logit(y,X)\n",
    "result=logit_model.fit()\n",
    "print(result.summary())"
   ]
  },
  {
   "cell_type": "code",
   "execution_count": 47,
   "metadata": {},
   "outputs": [
    {
     "name": "stdout",
     "output_type": "stream",
     "text": [
      "Optimization terminated successfully.\n",
      "         Current function value: 0.530345\n",
      "         Iterations 6\n",
      "Optimization terminated successfully.\n",
      "         Current function value: 0.531898\n",
      "         Iterations 6\n",
      "Optimization terminated successfully.\n",
      "         Current function value: 0.534149\n",
      "         Iterations 6\n",
      "Optimization terminated successfully.\n",
      "         Current function value: 0.531373\n",
      "         Iterations 6\n"
     ]
    }
   ],
   "source": [
    "\n",
    "res1 = smf.logit(formula='y_ansiosa ~  Temas_autoimagen_1 + Temas_vinculares_1 + Temas_emoción_1 + Temas_violencia_1 + Temas_desempeño_1 + Temas_diversidad_1 + estrategia_validación_1 + estrategia_reflexionar_1 + estrategia_recursos_1 + estrategia_contención_1 + estrategia_indagación_1 + estrategia_educación_1 + estrategia_derivación_1', data=X).fit()\n",
    "\n",
    "# sin  educación\n",
    "res2 = smf.logit(formula='y_ansiosa ~  Temas_autoimagen_1 + Temas_vinculares_1 + Temas_emoción_1 + Temas_violencia_1 + Temas_desempeño_1 + Temas_diversidad_1 + estrategia_validación_1 + estrategia_reflexionar_1 + estrategia_recursos_1 + estrategia_contención_1 + estrategia_indagación_1 + estrategia_derivación_1', data=X).fit()\n",
    "\n",
    "# sin recursos ni educación\n",
    "res3 = smf.logit(formula='y_ansiosa ~  Temas_autoimagen_1 + Temas_vinculares_1 + Temas_emoción_1 + Temas_violencia_1 + Temas_desempeño_1 + Temas_diversidad_1 + estrategia_validación_1 + estrategia_reflexionar_1 + estrategia_contención_1 +  estrategia_indagación_1 + estrategia_derivación_1', data=X).fit()\n",
    "\n",
    "# sin recursos ni reflexionar\n",
    "res4 = smf.logit(formula='y_ansiosa ~  Temas_autoimagen_1 + Temas_vinculares_1 + Temas_emoción_1 + Temas_violencia_1 + Temas_desempeño_1 + Temas_diversidad_1 + estrategia_validación_1+  estrategia_contención_1 +  estrategia_indagación_1 + estrategia_recursos_1 + estrategia_educación_1  + estrategia_derivación_1', data=X).fit()\n",
    "\n",
    "#res1.summary()"
   ]
  },
  {
   "cell_type": "code",
   "execution_count": 48,
   "metadata": {},
   "outputs": [],
   "source": [
    "#res4.summary()"
   ]
  },
  {
   "cell_type": "code",
   "execution_count": 49,
   "metadata": {},
   "outputs": [],
   "source": [
    "stargazer = Stargazer([res1,res2,res3,res4])"
   ]
  },
  {
   "cell_type": "code",
   "execution_count": 50,
   "metadata": {},
   "outputs": [
    {
     "data": {
      "text/html": [
       "<table style=\"text-align:center\"><tr><td colspan=\"5\" style=\"border-bottom: 1px solid black\"></td></tr><tr><td style=\"text-align:left\"></td><td colspan=\"4\"><em>Dependent variable:y_ansiosa</em></td></tr><tr><td style=\"text-align:left\"></td><tr><td style=\"text-align:left\"></td><td>(1)</td><td>(2)</td><td>(3)</td><td>(4)</td></tr><tr><td colspan=\"5\" style=\"border-bottom: 1px solid black\"></td></tr><tr><td style=\"text-align:left\">Intercept</td><td>-2.269<sup>***</sup></td><td>-2.300<sup>***</sup></td><td>-2.291<sup>***</sup></td><td>-2.279<sup>***</sup></td></tr><tr><td style=\"text-align:left\"></td><td>(0.262)</td><td>(0.262)</td><td>(0.261)</td><td>(0.263)</td></tr><tr><td style=\"text-align:left\">Temas_autoimagen_1</td><td>-0.186<sup></sup></td><td>-0.151<sup></sup></td><td>-0.114<sup></sup></td><td>-0.174<sup></sup></td></tr><tr><td style=\"text-align:left\"></td><td>(0.168)</td><td>(0.167)</td><td>(0.165)</td><td>(0.168)</td></tr><tr><td style=\"text-align:left\">Temas_desempeño_1</td><td>0.060<sup></sup></td><td>0.060<sup></sup></td><td>0.077<sup></sup></td><td>0.075<sup></sup></td></tr><tr><td style=\"text-align:left\"></td><td>(0.170)</td><td>(0.169)</td><td>(0.169)</td><td>(0.169)</td></tr><tr><td style=\"text-align:left\">Temas_diversidad_1</td><td>-0.012<sup></sup></td><td>-0.017<sup></sup></td><td>-0.029<sup></sup></td><td>0.007<sup></sup></td></tr><tr><td style=\"text-align:left\"></td><td>(0.212)</td><td>(0.211)</td><td>(0.211)</td><td>(0.211)</td></tr><tr><td style=\"text-align:left\">Temas_emoción_1</td><td>1.076<sup>***</sup></td><td>1.113<sup>***</sup></td><td>1.152<sup>***</sup></td><td>1.091<sup>***</sup></td></tr><tr><td style=\"text-align:left\"></td><td>(0.164)</td><td>(0.163)</td><td>(0.162)</td><td>(0.164)</td></tr><tr><td style=\"text-align:left\">Temas_vinculares_1</td><td>-0.190<sup></sup></td><td>-0.208<sup></sup></td><td>-0.180<sup></sup></td><td>-0.179<sup></sup></td></tr><tr><td style=\"text-align:left\"></td><td>(0.187)</td><td>(0.186)</td><td>(0.185)</td><td>(0.186)</td></tr><tr><td style=\"text-align:left\">Temas_violencia_1</td><td>-0.170<sup></sup></td><td>-0.165<sup></sup></td><td>-0.167<sup></sup></td><td>-0.172<sup></sup></td></tr><tr><td style=\"text-align:left\"></td><td>(0.189)</td><td>(0.188)</td><td>(0.188)</td><td>(0.189)</td></tr><tr><td style=\"text-align:left\">estrategia_contención_1</td><td>-0.125<sup></sup></td><td>-0.107<sup></sup></td><td>-0.045<sup></sup></td><td>-0.107<sup></sup></td></tr><tr><td style=\"text-align:left\"></td><td>(0.203)</td><td>(0.203)</td><td>(0.200)</td><td>(0.203)</td></tr><tr><td style=\"text-align:left\">estrategia_derivación_1</td><td>-0.130<sup></sup></td><td>-0.077<sup></sup></td><td>-0.014<sup></sup></td><td>-0.117<sup></sup></td></tr><tr><td style=\"text-align:left\"></td><td>(0.179)</td><td>(0.176)</td><td>(0.173)</td><td>(0.178)</td></tr><tr><td style=\"text-align:left\">estrategia_educación_1</td><td>0.330<sup>*</sup></td><td></td><td></td><td>0.411<sup>**</sup></td></tr><tr><td style=\"text-align:left\"></td><td>(0.186)</td><td></td><td></td><td>(0.177)</td></tr><tr><td style=\"text-align:left\">estrategia_indagación_1</td><td>0.253<sup></sup></td><td>0.265<sup></sup></td><td>0.312<sup></sup></td><td>0.252<sup></sup></td></tr><tr><td style=\"text-align:left\"></td><td>(0.252)</td><td>(0.252)</td><td>(0.250)</td><td>(0.252)</td></tr><tr><td style=\"text-align:left\">estrategia_recursos_1</td><td>0.336<sup>**</sup></td><td>0.359<sup>**</sup></td><td></td><td>0.340<sup>**</sup></td></tr><tr><td style=\"text-align:left\"></td><td>(0.171)</td><td>(0.170)</td><td></td><td>(0.170)</td></tr><tr><td style=\"text-align:left\">estrategia_reflexionar_1</td><td>0.256<sup></sup></td><td>0.352<sup>**</sup></td><td>0.367<sup>**</sup></td><td></td></tr><tr><td style=\"text-align:left\"></td><td>(0.178)</td><td>(0.168)</td><td>(0.168)</td><td></td></tr><tr><td style=\"text-align:left\">estrategia_validación_1</td><td>0.730<sup>***</sup></td><td>0.769<sup>***</sup></td><td>0.804<sup>***</sup></td><td>0.760<sup>***</sup></td></tr><tr><td style=\"text-align:left\"></td><td>(0.192)</td><td>(0.190)</td><td>(0.189)</td><td>(0.190)</td></tr><td colspan=\"5\" style=\"border-bottom: 1px solid black\"></td></tr><tr><td style=\"text-align: left\">Observations</td><td>1,000</td><td>1,000</td><td>1,000</td><td>1,000</td></tr><tr><td style=\"text-align: left\">R<sup>2</sup></td><td></td><td></td><td></td><td></td></tr><tr><td style=\"text-align: left\">Adjusted R<sup>2</sup></td><td></td><td></td><td></td><td></td></tr><tr><td style=\"text-align: left\">Residual Std. Error</td><td>1.000 (df=986)</td><td>1.000 (df=987)</td><td>1.000 (df=988)</td><td>1.000 (df=987)</td></tr><tr><td style=\"text-align: left\">F Statistic</td><td><sup></sup> (df=13; 986)</td><td><sup></sup> (df=12; 987)</td><td><sup></sup> (df=11; 988)</td><td><sup></sup> (df=12; 987)</td></tr><tr><td colspan=\"5\" style=\"border-bottom: 1px solid black\"></td></tr><tr><td style=\"text-align: left\">Note:</td>\n",
       " <td colspan=\"4\" style=\"text-align: right\">\n",
       "  <sup>*</sup>p&lt;0.1;\n",
       "  <sup>**</sup>p&lt;0.05;\n",
       "  <sup>***</sup>p&lt;0.01\n",
       " </td></tr></table>"
      ],
      "text/plain": [
       "<stargazer.stargazer.Stargazer at 0x2a3045cbac8>"
      ]
     },
     "execution_count": 50,
     "metadata": {},
     "output_type": "execute_result"
    }
   ],
   "source": [
    "stargazer\n",
    "#print(stargazer.render_latex())"
   ]
  },
  {
   "cell_type": "code",
   "execution_count": null,
   "metadata": {},
   "outputs": [],
   "source": []
  },
  {
   "cell_type": "code",
   "execution_count": 27,
   "metadata": {},
   "outputs": [
    {
     "name": "stdout",
     "output_type": "stream",
     "text": [
      "Optimization terminated successfully.\n",
      "         Current function value: 0.606465\n",
      "         Iterations 5\n",
      "Optimization terminated successfully.\n",
      "         Current function value: 0.593045\n",
      "         Iterations 5\n",
      "Optimization terminated successfully.\n",
      "         Current function value: 0.530345\n",
      "         Iterations 6\n"
     ]
    }
   ],
   "source": [
    "res_suicida = smf.logit(formula='y_suicida ~  Temas_autoimagen_1 + Temas_vinculares_1 + Temas_emoción_1 + Temas_violencia_1 + Temas_desempeño_1 + Temas_diversidad_1 + estrategia_validación_1 + estrategia_reflexionar_1 + estrategia_recursos_1 + estrategia_contención_1 + estrategia_indagación_1 + estrategia_educación_1 + estrategia_derivación_1', data=X).fit()\n",
    "res_depre = smf.logit(formula='y_depre ~  Temas_autoimagen_1 + Temas_vinculares_1 + Temas_emoción_1 + Temas_violencia_1 + Temas_desempeño_1 + Temas_diversidad_1 + estrategia_validación_1 + estrategia_reflexionar_1 + estrategia_recursos_1 + estrategia_contención_1 + estrategia_indagación_1 + estrategia_educación_1 + estrategia_derivación_1', data=X).fit()\n",
    "res_ansiosa = smf.logit(formula='y_ansiosa ~  Temas_autoimagen_1 + Temas_vinculares_1 + Temas_emoción_1 + Temas_violencia_1 + Temas_desempeño_1 + Temas_diversidad_1 + estrategia_validación_1 + estrategia_reflexionar_1 + estrategia_recursos_1 + estrategia_contención_1 + estrategia_indagación_1 + estrategia_educación_1 + estrategia_derivación_1', data=X).fit()\n",
    "stargazer = Stargazer([res_suicida,res_depre,res_ansiosa])"
   ]
  },
  {
   "cell_type": "code",
   "execution_count": 37,
   "metadata": {},
   "outputs": [
    {
     "data": {
      "text/html": [
       "<table class=\"simpletable\">\n",
       "<caption>Logit Regression Results</caption>\n",
       "<tr>\n",
       "  <th>Dep. Variable:</th>     <td>y_suicida</td>    <th>  No. Observations:  </th>  <td>  1000</td>  \n",
       "</tr>\n",
       "<tr>\n",
       "  <th>Model:</th>               <td>Logit</td>      <th>  Df Residuals:      </th>  <td>   986</td>  \n",
       "</tr>\n",
       "<tr>\n",
       "  <th>Method:</th>               <td>MLE</td>       <th>  Df Model:          </th>  <td>    13</td>  \n",
       "</tr>\n",
       "<tr>\n",
       "  <th>Date:</th>          <td>Mon, 13 Dec 2021</td> <th>  Pseudo R-squ.:     </th>  <td>0.08938</td> \n",
       "</tr>\n",
       "<tr>\n",
       "  <th>Time:</th>              <td>13:42:11</td>     <th>  Log-Likelihood:    </th> <td> -606.47</td> \n",
       "</tr>\n",
       "<tr>\n",
       "  <th>converged:</th>           <td>True</td>       <th>  LL-Null:           </th> <td> -665.99</td> \n",
       "</tr>\n",
       "<tr>\n",
       "  <th> </th>                      <td> </td>        <th>  LLR p-value:       </th> <td>3.106e-19</td>\n",
       "</tr>\n",
       "</table>\n",
       "<table class=\"simpletable\">\n",
       "<tr>\n",
       "              <td></td>                <th>coef</th>     <th>std err</th>      <th>z</th>      <th>P>|z|</th>  <th>[0.025</th>    <th>0.975]</th>  \n",
       "</tr>\n",
       "<tr>\n",
       "  <th>Intercept</th>                <td>   -0.6931</td> <td>    0.203</td> <td>   -3.421</td> <td> 0.001</td> <td>   -1.090</td> <td>   -0.296</td>\n",
       "</tr>\n",
       "<tr>\n",
       "  <th>Temas_autoimagen_1</th>       <td>    0.4049</td> <td>    0.153</td> <td>    2.642</td> <td> 0.008</td> <td>    0.105</td> <td>    0.705</td>\n",
       "</tr>\n",
       "<tr>\n",
       "  <th>Temas_vinculares_1</th>       <td>   -0.3504</td> <td>    0.170</td> <td>   -2.060</td> <td> 0.039</td> <td>   -0.684</td> <td>   -0.017</td>\n",
       "</tr>\n",
       "<tr>\n",
       "  <th>Temas_emoción_1</th>          <td>    0.5990</td> <td>    0.148</td> <td>    4.040</td> <td> 0.000</td> <td>    0.308</td> <td>    0.890</td>\n",
       "</tr>\n",
       "<tr>\n",
       "  <th>Temas_violencia_1</th>        <td>    0.3353</td> <td>    0.172</td> <td>    1.946</td> <td> 0.052</td> <td>   -0.002</td> <td>    0.673</td>\n",
       "</tr>\n",
       "<tr>\n",
       "  <th>Temas_desempeño_1</th>        <td>   -0.2585</td> <td>    0.159</td> <td>   -1.631</td> <td> 0.103</td> <td>   -0.569</td> <td>    0.052</td>\n",
       "</tr>\n",
       "<tr>\n",
       "  <th>Temas_diversidad_1</th>       <td>   -0.5537</td> <td>    0.202</td> <td>   -2.737</td> <td> 0.006</td> <td>   -0.950</td> <td>   -0.157</td>\n",
       "</tr>\n",
       "<tr>\n",
       "  <th>estrategia_validación_1</th>  <td>    0.0997</td> <td>    0.166</td> <td>    0.600</td> <td> 0.548</td> <td>   -0.226</td> <td>    0.425</td>\n",
       "</tr>\n",
       "<tr>\n",
       "  <th>estrategia_reflexionar_1</th> <td>    0.0504</td> <td>    0.170</td> <td>    0.296</td> <td> 0.767</td> <td>   -0.283</td> <td>    0.384</td>\n",
       "</tr>\n",
       "<tr>\n",
       "  <th>estrategia_recursos_1</th>    <td>    0.5031</td> <td>    0.156</td> <td>    3.232</td> <td> 0.001</td> <td>    0.198</td> <td>    0.808</td>\n",
       "</tr>\n",
       "<tr>\n",
       "  <th>estrategia_contención_1</th>  <td>    0.5292</td> <td>    0.185</td> <td>    2.856</td> <td> 0.004</td> <td>    0.166</td> <td>    0.892</td>\n",
       "</tr>\n",
       "<tr>\n",
       "  <th>estrategia_indagación_1</th>  <td>   -0.9079</td> <td>    0.209</td> <td>   -4.343</td> <td> 0.000</td> <td>   -1.318</td> <td>   -0.498</td>\n",
       "</tr>\n",
       "<tr>\n",
       "  <th>estrategia_educación_1</th>   <td>    0.2311</td> <td>    0.179</td> <td>    1.292</td> <td> 0.196</td> <td>   -0.119</td> <td>    0.581</td>\n",
       "</tr>\n",
       "<tr>\n",
       "  <th>estrategia_derivación_1</th>  <td>    0.2899</td> <td>    0.163</td> <td>    1.777</td> <td> 0.076</td> <td>   -0.030</td> <td>    0.610</td>\n",
       "</tr>\n",
       "</table>"
      ],
      "text/plain": [
       "<class 'statsmodels.iolib.summary.Summary'>\n",
       "\"\"\"\n",
       "                           Logit Regression Results                           \n",
       "==============================================================================\n",
       "Dep. Variable:              y_suicida   No. Observations:                 1000\n",
       "Model:                          Logit   Df Residuals:                      986\n",
       "Method:                           MLE   Df Model:                           13\n",
       "Date:                Mon, 13 Dec 2021   Pseudo R-squ.:                 0.08938\n",
       "Time:                        13:42:11   Log-Likelihood:                -606.47\n",
       "converged:                       True   LL-Null:                       -665.99\n",
       "                                        LLR p-value:                 3.106e-19\n",
       "============================================================================================\n",
       "                               coef    std err          z      P>|z|      [0.025      0.975]\n",
       "--------------------------------------------------------------------------------------------\n",
       "Intercept                   -0.6931      0.203     -3.421      0.001      -1.090      -0.296\n",
       "Temas_autoimagen_1           0.4049      0.153      2.642      0.008       0.105       0.705\n",
       "Temas_vinculares_1          -0.3504      0.170     -2.060      0.039      -0.684      -0.017\n",
       "Temas_emoción_1              0.5990      0.148      4.040      0.000       0.308       0.890\n",
       "Temas_violencia_1            0.3353      0.172      1.946      0.052      -0.002       0.673\n",
       "Temas_desempeño_1           -0.2585      0.159     -1.631      0.103      -0.569       0.052\n",
       "Temas_diversidad_1          -0.5537      0.202     -2.737      0.006      -0.950      -0.157\n",
       "estrategia_validación_1      0.0997      0.166      0.600      0.548      -0.226       0.425\n",
       "estrategia_reflexionar_1     0.0504      0.170      0.296      0.767      -0.283       0.384\n",
       "estrategia_recursos_1        0.5031      0.156      3.232      0.001       0.198       0.808\n",
       "estrategia_contención_1      0.5292      0.185      2.856      0.004       0.166       0.892\n",
       "estrategia_indagación_1     -0.9079      0.209     -4.343      0.000      -1.318      -0.498\n",
       "estrategia_educación_1       0.2311      0.179      1.292      0.196      -0.119       0.581\n",
       "estrategia_derivación_1      0.2899      0.163      1.777      0.076      -0.030       0.610\n",
       "============================================================================================\n",
       "\"\"\""
      ]
     },
     "execution_count": 37,
     "metadata": {},
     "output_type": "execute_result"
    }
   ],
   "source": [
    "res_suicida.summary()\n",
    "#res_depre.summary()\n",
    "#res_ansiosa.summary()"
   ]
  },
  {
   "cell_type": "code",
   "execution_count": 38,
   "metadata": {},
   "outputs": [
    {
     "data": {
      "text/html": [
       "<table style=\"text-align:center\"><tr><td colspan=\"4\" style=\"border-bottom: 1px solid black\"></td></tr><tr><td style=\"text-align:left\"></td><tr><td style=\"text-align:left\"></td><td>(1)</td><td>(2)</td><td>(3)</td></tr><tr><td colspan=\"4\" style=\"border-bottom: 1px solid black\"></td></tr><tr><td style=\"text-align:left\">Intercept</td><td>-0.693<sup>***</sup></td><td>-1.354<sup>***</sup></td><td>-2.269<sup>***</sup></td></tr><tr><td style=\"text-align:left\"></td><td>(0.203)</td><td>(0.214)</td><td>(0.262)</td></tr><tr><td style=\"text-align:left\">Temas_autoimagen_1</td><td>0.405<sup>***</sup></td><td>0.481<sup>***</sup></td><td>-0.186<sup></sup></td></tr><tr><td style=\"text-align:left\"></td><td>(0.153)</td><td>(0.154)</td><td>(0.168)</td></tr><tr><td style=\"text-align:left\">Temas_desempeño_1</td><td>-0.259<sup></sup></td><td>0.504<sup>***</sup></td><td>0.060<sup></sup></td></tr><tr><td style=\"text-align:left\"></td><td>(0.159)</td><td>(0.159)</td><td>(0.170)</td></tr><tr><td style=\"text-align:left\">Temas_diversidad_1</td><td>-0.554<sup>***</sup></td><td>-0.492<sup>**</sup></td><td>-0.012<sup></sup></td></tr><tr><td style=\"text-align:left\"></td><td>(0.202)</td><td>(0.198)</td><td>(0.212)</td></tr><tr><td style=\"text-align:left\">Temas_emoción_1</td><td>0.599<sup>***</sup></td><td>0.802<sup>***</sup></td><td>1.076<sup>***</sup></td></tr><tr><td style=\"text-align:left\"></td><td>(0.148)</td><td>(0.150)</td><td>(0.164)</td></tr><tr><td style=\"text-align:left\">Temas_vinculares_1</td><td>-0.350<sup>**</sup></td><td>0.140<sup></sup></td><td>-0.190<sup></sup></td></tr><tr><td style=\"text-align:left\"></td><td>(0.170)</td><td>(0.171)</td><td>(0.187)</td></tr><tr><td style=\"text-align:left\">Temas_violencia_1</td><td>0.335<sup>*</sup></td><td>0.422<sup>**</sup></td><td>-0.170<sup></sup></td></tr><tr><td style=\"text-align:left\"></td><td>(0.172)</td><td>(0.179)</td><td>(0.189)</td></tr><tr><td style=\"text-align:left\">estrategia_contención_1</td><td>0.529<sup>***</sup></td><td>0.233<sup></sup></td><td>-0.125<sup></sup></td></tr><tr><td style=\"text-align:left\"></td><td>(0.185)</td><td>(0.178)</td><td>(0.203)</td></tr><tr><td style=\"text-align:left\">estrategia_derivación_1</td><td>0.290<sup>*</sup></td><td>0.247<sup></sup></td><td>-0.130<sup></sup></td></tr><tr><td style=\"text-align:left\"></td><td>(0.163)</td><td>(0.171)</td><td>(0.179)</td></tr><tr><td style=\"text-align:left\">estrategia_educación_1</td><td>0.231<sup></sup></td><td>-0.113<sup></sup></td><td>0.330<sup>*</sup></td></tr><tr><td style=\"text-align:left\"></td><td>(0.179)</td><td>(0.185)</td><td>(0.186)</td></tr><tr><td style=\"text-align:left\">estrategia_indagación_1</td><td>-0.908<sup>***</sup></td><td>-0.598<sup>***</sup></td><td>0.253<sup></sup></td></tr><tr><td style=\"text-align:left\"></td><td>(0.209)</td><td>(0.213)</td><td>(0.252)</td></tr><tr><td style=\"text-align:left\">estrategia_recursos_1</td><td>0.503<sup>***</sup></td><td>0.849<sup>***</sup></td><td>0.336<sup>**</sup></td></tr><tr><td style=\"text-align:left\"></td><td>(0.156)</td><td>(0.152)</td><td>(0.171)</td></tr><tr><td style=\"text-align:left\">estrategia_reflexionar_1</td><td>0.050<sup></sup></td><td>-0.111<sup></sup></td><td>0.256<sup></sup></td></tr><tr><td style=\"text-align:left\"></td><td>(0.170)</td><td>(0.173)</td><td>(0.178)</td></tr><tr><td style=\"text-align:left\">estrategia_validación_1</td><td>0.100<sup></sup></td><td>0.581<sup>***</sup></td><td>0.730<sup>***</sup></td></tr><tr><td style=\"text-align:left\"></td><td>(0.166)</td><td>(0.163)</td><td>(0.192)</td></tr><td colspan=\"4\" style=\"border-bottom: 1px solid black\"></td></tr><tr><td style=\"text-align: left\">Observations</td><td>1,000</td><td>1,000</td><td>1,000</td></tr><tr><td style=\"text-align: left\">R<sup>2</sup></td><td></td><td></td><td></td></tr><tr><td style=\"text-align: left\">Adjusted R<sup>2</sup></td><td></td><td></td><td></td></tr><tr><td style=\"text-align: left\">Residual Std. Error</td><td>1.000 (df=986)</td><td>1.000 (df=986)</td><td>1.000 (df=986)</td></tr><tr><td style=\"text-align: left\">F Statistic</td><td><sup></sup> (df=13; 986)</td><td><sup></sup> (df=13; 986)</td><td><sup></sup> (df=13; 986)</td></tr><tr><td colspan=\"4\" style=\"border-bottom: 1px solid black\"></td></tr><tr><td style=\"text-align: left\">Note:</td>\n",
       " <td colspan=\"3\" style=\"text-align: right\">\n",
       "  <sup>*</sup>p&lt;0.1;\n",
       "  <sup>**</sup>p&lt;0.05;\n",
       "  <sup>***</sup>p&lt;0.01\n",
       " </td></tr></table>"
      ],
      "text/plain": [
       "<stargazer.stargazer.Stargazer at 0x2a3044e97f0>"
      ]
     },
     "execution_count": 38,
     "metadata": {},
     "output_type": "execute_result"
    }
   ],
   "source": [
    "stargazer\n",
    "#print(stargazer.render_latex())"
   ]
  },
  {
   "cell_type": "markdown",
   "metadata": {},
   "source": [
    "Tema: emoción  <br>\n",
    "Estrategia : validación, recursos (educación)"
   ]
  },
  {
   "cell_type": "markdown",
   "metadata": {},
   "source": [
    "#### Checando correlaciones"
   ]
  },
  {
   "cell_type": "code",
   "execution_count": 135,
   "metadata": {},
   "outputs": [
    {
     "data": {
      "text/plain": [
       "<matplotlib.axes._subplots.AxesSubplot at 0x25d60f33898>"
      ]
     },
     "execution_count": 135,
     "metadata": {},
     "output_type": "execute_result"
    },
    {
     "data": {
      "image/png": "[encoded data removed]",
      "text/plain": [
       "<Figure size 864x720 with 4 Axes>"
      ]
     },
     "metadata": {
      "needs_background": "light"
     },
     "output_type": "display_data"
    }
   ],
   "source": [
    "fig, (ax1, ax2) = plt.subplots(2, 1, figsize=(12,10),constrained_layout=True)\n",
    "\n",
    "\n",
    "from matplotlib.colors import DivergingNorm\n",
    "offset = DivergingNorm(vmin=-0.25, vcenter=0, vmax=1)\n",
    "\n",
    "heat_estrategia = taggs[['Suicida', 'Ansiosa','Depresiva', 'estrategia_validación', 'estrategia_reflexionar', 'estrategia_recursos', 'estrategia_contención','estrategia_indagación','estrategia_educación','estrategia_derivación']].apply(lambda x : pd.factorize(x)[0]).corr(method='pearson', min_periods=1)\n",
    "heat_tema = taggs[['Suicida', 'Ansiosa','Depresiva', 'Temas_autoimagen','Temas_vinculares','Temas_sentido','Temas_emoción','Temas_violencia','Temas_desempeño','Temas_diversidad']].apply(lambda x : pd.factorize(x)[0]).corr(method='pearson', min_periods=1)\n",
    "#sns.heatmap(heat, annot=True)\n",
    "\n",
    "sns.heatmap(heat_estrategia, cmap=sns.diverging_palette(20, 200, n=200), norm=offset ,  ax=ax1, annot=True)\n",
    "sns.heatmap(heat_tema, cmap=sns.diverging_palette(20, 200, n=200), norm=offset ,ax=ax2, annot=True)"
   ]
  },
  {
   "cell_type": "code",
   "execution_count": 136,
   "metadata": {},
   "outputs": [
    {
     "data": {
      "text/plain": [
       "<matplotlib.axes._subplots.AxesSubplot at 0x25d6145b978>"
      ]
     },
     "execution_count": 136,
     "metadata": {},
     "output_type": "execute_result"
    },
    {
     "data": {
      "image/png": "[encoded data removed]",
      "text/plain": [
       "<Figure size 864x504 with 2 Axes>"
      ]
     },
     "metadata": {
      "needs_background": "light"
     },
     "output_type": "display_data"
    }
   ],
   "source": [
    "fig = plt.subplots(figsize=(12,7),constrained_layout=True)\n",
    "\n",
    "#offset = DivergingNorm(vmin=-0.25, vcenter=0, vmax=1)\n",
    "\n",
    "heat_estrategia_tema = taggs[[ 'Temas_autoimagen','Temas_vinculares','Temas_sentido','Temas_emoción','Temas_violencia','Temas_desempeño','Temas_diversidad', 'estrategia_validación', 'estrategia_reflexionar', 'estrategia_recursos', 'estrategia_contención','estrategia_indagación','estrategia_educación','estrategia_derivación']].apply(lambda x : pd.factorize(x)[0]).corr(method='pearson', min_periods=1)\n",
    "\n",
    "sns.heatmap(heat_estrategia_tema, cmap=sns.diverging_palette(20, 200, n=200), norm=offset ,   annot=True)"
   ]
  },
  {
   "cell_type": "markdown",
   "metadata": {},
   "source": [
    "#### Verificando si hay asociación estadística entre sintomatologías"
   ]
  },
  {
   "cell_type": "code",
   "execution_count": 9,
   "metadata": {},
   "outputs": [
    {
     "data": {
      "text/plain": [
       "83.43138078830154"
      ]
     },
     "execution_count": 9,
     "metadata": {},
     "output_type": "execute_result"
    }
   ],
   "source": [
    "d = taggs[(taggs.Suicida==0) & (taggs.Depresiva==0)].shape[0]    # arriba a la izquierda  : d\n",
    "c = taggs[(taggs.Suicida==1) & (taggs.Depresiva==0)].shape[0]   # abajo a la izquierda   : c ó b\n",
    "b = taggs[(taggs.Suicida==0) & (taggs.Depresiva==1)].shape[0]   # arriba a la derecha    : b ó c\n",
    "a = taggs[(taggs.Suicida==1) & (taggs.Depresiva==1)].shape[0]    # abajo a la derecha     : a\n",
    "N = a + b + c + d \n",
    "phi = (a*d - c*b) / math.sqrt((a+b)*(c+d)*(a+c)*(b+d))\n",
    "chi2 = N*phi*phi  \n",
    "chi2"
   ]
  },
  {
   "cell_type": "code",
   "execution_count": 12,
   "metadata": {},
   "outputs": [
    {
     "data": {
      "text/plain": [
       "0.004724216491397908"
      ]
     },
     "execution_count": 12,
     "metadata": {},
     "output_type": "execute_result"
    }
   ],
   "source": [
    "d = taggs[(taggs.Ansiosa==0) & (taggs.Depresiva==0)].shape[0]    # arriba a la izquierda  : d\n",
    "c = taggs[(taggs.Ansiosa==1) & (taggs.Depresiva==0)].shape[0]   # abajo a la izquierda   : c ó b\n",
    "b = taggs[(taggs.Ansiosa==0) & (taggs.Depresiva==1)].shape[0]   # arriba a la derecha    : b ó c\n",
    "a = taggs[(taggs.Ansiosa==1) & (taggs.Depresiva==1)].shape[0]    # abajo a la derecha     : a\n",
    "N = a + b + c + d \n",
    "phi = (a*d - c*b) / math.sqrt((a+b)*(c+d)*(a+c)*(b+d))\n",
    "chi2 = N*phi*phi  \n",
    "phi"
   ]
  },
  {
   "cell_type": "code",
   "execution_count": 13,
   "metadata": {},
   "outputs": [
    {
     "data": {
      "text/plain": [
       "-0.04016616278015657"
      ]
     },
     "execution_count": 13,
     "metadata": {},
     "output_type": "execute_result"
    }
   ],
   "source": [
    "d = taggs[(taggs.Ansiosa==0) & (taggs.Suicida==0)].shape[0]    # arriba a la izquierda  : d\n",
    "c = taggs[(taggs.Ansiosa==1) & (taggs.Suicida==0)].shape[0]   # abajo a la izquierda   : c ó b\n",
    "b = taggs[(taggs.Ansiosa==0) & (taggs.Suicida==1)].shape[0]   # arriba a la derecha    : b ó c\n",
    "a = taggs[(taggs.Ansiosa==1) & (taggs.Suicida==1)].shape[0]    # abajo a la derecha     : a\n",
    "N = a + b + c + d \n",
    "phi = (a*d - c*b) / math.sqrt((a+b)*(c+d)*(a+c)*(b+d))\n",
    "chi2 = N*phi*phi  \n",
    "phi"
   ]
  },
  {
   "cell_type": "code",
   "execution_count": null,
   "metadata": {},
   "outputs": [],
   "source": []
  },
  {
   "cell_type": "markdown",
   "metadata": {},
   "source": [
    "## Cargando Feature Importance\n",
    "\n",
    "esto sale del random forest, eso no está en este código"
   ]
  },
  {
   "cell_type": "code",
   "execution_count": 28,
   "metadata": {},
   "outputs": [],
   "source": [
    "depre = pd.read_csv('clasificadores/importance_Depresiva_corr.csv',encoding='latin-1')\n",
    "ansio = pd.read_csv('clasificadores/importance_Ansiosa_corr.csv',encoding='latin-1')\n",
    "suici = pd.read_csv('clasificadores/importance_Suicida_corr.csv',encoding='latin-1')"
   ]
  },
  {
   "cell_type": "code",
   "execution_count": 33,
   "metadata": {},
   "outputs": [],
   "source": [
    "dep20 = depre[0:20]\n",
    "sui20 = suici[0:20]\n",
    "ans20 = ansio[0:20]\n"
   ]
  },
  {
   "cell_type": "code",
   "execution_count": 35,
   "metadata": {},
   "outputs": [
    {
     "name": "stderr",
     "output_type": "stream",
     "text": [
      "C:\\Users\\Alumno05\\Anaconda3\\envs\\cabildos\\lib\\site-packages\\ipykernel_launcher.py:1: SettingWithCopyWarning: \n",
      "A value is trying to be set on a copy of a slice from a DataFrame.\n",
      "Try using .loc[row_indexer,col_indexer] = value instead\n",
      "\n",
      "See the caveats in the documentation: http://pandas.pydata.org/pandas-docs/stable/indexing.html#indexing-view-versus-copy\n",
      "  \"\"\"Entry point for launching an IPython kernel.\n",
      "C:\\Users\\Alumno05\\Anaconda3\\envs\\cabildos\\lib\\site-packages\\ipykernel_launcher.py:2: SettingWithCopyWarning: \n",
      "A value is trying to be set on a copy of a slice from a DataFrame.\n",
      "Try using .loc[row_indexer,col_indexer] = value instead\n",
      "\n",
      "See the caveats in the documentation: http://pandas.pydata.org/pandas-docs/stable/indexing.html#indexing-view-versus-copy\n",
      "  \n",
      "C:\\Users\\Alumno05\\Anaconda3\\envs\\cabildos\\lib\\site-packages\\ipykernel_launcher.py:3: SettingWithCopyWarning: \n",
      "A value is trying to be set on a copy of a slice from a DataFrame.\n",
      "Try using .loc[row_indexer,col_indexer] = value instead\n",
      "\n",
      "See the caveats in the documentation: http://pandas.pydata.org/pandas-docs/stable/indexing.html#indexing-view-versus-copy\n",
      "  This is separate from the ipykernel package so we can avoid doing imports until\n"
     ]
    }
   ],
   "source": [
    "dep20['cols'] = dep20['cols'].replace({'depresión':'depression',  'Tristeza':'LIWC - Sadness',  'sentir':'(to) feel',  'Emoneg':'NegEmo',  'solo':'alone',  'Yo':'LIWC - I',  'client_lenght':'Text length',  'nadar':'nothing',  'Prepo':'LIWC - Preposition',  'tener':'(to) have',  'Tiempo':'LIWC - Time',  'Negación':'LIWC - Negation', 'ser':'(to) be',  'Sentidos':'LIWC - Senses',  'Muerte':'LIWC - Death',  'Pronom':'LIWC - Pronouns',  'unomismo':'LIWC - I+We',  'user_response_avg':'Volunteer response avg.',  'triste':'sad',  'comer':'(to) eat'})\n",
    "sui20['cols'] = sui20['cols'].replace({'Muerte':'LIWC - Death', 'suicidar':'(to) suicide', 'cortar':'(to) cut', 'suicidio':'suicide', 'morir':'(to) die', 'Tristeza':'LIWC - Sadness', 'Metafo':'LIWC - Metaphysical', 'querer':'(to) want', 'user_response_avg':'Volunteer response avg.', 'client_lenght_avg':'User lenght', 'vida':'life', 'Enojo':'LIWC - Anger', 'pastilla':'pill', 'querer morir':'want (to) die', 'dañar':'(to) harm', 'familia':'family', 'rate_user_client':'User/Volunteer length', 'ser':'(to) be', 'client_response_avg':'User response avg.', 'hacer':'(to) do'})\n",
    "ans20['cols'] = ans20['cols'].replace({'ansiedad':'anxiety', 'Ansiedad':'LIWC - Anxiety', 'pánico':'panic', 'ansioso':'anxious', 'dar':'to (give)', 'crisis':'crisis', 'pechar':'chest', 'ser':'(to) be', 'miedo':'fear', 'Físico':'LIWC - Physical', 'user_response_avg':'Volunteer response avg.', 'crisis pánico':'panic attack', 'cuerpo':'body', 'Emoneg':'NegEmo', 'vez':'time', 'estresante':'stressful', 'querer':'(to) want', 'MecCog':'CogMech', 'client_lenght_avg':'User lenght', 'angustiar':'(to) distress'})"
   ]
  },
  {
   "cell_type": "code",
   "execution_count": 38,
   "metadata": {},
   "outputs": [
    {
     "data": {
      "text/html": [
       "<div>\n",
       "<style scoped>\n",
       "    .dataframe tbody tr th:only-of-type {\n",
       "        vertical-align: middle;\n",
       "    }\n",
       "\n",
       "    .dataframe tbody tr th {\n",
       "        vertical-align: top;\n",
       "    }\n",
       "\n",
       "    .dataframe thead th {\n",
       "        text-align: right;\n",
       "    }\n",
       "</style>\n",
       "<table border=\"1\" class=\"dataframe\">\n",
       "  <thead>\n",
       "    <tr style=\"text-align: right;\">\n",
       "      <th></th>\n",
       "      <th>cols</th>\n",
       "      <th>value</th>\n",
       "    </tr>\n",
       "  </thead>\n",
       "  <tbody>\n",
       "    <tr>\n",
       "      <th>0</th>\n",
       "      <td>anxiety</td>\n",
       "      <td>0.081988</td>\n",
       "    </tr>\n",
       "    <tr>\n",
       "      <th>1</th>\n",
       "      <td>LIWC - Anxiety</td>\n",
       "      <td>0.040577</td>\n",
       "    </tr>\n",
       "    <tr>\n",
       "      <th>2</th>\n",
       "      <td>panic</td>\n",
       "      <td>0.022394</td>\n",
       "    </tr>\n",
       "    <tr>\n",
       "      <th>3</th>\n",
       "      <td>anxious</td>\n",
       "      <td>0.016653</td>\n",
       "    </tr>\n",
       "    <tr>\n",
       "      <th>4</th>\n",
       "      <td>to (give)</td>\n",
       "      <td>0.015657</td>\n",
       "    </tr>\n",
       "    <tr>\n",
       "      <th>5</th>\n",
       "      <td>crisis</td>\n",
       "      <td>0.015255</td>\n",
       "    </tr>\n",
       "    <tr>\n",
       "      <th>6</th>\n",
       "      <td>chest</td>\n",
       "      <td>0.013490</td>\n",
       "    </tr>\n",
       "    <tr>\n",
       "      <th>7</th>\n",
       "      <td>(to) be</td>\n",
       "      <td>0.012594</td>\n",
       "    </tr>\n",
       "    <tr>\n",
       "      <th>8</th>\n",
       "      <td>fear</td>\n",
       "      <td>0.012502</td>\n",
       "    </tr>\n",
       "    <tr>\n",
       "      <th>9</th>\n",
       "      <td>LIWC - Physical</td>\n",
       "      <td>0.011864</td>\n",
       "    </tr>\n",
       "    <tr>\n",
       "      <th>10</th>\n",
       "      <td>Volunteer response avg.</td>\n",
       "      <td>0.011025</td>\n",
       "    </tr>\n",
       "    <tr>\n",
       "      <th>11</th>\n",
       "      <td>panic attack</td>\n",
       "      <td>0.010989</td>\n",
       "    </tr>\n",
       "    <tr>\n",
       "      <th>12</th>\n",
       "      <td>body</td>\n",
       "      <td>0.010320</td>\n",
       "    </tr>\n",
       "    <tr>\n",
       "      <th>13</th>\n",
       "      <td>NegEmo</td>\n",
       "      <td>0.009760</td>\n",
       "    </tr>\n",
       "    <tr>\n",
       "      <th>14</th>\n",
       "      <td>time</td>\n",
       "      <td>0.009291</td>\n",
       "    </tr>\n",
       "    <tr>\n",
       "      <th>15</th>\n",
       "      <td>stressful</td>\n",
       "      <td>0.009219</td>\n",
       "    </tr>\n",
       "    <tr>\n",
       "      <th>16</th>\n",
       "      <td>(to) want</td>\n",
       "      <td>0.009086</td>\n",
       "    </tr>\n",
       "    <tr>\n",
       "      <th>17</th>\n",
       "      <td>CogMech</td>\n",
       "      <td>0.008835</td>\n",
       "    </tr>\n",
       "    <tr>\n",
       "      <th>18</th>\n",
       "      <td>User lenght</td>\n",
       "      <td>0.008750</td>\n",
       "    </tr>\n",
       "    <tr>\n",
       "      <th>19</th>\n",
       "      <td>(to) distress</td>\n",
       "      <td>0.008733</td>\n",
       "    </tr>\n",
       "  </tbody>\n",
       "</table>\n",
       "</div>"
      ],
      "text/plain": [
       "                       cols     value\n",
       "0                   anxiety  0.081988\n",
       "1            LIWC - Anxiety  0.040577\n",
       "2                     panic  0.022394\n",
       "3                   anxious  0.016653\n",
       "4                 to (give)  0.015657\n",
       "5                    crisis  0.015255\n",
       "6                     chest  0.013490\n",
       "7                   (to) be  0.012594\n",
       "8                      fear  0.012502\n",
       "9           LIWC - Physical  0.011864\n",
       "10  Volunteer response avg.  0.011025\n",
       "11             panic attack  0.010989\n",
       "12                     body  0.010320\n",
       "13                   NegEmo  0.009760\n",
       "14                     time  0.009291\n",
       "15                stressful  0.009219\n",
       "16                (to) want  0.009086\n",
       "17                  CogMech  0.008835\n",
       "18              User lenght  0.008750\n",
       "19            (to) distress  0.008733"
      ]
     },
     "execution_count": 38,
     "metadata": {},
     "output_type": "execute_result"
    }
   ],
   "source": [
    "ans20"
   ]
  },
  {
   "cell_type": "code",
   "execution_count": 56,
   "metadata": {},
   "outputs": [
    {
     "data": {
      "image/png": "[encoded data removed]",
      "text/plain": [
       "<Figure size 1152x936 with 3 Axes>"
      ]
     },
     "metadata": {
      "needs_background": "light"
     },
     "output_type": "display_data"
    }
   ],
   "source": [
    "plt.figure(figsize=(16,13)) \n",
    "\n",
    "plt.subplot(231)\n",
    "plt.barh(ans20.cols, ans20.value, color='lightgrey', edgecolor='black')\n",
    "plt.title('Anxious')\n",
    "plt.gca().invert_yaxis()\n",
    "\n",
    "plt.subplot(233)\n",
    "plt.barh(dep20.cols, dep20.value, color='lightgrey', edgecolor='black')\n",
    "plt.title('Depressive')\n",
    "plt.gca().invert_yaxis()\n",
    "\n",
    "plt.subplot(235)\n",
    "plt.barh(sui20.cols, sui20.value, color='lightgrey', edgecolor='black')\n",
    "plt.title('Suicidal')\n",
    "plt.gca().invert_yaxis()\n",
    "\n",
    "#plt.show()\n",
    "plt.savefig(\"features.svg\")"
   ]
  },
  {
   "cell_type": "code",
   "execution_count": null,
   "metadata": {},
   "outputs": [],
   "source": []
  }
 ],
 "metadata": {
  "kernelspec": {
   "display_name": "Python 3 (ipykernel)",
   "language": "python",
   "name": "python3"
  },
  "language_info": {
   "codemirror_mode": {
    "name": "ipython",
    "version": 3
   },
   "file_extension": ".py",
   "mimetype": "text/x-python",
   "name": "python",
   "nbconvert_exporter": "python",
   "pygments_lexer": "ipython3",
   "version": "3.8.12"
  }
 },
 "nbformat": 4,
 "nbformat_minor": 2
}
