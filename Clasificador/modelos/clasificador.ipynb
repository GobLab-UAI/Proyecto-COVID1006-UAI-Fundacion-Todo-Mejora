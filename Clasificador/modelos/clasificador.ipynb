{
  "nbformat": 4,
  "nbformat_minor": 0,
  "metadata": {
    "colab": {
      "name": "final_models.ipynb",
      "provenance": [],
      "machine_shape": "hm",
      "background_execution": "on"
    },
    "kernelspec": {
      "name": "python3",
      "display_name": "Python 3"
    },
    "language_info": {
      "name": "python"
    }
  },
  "cells": [
    {
      "cell_type": "code",
      "metadata": {
        "id": "59Q9cwQ6uToS"
      },
      "source": [
        "import os\n",
        "import pandas as pd\n",
        "import numpy as np\n",
        "import json\n",
        "from functools import reduce\n",
        "from sklearn.model_selection import KFold\n",
        "from sklearn.pipeline import Pipeline\n",
        "from sklearn.preprocessing import StandardScaler\n",
        "from sklearn.model_selection import train_test_split\n",
        "from sklearn.model_selection import GridSearchCV\n",
        "from sklearn.model_selection import train_test_split\n",
        "from sklearn.linear_model import LogisticRegression\n",
        "from sklearn.ensemble import RandomForestClassifier\n",
        "from sklearn.naive_bayes import GaussianNB\n",
        "from sklearn.metrics import recall_score, precision_score\n",
        "from sklearn.svm  import SVC\n",
        "from joblib import dump, load\n",
        "import logging\n",
        "logging.basicConfig(level = logging.INFO)"
      ],
      "execution_count": null,
      "outputs": []
    },
    {
      "cell_type": "markdown",
      "source": [
        "\n",
        "\n",
        "# **LEYENDO DATOS**"
      ],
      "metadata": {
        "id": "PAj-suNITY_x"
      }
    },
    {
      "cell_type": "code",
      "source": [
        "def generate_tfidf_matrix(X, col, tag):\n",
        "    tfidf = load(f'../files/models/tfidf_{col}.joblib')\n",
        "    identifier = X.iloc[:,[0]]\n",
        "\n",
        "    X = tfidf.transform(X[col])\n",
        "    X = pd.DataFrame(X.toarray(),\n",
        "                     columns=tfidf.get_feature_names())\n",
        "\n",
        "    path = f'../files/kw_extraction/{col}_{tag}.npy'\n",
        "    cols = np.load(path, allow_pickle= True)\n",
        "\n",
        "    if tag == 'Ansiosa':\n",
        "        cols = np.delete(cols,34)\n",
        "        X = X[cols]\n",
        "        features = [identifier, X]\n",
        "        X = pd.concat(features,axis=1)\n",
        "\n",
        "    else:\n",
        "        X = X[cols[0]]\n",
        "        features = [identifier, X]\n",
        "        X = pd.concat(features,axis=1)\n",
        "\n",
        "    return X\n",
        "\n",
        "\n",
        "\n",
        "def standar_scaler(X_train, X_test):\n",
        "    scaler = StandardScaler()\n",
        "    scaler.fit(X_train)\n",
        "    standarized = scaler.transform(X_test)\n",
        "\n",
        "    return standarized\n"
      ],
      "metadata": {
        "id": "D-KxNhCfdPKU"
      },
      "execution_count": null,
      "outputs": []
    },
    {
      "cell_type": "code",
      "source": [
        "df = pd.read_csv('..files/data_preprocesada.csv', sep = \";\")\n",
        "tag = 'Suicida'\n",
        "X = df.iloc[:,[0,7]]"
      ],
      "metadata": {
        "id": "8V6Oj_l3eQGo"
      },
      "execution_count": null,
      "outputs": []
    },
    {
      "cell_type": "code",
      "source": [
        "covid_estallido  = pd.read_csv('../files/pandemia_estallido.csv', sep=\";\")\n",
        "covid_estallido.rename(columns = {'Identifier':'Id'}, inplace = True)\n",
        "conversaciones_LIWC = pd.read_csv('../files/conversaciones_LIWC.csv', sep=\"\\t\")\n",
        "conversaciones_LIWC = conversaciones_LIWC.iloc[:,1:]\n",
        "marcadores_sintacticos = pd.read_csv('../files/marcadores_sintacticos.csv',sep =\",\")\n",
        "marcadores_sintacticos.rename(columns = {'id':'Id'}, inplace = True)\n",
        "marcadores_no_verbales = pd.read_csv('../files/marcadores_no_verbales.csv',sep =\";\")\n",
        "marcadores_no_verbales = marcadores_no_verbales.drop(['start_conversation', 'end_conversation'], axis = 1)\n",
        "\n",
        "\n",
        "marcadores_no_verbales.rename(columns = {'Identifier':'Id'}, inplace = True)\n",
        "word_features = generate_tfidf_matrix(X,'text',tag)\n",
        "word_features.rename(columns = {'Identifier':'Id'}, inplace = True)\n",
        "tags = pd.read_csv('../files/conversaciones_taggeadas_1000.csv',sep =\"\\t\", usecols = [0,1,2,3])\n",
        "tags = tags[['Id',tag]]"
      ],
      "metadata": {
        "id": "VUGdx1q7Tcl-"
      },
      "execution_count": null,
      "outputs": []
    },
    {
      "cell_type": "code",
      "source": [
        "frames = [covid_estallido, conversaciones_LIWC, marcadores_sintacticos, word_features, marcadores_no_verbales, tags]\n",
        "# frames = [conversaciones_LIWC,tags]\n",
        "df_merged = reduce(lambda  left,right: pd.merge(left,right,on=['Id'],\n",
        "                                            how='inner'), frames)\n",
        "\n",
        "\n",
        "\n",
        "X_train, X_test, y_train, y_test = train_test_split(\n",
        "    df_merged.iloc[:,1:-1], df_merged.iloc[:,[-1]], test_size=0.33, random_state=42)\n",
        "     \n",
        "\n",
        "X_test = standar_scaler(X_train, X_test )"
      ],
      "metadata": {
        "id": "ajFU3PW1VwQm"
      },
      "execution_count": null,
      "outputs": []
    },
    {
      "cell_type": "code",
      "source": [
        "df_merged.to_csv(f'{tag}_matriz.csv', sep = ';', index = False)"
      ],
      "metadata": {
        "id": "7bvEbckfIrCk"
      },
      "execution_count": null,
      "outputs": []
    },
    {
      "cell_type": "markdown",
      "source": [
        "# **Selección de hiperparámetros**"
      ],
      "metadata": {
        "id": "h7TR4fUaRd8X"
      }
    },
    {
      "cell_type": "code",
      "source": [
        "def hyperparameter_tunning(params, model, X, y, tag):\n",
        "    m = model()\n",
        "    reg = GridSearchCV(m, params, n_jobs= 7)\n",
        "    reg.fit(X, y)\n",
        "\n",
        "    my_file = open(f\"../files/params/params_{tag}_{model.__name__}.json\", \"w\")\n",
        "    json.dump(reg.best_params_, my_file)\n",
        "    my_file.close()\n",
        "    \n",
        "    return reg"
      ],
      "metadata": {
        "id": "lsS7W2UNRy7w"
      },
      "execution_count": null,
      "outputs": []
    },
    {
      "cell_type": "code",
      "source": [
        "import multiprocessing\n",
        "n_jobs = multiprocessing.cpu_count()-1\n",
        "\n",
        "\n",
        "logi_params = {\"C\":np.logspace(-4,4,100), \"penalty\":[\"l1\",\"l2\"]}\n",
        "svm_params = {'kernel':('linear', 'rbf'), 'C':np.logspace(-4,4,100)}\n",
        "rf_params = { \n",
        "    'n_estimators': [10, 20, 30, 40, 100, 200, 300, 500, 1000],\n",
        "    'max_features' : ['auto', 'sqrt'],\n",
        "    'max_depth':[5,10,15,40]\n",
        "}"
      ],
      "metadata": {
        "id": "LLAjvMXTS9dR"
      },
      "execution_count": null,
      "outputs": []
    },
    {
      "cell_type": "code",
      "source": [
        "hyperparameter_tunning(rf_params, RandomForestClassifier, X_test, y_test, tag )"
      ],
      "metadata": {
        "id": "tH2QccwnuUwr"
      },
      "execution_count": null,
      "outputs": []
    },
    {
      "cell_type": "markdown",
      "source": [
        "# **CLASIFICADOR**"
      ],
      "metadata": {
        "id": "-Jbo2zhhR0yL"
      }
    },
    {
      "cell_type": "code",
      "metadata": {
        "id": "JQZpNwI71TpQ"
      },
      "source": [
        "from sklearn.metrics import *\n",
        "from sklearn.model_selection import cross_validate\n",
        "\n",
        "\n",
        "def get_model_results(func):\n",
        "\n",
        "    def wrapper(*args):\n",
        "        logging.info('Training model : {}'.format(args[0]))\n",
        "        result =  func(*args)\n",
        "        result['model_name'] = args[0].__name__\n",
        "        result['tag'] = args[2]\n",
        "        try:\n",
        "            params = open(f\"../files/params/params_{tag}_{args[0].__name__}.json\", \"r\")\n",
        "            params = params.read()\n",
        "            result['params'] = str(params)\n",
        "        except:\n",
        "            result['params'] = ''\n",
        "\n",
        "\n",
        "        agg = result.groupby(['model_name','params','tag']).mean().reset_index()\n",
        "\n",
        "        return agg\n",
        "\n",
        "    def f1(row):\n",
        "        f1 = (2 * row['test_precision'] * row['test_recall'] ) / (row['test_precision'] + row['test_recall'])\n",
        "        return f1\n",
        "\n",
        "    def get_missclasification_rate(acurracy):\n",
        "        return 1 - acurracy\n",
        "\n",
        "    return wrapper\n",
        "\n",
        "\n",
        "@get_model_results\n",
        "def fitter(model, df, tag):\n",
        "    X = df.iloc[:,1:-1]\n",
        "    y = df.iloc[:,[-1]]\n",
        "    try:\n",
        "        params = open(f\"../files/params/params_{tag}_{model.__name__}.json\", \"r\")\n",
        "        params = params.read()\n",
        "        clf = model(params).fit(X, y)\n",
        "\n",
        "    except:\n",
        "        clf = model().fit(X, y)\n",
        "\n",
        "    scoring = {\n",
        "             'recall': make_scorer(recall_score, average='weighted'),\n",
        "             'precision': make_scorer(precision_score, average='weighted')\n",
        "    }\n",
        "\n",
        "    cv = KFold(n_splits=10)\n",
        "    scalar = StandardScaler()\n",
        "    pipeline = Pipeline([('transformer', scalar), ('estimator', clf)])\n",
        "\n",
        "    metrics = cross_validate(clf, X, y, cv=cv, scoring= scoring,)\n",
        "    metrics = pd.DataFrame(metrics)\n",
        "\n",
        "\n",
        "    return metrics"
      ],
      "execution_count": null,
      "outputs": []
    },
    {
      "cell_type": "code",
      "metadata": {
        "id": "9v8pqNvJ1dNg"
      },
      "source": [
        "model_name = RandomForestClassifier\n",
        "model = fitter(model_name, df_merged, tag)\n",
        "model.to_csv(f'{model_name.__name__}_{tag}.csv', sep = ';', index = False)"
      ],
      "execution_count": null,
      "outputs": []
    },
    {
      "cell_type": "code",
      "source": [
        "file_list =  [el for el in os.listdir('/content') if 'csv' in el]\n",
        "\n",
        "frames = []\n",
        "for f in file_list:\n",
        "    frame = pd.read_csv(f, sep = ';')\n",
        "    frames.append(frame)\n",
        "\n",
        "\n",
        "results = pd.concat(frames, ignore_index= True)\n",
        "results.to_csv('resultados.csv', sep = \";\", index = False)"
      ],
      "metadata": {
        "id": "bkeLlZIUxHFJ"
      },
      "execution_count": null,
      "outputs": []
    },
    {
      "cell_type": "code",
      "source": [
        "results"
      ],
      "metadata": {
        "colab": {
          "base_uri": "https://localhost:8080/",
          "height": 187
        },
        "id": "zgNS4Pxms7JE",
        "outputId": "1f05c129-0103-4d06-b7cc-336c9124d8f6"
      },
      "execution_count": null,
      "outputs": [
        {
          "output_type": "execute_result",
          "data": {
            "text/html": [
              "\n",
              "  <div id=\"df-cc715138-e872-446f-88de-bc4cab6b8387\">\n",
              "    <div class=\"colab-df-container\">\n",
              "      <div>\n",
              "<style scoped>\n",
              "    .dataframe tbody tr th:only-of-type {\n",
              "        vertical-align: middle;\n",
              "    }\n",
              "\n",
              "    .dataframe tbody tr th {\n",
              "        vertical-align: top;\n",
              "    }\n",
              "\n",
              "    .dataframe thead th {\n",
              "        text-align: right;\n",
              "    }\n",
              "</style>\n",
              "<table border=\"1\" class=\"dataframe\">\n",
              "  <thead>\n",
              "    <tr style=\"text-align: right;\">\n",
              "      <th></th>\n",
              "      <th>model_name</th>\n",
              "      <th>params</th>\n",
              "      <th>tag</th>\n",
              "      <th>fit_time</th>\n",
              "      <th>score_time</th>\n",
              "      <th>test_recall</th>\n",
              "      <th>test_precision</th>\n",
              "    </tr>\n",
              "  </thead>\n",
              "  <tbody>\n",
              "    <tr>\n",
              "      <th>0</th>\n",
              "      <td>RandomForestClassifier</td>\n",
              "      <td>{\"max_depth\": 5, \"max_features\": \"auto\", \"n_es...</td>\n",
              "      <td>Suicida</td>\n",
              "      <td>0.326471</td>\n",
              "      <td>0.018007</td>\n",
              "      <td>0.787</td>\n",
              "      <td>0.797897</td>\n",
              "    </tr>\n",
              "    <tr>\n",
              "      <th>1</th>\n",
              "      <td>RandomForestClassifier</td>\n",
              "      <td>{\"max_depth\": 15, \"max_features\": \"auto\", \"n_e...</td>\n",
              "      <td>Ansiosa</td>\n",
              "      <td>0.319412</td>\n",
              "      <td>0.016984</td>\n",
              "      <td>0.761</td>\n",
              "      <td>0.776518</td>\n",
              "    </tr>\n",
              "    <tr>\n",
              "      <th>2</th>\n",
              "      <td>RandomForestClassifier</td>\n",
              "      <td>{\"max_depth\": 40, \"max_features\": \"auto\", \"n_e...</td>\n",
              "      <td>Depresiva</td>\n",
              "      <td>0.338900</td>\n",
              "      <td>0.017972</td>\n",
              "      <td>0.690</td>\n",
              "      <td>0.705250</td>\n",
              "    </tr>\n",
              "  </tbody>\n",
              "</table>\n",
              "</div>\n",
              "      <button class=\"colab-df-convert\" onclick=\"convertToInteractive('df-cc715138-e872-446f-88de-bc4cab6b8387')\"\n",
              "              title=\"Convert this dataframe to an interactive table.\"\n",
              "              style=\"display:none;\">\n",
              "        \n",
              "  <svg xmlns=\"http://www.w3.org/2000/svg\" height=\"24px\"viewBox=\"0 0 24 24\"\n",
              "       width=\"24px\">\n",
              "    <path d=\"M0 0h24v24H0V0z\" fill=\"none\"/>\n",
              "    <path d=\"M18.56 5.44l.94 2.06.94-2.06 2.06-.94-2.06-.94-.94-2.06-.94 2.06-2.06.94zm-11 1L8.5 8.5l.94-2.06 2.06-.94-2.06-.94L8.5 2.5l-.94 2.06-2.06.94zm10 10l.94 2.06.94-2.06 2.06-.94-2.06-.94-.94-2.06-.94 2.06-2.06.94z\"/><path d=\"M17.41 7.96l-1.37-1.37c-.4-.4-.92-.59-1.43-.59-.52 0-1.04.2-1.43.59L10.3 9.45l-7.72 7.72c-.78.78-.78 2.05 0 2.83L4 21.41c.39.39.9.59 1.41.59.51 0 1.02-.2 1.41-.59l7.78-7.78 2.81-2.81c.8-.78.8-2.07 0-2.86zM5.41 20L4 18.59l7.72-7.72 1.47 1.35L5.41 20z\"/>\n",
              "  </svg>\n",
              "      </button>\n",
              "      \n",
              "  <style>\n",
              "    .colab-df-container {\n",
              "      display:flex;\n",
              "      flex-wrap:wrap;\n",
              "      gap: 12px;\n",
              "    }\n",
              "\n",
              "    .colab-df-convert {\n",
              "      background-color: #E8F0FE;\n",
              "      border: none;\n",
              "      border-radius: 50%;\n",
              "      cursor: pointer;\n",
              "      display: none;\n",
              "      fill: #1967D2;\n",
              "      height: 32px;\n",
              "      padding: 0 0 0 0;\n",
              "      width: 32px;\n",
              "    }\n",
              "\n",
              "    .colab-df-convert:hover {\n",
              "      background-color: #E2EBFA;\n",
              "      box-shadow: 0px 1px 2px rgba(60, 64, 67, 0.3), 0px 1px 3px 1px rgba(60, 64, 67, 0.15);\n",
              "      fill: #174EA6;\n",
              "    }\n",
              "\n",
              "    [theme=dark] .colab-df-convert {\n",
              "      background-color: #3B4455;\n",
              "      fill: #D2E3FC;\n",
              "    }\n",
              "\n",
              "    [theme=dark] .colab-df-convert:hover {\n",
              "      background-color: #434B5C;\n",
              "      box-shadow: 0px 1px 3px 1px rgba(0, 0, 0, 0.15);\n",
              "      filter: drop-shadow(0px 1px 2px rgba(0, 0, 0, 0.3));\n",
              "      fill: #FFFFFF;\n",
              "    }\n",
              "  </style>\n",
              "\n",
              "      <script>\n",
              "        const buttonEl =\n",
              "          document.querySelector('#df-cc715138-e872-446f-88de-bc4cab6b8387 button.colab-df-convert');\n",
              "        buttonEl.style.display =\n",
              "          google.colab.kernel.accessAllowed ? 'block' : 'none';\n",
              "\n",
              "        async function convertToInteractive(key) {\n",
              "          const element = document.querySelector('#df-cc715138-e872-446f-88de-bc4cab6b8387');\n",
              "          const dataTable =\n",
              "            await google.colab.kernel.invokeFunction('convertToInteractive',\n",
              "                                                     [key], {});\n",
              "          if (!dataTable) return;\n",
              "\n",
              "          const docLinkHtml = 'Like what you see? Visit the ' +\n",
              "            '<a target=\"_blank\" href=https://colab.research.google.com/notebooks/data_table.ipynb>data table notebook</a>'\n",
              "            + ' to learn more about interactive tables.';\n",
              "          element.innerHTML = '';\n",
              "          dataTable['output_type'] = 'display_data';\n",
              "          await google.colab.output.renderOutput(dataTable, element);\n",
              "          const docLink = document.createElement('div');\n",
              "          docLink.innerHTML = docLinkHtml;\n",
              "          element.appendChild(docLink);\n",
              "        }\n",
              "      </script>\n",
              "    </div>\n",
              "  </div>\n",
              "  "
            ],
            "text/plain": [
              "               model_name  ... test_precision\n",
              "0  RandomForestClassifier  ...       0.797897\n",
              "1  RandomForestClassifier  ...       0.776518\n",
              "2  RandomForestClassifier  ...       0.705250\n",
              "\n",
              "[3 rows x 7 columns]"
            ]
          },
          "metadata": {},
          "execution_count": 71
        }
      ]
    },
    {
      "cell_type": "code",
      "source": [
        "import itertools\n",
        "from matplotlib import pyplot as plt\n",
        "\n",
        "\n",
        "\n",
        "scaler = StandardScaler()\n",
        "data_scaled = scaler.fit_transform(df_merged.iloc[:,1:-1])\n",
        "\n",
        "rf = RandomForestClassifier(max_depth=40, max_features= 'auto', n_estimators= 100).fit(data_scaled, df_merged.iloc[:,[-1]])\n",
        "\n",
        "    \n",
        "sorted_idx = rf.feature_importances_.argsort()\n",
        "\n",
        "importance_dict = {\n",
        "'cols':df_merged.iloc[:,1:-1].columns[sorted_idx],\n",
        "'value':rf.feature_importances_[sorted_idx]\n",
        "}\n",
        "\n",
        "\n",
        "df_importance = pd.DataFrame(importance_dict)\n",
        "df_importance = df_importance.sort_values(by='value', ascending=False)\n",
        "df_importance.to_csv(f'importance_{tag}_corr.csv', index = False, encoding= 'latin1')\n",
        "df_importance"
      ],
      "metadata": {
        "id": "Wc5hyF055VDc"
      },
      "execution_count": null,
      "outputs": []
    },
    {
      "cell_type": "code",
      "source": [
        "# Importance Depresiva\n",
        "from matplotlib import pyplot as plt\n",
        "\n",
        "\n",
        "\n",
        "scaler = StandardScaler()\n",
        "data_scaled = scaler.fit_transform(df_merged.iloc[:,1:-1])\n",
        "\n",
        "rf = RandomForestClassifier(max_depth=10, max_features=15).fit(data_scaled, df_merged.iloc[:,[-1]])\n",
        "\n",
        "\n",
        "\n",
        "sorted_idx = rf.feature_importances_.argsort()[-20:]\n",
        "plt.barh(df_merged.iloc[:,1:-1].columns[sorted_idx], rf.feature_importances_[sorted_idx])\n",
        "plt.xlabel(\"Random Forest Feature Importance\")"
      ],
      "metadata": {
        "colab": {
          "base_uri": "https://localhost:8080/",
          "height": 351
        },
        "id": "3DJyL64hZIrR",
        "outputId": "8d2b28f5-7ea5-4f34-b1fc-dc4505dee6fe"
      },
      "execution_count": null,
      "outputs": [
        {
          "output_type": "stream",
          "name": "stderr",
          "text": [
            "/usr/local/lib/python3.7/dist-packages/ipykernel_launcher.py:9: DataConversionWarning: A column-vector y was passed when a 1d array was expected. Please change the shape of y to (n_samples,), for example using ravel().\n",
            "  if __name__ == '__main__':\n"
          ]
        },
        {
          "output_type": "execute_result",
          "data": {
            "text/plain": [
              "Text(0.5, 0, 'Random Forest Feature Importance')"
            ]
          },
          "metadata": {},
          "execution_count": 46
        },
        {
          "output_type": "display_data",
          "data": {
            "image/png": "[encoded data removed]",
            "text/plain": [
              "<Figure size 432x288 with 1 Axes>"
            ]
          },
          "metadata": {
            "needs_background": "light"
          }
        }
      ]
    },
    {
      "cell_type": "code",
      "source": [
        "# Importance Suicida\n",
        "from matplotlib import pyplot as plt\n",
        "\n",
        "scaler = StandardScaler()\n",
        "data_scaled = scaler.fit_transform(df_merged.iloc[:,1:-1])\n",
        "\n",
        "rf = RandomForestClassifier(max_depth=10, ).fit(data_scaled, df_merged.iloc[:,[-1]])\n",
        "\n",
        "\n",
        "\n",
        "sorted_idx = rf.feature_importances_.argsort()[-20:]\n",
        "plt.barh(df_merged.iloc[:,1:-1].columns[sorted_idx], rf.feature_importances_[sorted_idx])\n",
        "plt.xlabel(\"Random Forest Feature Importance\")"
      ],
      "metadata": {
        "id": "_eD_TBokaewS",
        "colab": {
          "base_uri": "https://localhost:8080/",
          "height": 366
        },
        "outputId": "3c7ce964-0e9e-477a-9276-a92f6c3fa3b8"
      },
      "execution_count": null,
      "outputs": [
        {
          "output_type": "stream",
          "name": "stderr",
          "text": [
            "/usr/local/lib/python3.7/dist-packages/ipykernel_launcher.py:9: DataConversionWarning:\n",
            "\n",
            "A column-vector y was passed when a 1d array was expected. Please change the shape of y to (n_samples,), for example using ravel().\n",
            "\n"
          ]
        },
        {
          "output_type": "execute_result",
          "data": {
            "text/plain": [
              "Text(0.5, 0, 'Random Forest Feature Importance')"
            ]
          },
          "metadata": {},
          "execution_count": 222
        },
        {
          "output_type": "display_data",
          "data": {
            "image/png": "[encoded data removed]",
            "text/plain": [
              "<Figure size 432x288 with 1 Axes>"
            ]
          },
          "metadata": {
            "needs_background": "light"
          }
        }
      ]
    },
    {
      "cell_type": "code",
      "source": [
        "df_merged.iloc[:,1:-1].columns[[ 73,  72,  70,  20,  43,   1, 165,  47,   0, 160,  63, 152,  36,\n",
        "        15,  66]]"
      ],
      "metadata": {
        "colab": {
          "base_uri": "https://localhost:8080/"
        },
        "id": "rd2QuzsBJcTU",
        "outputId": "9bfbcb2d-299f-4b0e-bd4b-ededc426e622"
      },
      "execution_count": null,
      "outputs": [
        {
          "output_type": "execute_result",
          "data": {
            "text/plain": [
              "Index(['NO_MENTAL', 'PRON_BODY_PART_BEHAVIOURAL', 'PRON_MENTAL_SENTIMENT',\n",
              "       'Arriba', 'Nonfl', 'estallido', 'óseo', 'Asearse', 'pandemia', 'trans',\n",
              "       'Relig', 'solo querer morir', 'Fillers', 'TV', 'Deportes'],\n",
              "      dtype='object')"
            ]
          },
          "metadata": {},
          "execution_count": 215
        }
      ]
    }
  ]
}