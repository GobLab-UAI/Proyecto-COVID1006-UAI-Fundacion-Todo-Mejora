{
 "cells": [
  {
   "cell_type": "code",
   "execution_count": 1,
   "metadata": {},
   "outputs": [
    {
     "name": "stderr",
     "output_type": "stream",
     "text": [
      "Loading required package: strucchange\n",
      "Warning message:\n",
      "\"package 'strucchange' was built under R version 3.5.3\"Loading required package: zoo\n",
      "\n",
      "Attaching package: 'zoo'\n",
      "\n",
      "The following objects are masked from 'package:base':\n",
      "\n",
      "    as.Date, as.Date.numeric\n",
      "\n",
      "Loading required package: sandwich\n",
      "Warning message:\n",
      "\"package 'dplyr' was built under R version 3.5.3\"\n",
      "Attaching package: 'dplyr'\n",
      "\n",
      "The following objects are masked from 'package:stats':\n",
      "\n",
      "    filter, lag\n",
      "\n",
      "The following objects are masked from 'package:base':\n",
      "\n",
      "    intersect, setdiff, setequal, union\n",
      "\n",
      "Warning message:\n",
      "\"package 'ggplot2' was built under R version 3.5.3\"Loading required package: svglite\n",
      "Warning message:\n",
      "\"package 'svglite' was built under R version 3.5.3\"Warning message:\n",
      "\"package 'Rfast' was built under R version 3.5.3\"Loading required package: Rcpp\n",
      "Warning message:\n",
      "\"package 'Rcpp' was built under R version 3.5.3\"Loading required package: RcppZiggurat\n",
      "Warning message:\n",
      "\"package 'RcppZiggurat' was built under R version 3.5.3\"\n",
      "Attaching package: 'Rfast'\n",
      "\n",
      "The following object is masked from 'package:dplyr':\n",
      "\n",
      "    nth\n",
      "\n"
     ]
    }
   ],
   "source": [
    "#install.packages('strucchange',repos = \"http://cran.us.r-project.org\")\n",
    "#install.packages('svglite',repos = \"http://cran.us.r-project.org\")\n",
    "#install.packages('gdtools',repos = \"http://cran.us.r-project.org\")\n",
    "#install.packages('Rfast',repos = \"http://cran.us.r-project.org\")\n",
    "require(strucchange)\n",
    "library(dplyr)\n",
    "library(ggplot2)\n",
    "require(svglite)\n",
    "library(Rfast)"
   ]
  },
  {
   "cell_type": "code",
   "execution_count": 33,
   "metadata": {},
   "outputs": [],
   "source": [
    "tags <- read.csv(file = 'temas_tiempo.csv',sep='\\t',encoding='UTF-8')"
   ]
  },
  {
   "cell_type": "code",
   "execution_count": 34,
   "metadata": {},
   "outputs": [],
   "source": [
    "#tags"
   ]
  },
  {
   "cell_type": "code",
   "execution_count": 35,
   "metadata": {},
   "outputs": [
    {
     "data": {
      "text/html": [
       "<ol class=list-inline>\n",
       "\t<li>36</li>\n",
       "\t<li>16</li>\n",
       "</ol>\n"
      ],
      "text/latex": [
       "\\begin{enumerate*}\n",
       "\\item 36\n",
       "\\item 16\n",
       "\\end{enumerate*}\n"
      ],
      "text/markdown": [
       "1. 36\n",
       "2. 16\n",
       "\n",
       "\n"
      ],
      "text/plain": [
       "[1] 36 16"
      ]
     },
     "metadata": {},
     "output_type": "display_data"
    }
   ],
   "source": [
    "dim(tags)"
   ]
  },
  {
   "cell_type": "code",
   "execution_count": 49,
   "metadata": {},
   "outputs": [
    {
     "data": {
      "text/plain": [
       "\n",
       "\tChow test\n",
       "\n",
       "data:  y ~ x\n",
       "F = 2.1297, p-value = 0.1354\n"
      ]
     },
     "metadata": {},
     "output_type": "display_data"
    }
   ],
   "source": [
    "x <- tags$X\n",
    "y <- tags$vincularesN\n",
    "sctest(y ~ x, type = \"Chow\", point = 27)\n"
   ]
  },
  {
   "cell_type": "code",
   "execution_count": 50,
   "metadata": {},
   "outputs": [
    {
     "data": {
      "text/plain": [
       "\n",
       "\tWelch Two Sample t-test\n",
       "\n",
       "data:  y[1:26] and y[27:36]\n",
       "t = -6.3912, df = 28.506, p-value = 5.924e-07\n",
       "alternative hypothesis: true difference in means is not equal to 0\n",
       "95 percent confidence interval:\n",
       " -0.06302727 -0.03245072\n",
       "sample estimates:\n",
       "mean of x mean of y \n",
       " 0.762188  0.809927 \n"
      ]
     },
     "metadata": {},
     "output_type": "display_data"
    }
   ],
   "source": [
    "#ttest2(y[1:26],y[27:36])\n",
    "t.test(y[1:26],y[27:36])"
   ]
  },
  {
   "cell_type": "code",
   "execution_count": 51,
   "metadata": {},
   "outputs": [
    {
     "data": {
      "text/plain": [
       "\n",
       "\tChow test\n",
       "\n",
       "data:  y ~ x\n",
       "F = 5.4866, p-value = 0.008938\n"
      ]
     },
     "metadata": {},
     "output_type": "display_data"
    }
   ],
   "source": [
    "x <- tags$X\n",
    "y <- tags$autoimagenN\n",
    "sctest(y ~ x, type = \"Chow\", point = 26)\n"
   ]
  },
  {
   "cell_type": "code",
   "execution_count": 52,
   "metadata": {},
   "outputs": [
    {
     "data": {
      "text/plain": [
       "\n",
       "\tWelch Two Sample t-test\n",
       "\n",
       "data:  y[1:26] and y[27:36]\n",
       "t = -6.1341, df = 24.43, p-value = 2.272e-06\n",
       "alternative hypothesis: true difference in means is not equal to 0\n",
       "95 percent confidence interval:\n",
       " -0.09548226 -0.04743952\n",
       "sample estimates:\n",
       "mean of x mean of y \n",
       "0.3130727 0.3845336 \n"
      ]
     },
     "metadata": {},
     "output_type": "display_data"
    }
   ],
   "source": [
    "#ttest2(y[1:26],y[27:36])\n",
    "t.test(y[1:26],y[27:36])"
   ]
  },
  {
   "cell_type": "code",
   "execution_count": 53,
   "metadata": {},
   "outputs": [
    {
     "data": {
      "text/plain": [
       "\n",
       "\tChow test\n",
       "\n",
       "data:  y ~ x\n",
       "F = 3.0594, p-value = 0.06084\n"
      ]
     },
     "metadata": {},
     "output_type": "display_data"
    }
   ],
   "source": [
    "x <- tags$X\n",
    "y <- tags$violenciaN\n",
    "sctest(y ~ x, type = \"Chow\", point = 26)\n"
   ]
  },
  {
   "cell_type": "code",
   "execution_count": 54,
   "metadata": {},
   "outputs": [
    {
     "data": {
      "text/plain": [
       "\n",
       "\tWelch Two Sample t-test\n",
       "\n",
       "data:  y[1:26] and y[27:36]\n",
       "t = 0.64758, df = 19.574, p-value = 0.5248\n",
       "alternative hypothesis: true difference in means is not equal to 0\n",
       "95 percent confidence interval:\n",
       " -0.01230485  0.02336209\n",
       "sample estimates:\n",
       "mean of x mean of y \n",
       "0.1594983 0.1539697 \n"
      ]
     },
     "metadata": {},
     "output_type": "display_data"
    }
   ],
   "source": [
    "#ttest2(y[1:26],y[27:36])\n",
    "t.test(y[1:26],y[27:36])"
   ]
  },
  {
   "cell_type": "code",
   "execution_count": 59,
   "metadata": {},
   "outputs": [
    {
     "data": {
      "text/plain": [
       "\n",
       "\tChow test\n",
       "\n",
       "data:  y ~ x\n",
       "F = 1.3253, p-value = 0.2799\n"
      ]
     },
     "metadata": {},
     "output_type": "display_data"
    }
   ],
   "source": [
    "x <- tags$X\n",
    "y <- tags$desempeñoN\n",
    "sctest(y ~ x, type = \"Chow\", point = 27)\n"
   ]
  },
  {
   "cell_type": "code",
   "execution_count": 60,
   "metadata": {},
   "outputs": [
    {
     "data": {
      "text/plain": [
       "\n",
       "\tWelch Two Sample t-test\n",
       "\n",
       "data:  y[1:26] and y[27:36]\n",
       "t = 3.6293, df = 18.663, p-value = 0.001828\n",
       "alternative hypothesis: true difference in means is not equal to 0\n",
       "95 percent confidence interval:\n",
       " 0.01335390 0.04984614\n",
       "sample estimates:\n",
       "mean of x mean of y \n",
       "0.3322558 0.3006558 \n"
      ]
     },
     "metadata": {},
     "output_type": "display_data"
    }
   ],
   "source": [
    "#ttest2(y[1:26],y[27:36])\n",
    "t.test(y[1:26],y[27:36])"
   ]
  },
  {
   "cell_type": "code",
   "execution_count": 45,
   "metadata": {},
   "outputs": [
    {
     "data": {
      "text/plain": [
       "\n",
       "\tChow test\n",
       "\n",
       "data:  y ~ x\n",
       "F = 2.3634, p-value = 0.1103\n"
      ]
     },
     "metadata": {},
     "output_type": "display_data"
    }
   ],
   "source": [
    "x <- tags$X\n",
    "y <- tags$diversidadN\n",
    "sctest(y ~ x, type = \"Chow\", point = 26)\n"
   ]
  },
  {
   "cell_type": "code",
   "execution_count": 46,
   "metadata": {},
   "outputs": [
    {
     "data": {
      "text/plain": [
       "\n",
       "\tWelch Two Sample t-test\n",
       "\n",
       "data:  y[1:26] and y[27:36]\n",
       "t = 0.52358, df = 22.851, p-value = 0.6056\n",
       "alternative hypothesis: true difference in means is not equal to 0\n",
       "95 percent confidence interval:\n",
       " -0.02670008  0.04478711\n",
       "sample estimates:\n",
       "mean of x mean of y \n",
       "0.1812804 0.1722369 \n"
      ]
     },
     "metadata": {},
     "output_type": "display_data"
    }
   ],
   "source": [
    "#ttest2(y[1:26],y[27:36])\n",
    "t.test(y[1:26],y[27:36])"
   ]
  },
  {
   "cell_type": "code",
   "execution_count": 61,
   "metadata": {},
   "outputs": [
    {
     "data": {
      "text/plain": [
       "\n",
       "\tChow test\n",
       "\n",
       "data:  y ~ x\n",
       "F = 3.5622, p-value = 0.04011\n"
      ]
     },
     "metadata": {},
     "output_type": "display_data"
    }
   ],
   "source": [
    "x <- tags$X\n",
    "y <- tags$sentidoN\n",
    "sctest(y ~ x, type = \"Chow\", point = 26)\n"
   ]
  },
  {
   "cell_type": "code",
   "execution_count": 62,
   "metadata": {},
   "outputs": [
    {
     "data": {
      "text/plain": [
       "\n",
       "\tWelch Two Sample t-test\n",
       "\n",
       "data:  y[1:26] and y[27:36]\n",
       "t = -1.0445, df = 18.409, p-value = 0.3098\n",
       "alternative hypothesis: true difference in means is not equal to 0\n",
       "95 percent confidence interval:\n",
       " -0.019605844  0.006570626\n",
       "sample estimates:\n",
       " mean of x  mean of y \n",
       "0.09791125 0.10442886 \n"
      ]
     },
     "metadata": {},
     "output_type": "display_data"
    }
   ],
   "source": [
    "#ttest2(y[1:26],y[27:36])\n",
    "t.test(y[1:26],y[27:36])"
   ]
  },
  {
   "cell_type": "code",
   "execution_count": null,
   "metadata": {},
   "outputs": [],
   "source": []
  },
  {
   "cell_type": "code",
   "execution_count": null,
   "metadata": {},
   "outputs": [],
   "source": []
  },
  {
   "cell_type": "markdown",
   "metadata": {},
   "source": [
    "### Bai-Perron"
   ]
  },
  {
   "cell_type": "code",
   "execution_count": 16,
   "metadata": {
    "scrolled": true
   },
   "outputs": [
    {
     "data": {
      "text/plain": [
       "\n",
       "\t Optimal (m+1)-segment partition: \n",
       "\n",
       "Call:\n",
       "breakpoints.formula(formula = fh ~ 1, breaks = 2)\n",
       "\n",
       "Breakpoints at observation number:\n",
       "             \n",
       "m = 1   22   \n",
       "m = 2   22 29\n",
       "\n",
       "Corresponding to breakdates:\n",
       "             \n",
       "m = 1   22   \n",
       "m = 2   22 29\n",
       "\n",
       "Fit:\n",
       "                                    \n",
       "m   0          1          2         \n",
       "RSS    0.03907    0.02689    0.02467\n",
       "BIC -136.40647 -142.68931 -138.62452"
      ]
     },
     "metadata": {},
     "output_type": "display_data"
    },
    {
     "data": {
      "image/png": "[encoded data removed]",
      "text/plain": [
       "plot without title"
      ]
     },
     "metadata": {},
     "output_type": "display_data"
    }
   ],
   "source": [
    "library(repr)\n",
    "options(repr.plot.width=7, repr.plot.height=4)\n",
    "\n",
    "fh <- ts(tags$vincularesN, start=c(1, 1), end=c(36, 1), frequency=1) \n",
    "\n",
    "# store the breakpoints\n",
    "bp.fh <- breakpoints(fh ~ 1,breaks = 2)\n",
    "summary(bp.fh)\n",
    "\n",
    "#postscript(file=\"sint_ansiosa_breakpoint.eps\")\n",
    "\n",
    "plot(fh)\n",
    "lines(bp.fh,breaks = 2)\n",
    "\n",
    "## confidence intervals\n",
    "ci.fh <- confint(bp.fh,breaks = 1)\n",
    "lines(ci.fh)\n",
    "\n",
    "#dev.off()"
   ]
  },
  {
   "cell_type": "code",
   "execution_count": 77,
   "metadata": {},
   "outputs": [
    {
     "data": {
      "text/html": [
       "<table>\n",
       "<thead><tr><th></th><th scope=col>X</th><th scope=col>yearm</th><th scope=col>autoimagen</th><th scope=col>violencia</th><th scope=col>diversidad</th><th scope=col>desempeño</th><th scope=col>sentido</th><th scope=col>vinculares</th><th scope=col>total</th><th scope=col>autoimagenN</th><th scope=col>violenciaN</th><th scope=col>diversidadN</th><th scope=col>desempeñoN</th><th scope=col>sentidoN</th><th scope=col>vincularesN</th></tr></thead>\n",
       "<tbody>\n",
       "\t<tr><th scope=row>27</th><td>26        </td><td>2020-03   </td><td>110       </td><td>48        </td><td>63        </td><td>103       </td><td>36        </td><td>300       </td><td>394       </td><td>0.2791878 </td><td>0.1218274 </td><td>0.1598985 </td><td>0.2614213 </td><td>0.09137056</td><td>0.7614213 </td></tr>\n",
       "</tbody>\n",
       "</table>\n"
      ],
      "text/latex": [
       "\\begin{tabular}{r|lllllllllllllll}\n",
       "  & X & yearm & autoimagen & violencia & diversidad & desempeño & sentido & vinculares & total & autoimagenN & violenciaN & diversidadN & desempeñoN & sentidoN & vincularesN\\\\\n",
       "\\hline\n",
       "\t27 & 26         & 2020-03    & 110        & 48         & 63         & 103        & 36         & 300        & 394        & 0.2791878  & 0.1218274  & 0.1598985  & 0.2614213  & 0.09137056 & 0.7614213 \\\\\n",
       "\\end{tabular}\n"
      ],
      "text/markdown": [
       "\n",
       "| <!--/--> | X | yearm | autoimagen | violencia | diversidad | desempeño | sentido | vinculares | total | autoimagenN | violenciaN | diversidadN | desempeñoN | sentidoN | vincularesN | \n",
       "|---|\n",
       "| 27 | 26         | 2020-03    | 110        | 48         | 63         | 103        | 36         | 300        | 394        | 0.2791878  | 0.1218274  | 0.1598985  | 0.2614213  | 0.09137056 | 0.7614213  | \n",
       "\n",
       "\n"
      ],
      "text/plain": [
       "   X  yearm   autoimagen violencia diversidad desempeño sentido vinculares\n",
       "27 26 2020-03 110        48        63         103       36      300       \n",
       "   total autoimagenN violenciaN diversidadN desempeñoN sentidoN   vincularesN\n",
       "27 394   0.2791878   0.1218274  0.1598985   0.2614213  0.09137056 0.7614213  "
      ]
     },
     "metadata": {},
     "output_type": "display_data"
    }
   ],
   "source": [
    "tags[27,]"
   ]
  },
  {
   "cell_type": "code",
   "execution_count": null,
   "metadata": {},
   "outputs": [],
   "source": []
  },
  {
   "cell_type": "code",
   "execution_count": 91,
   "metadata": {},
   "outputs": [
    {
     "data": {
      "text/plain": [
       "\n",
       "\t Optimal (m+1)-segment partition: \n",
       "\n",
       "Call:\n",
       "breakpoints.formula(formula = fh ~ 1, breaks = 1)\n",
       "\n",
       "Breakpoints at observation number:\n",
       "          \n",
       "m = 1   25\n",
       "\n",
       "Corresponding to breakdates:\n",
       "          \n",
       "m = 1   25\n",
       "\n",
       "Fit:\n",
       "                         \n",
       "m   0          1         \n",
       "RSS    0.05041    0.03004\n",
       "BIC -127.23181 -138.69334"
      ]
     },
     "metadata": {},
     "output_type": "display_data"
    },
    {
     "data": {
      "image/png": "[encoded data removed]",
      "text/plain": [
       "plot without title"
      ]
     },
     "metadata": {},
     "output_type": "display_data"
    }
   ],
   "source": [
    "library(repr)\n",
    "options(repr.plot.width=7, repr.plot.height=4)\n",
    "\n",
    "fh <- ts(tags$autoimagenN, start=c(1, 1), end=c(36, 1), frequency=1) \n",
    "\n",
    "# store the breakpoints\n",
    "bp.fh <- breakpoints(fh ~ 1,breaks = 1)\n",
    "summary(bp.fh)\n",
    "\n",
    "#postscript(file=\"sint_ansiosa_breakpoint.eps\")\n",
    "\n",
    "plot(fh)\n",
    "lines(bp.fh,breaks = 1)\n",
    "\n",
    "## confidence intervals\n",
    "ci.fh <- confint(bp.fh,breaks = 1)\n",
    "lines(ci.fh)\n",
    "\n",
    "#dev.off()"
   ]
  },
  {
   "cell_type": "code",
   "execution_count": 89,
   "metadata": {},
   "outputs": [
    {
     "data": {
      "text/html": [
       "2020-01\n",
       "<details>\n",
       "\t<summary style=display:list-item;cursor:pointer>\n",
       "\t\t<strong>Levels</strong>:\n",
       "\t</summary>\n",
       "\t<ol class=list-inline>\n",
       "\t\t<li>'2018-01'</li>\n",
       "\t\t<li>'2018-02'</li>\n",
       "\t\t<li>'2018-03'</li>\n",
       "\t\t<li>'2018-04'</li>\n",
       "\t\t<li>'2018-05'</li>\n",
       "\t\t<li>'2018-06'</li>\n",
       "\t\t<li>'2018-07'</li>\n",
       "\t\t<li>'2018-08'</li>\n",
       "\t\t<li>'2018-09'</li>\n",
       "\t\t<li>'2018-10'</li>\n",
       "\t\t<li>'2018-11'</li>\n",
       "\t\t<li>'2018-12'</li>\n",
       "\t\t<li>'2019-01'</li>\n",
       "\t\t<li>'2019-02'</li>\n",
       "\t\t<li>'2019-03'</li>\n",
       "\t\t<li>'2019-04'</li>\n",
       "\t\t<li>'2019-05'</li>\n",
       "\t\t<li>'2019-06'</li>\n",
       "\t\t<li>'2019-07'</li>\n",
       "\t\t<li>'2019-08'</li>\n",
       "\t\t<li>'2019-09'</li>\n",
       "\t\t<li>'2019-10'</li>\n",
       "\t\t<li>'2019-11'</li>\n",
       "\t\t<li>'2019-12'</li>\n",
       "\t\t<li>'2020-01'</li>\n",
       "\t\t<li>'2020-02'</li>\n",
       "\t\t<li>'2020-03'</li>\n",
       "\t\t<li>'2020-04'</li>\n",
       "\t\t<li>'2020-05'</li>\n",
       "\t\t<li>'2020-06'</li>\n",
       "\t\t<li>'2020-07'</li>\n",
       "\t\t<li>'2020-08'</li>\n",
       "\t\t<li>'2020-09'</li>\n",
       "\t\t<li>'2020-10'</li>\n",
       "\t\t<li>'2020-11'</li>\n",
       "\t\t<li>'2020-12'</li>\n",
       "\t</ol>\n",
       "</details>"
      ],
      "text/latex": [
       "2020-01\n",
       "\\emph{Levels}: \\begin{enumerate*}\n",
       "\\item '2018-01'\n",
       "\\item '2018-02'\n",
       "\\item '2018-03'\n",
       "\\item '2018-04'\n",
       "\\item '2018-05'\n",
       "\\item '2018-06'\n",
       "\\item '2018-07'\n",
       "\\item '2018-08'\n",
       "\\item '2018-09'\n",
       "\\item '2018-10'\n",
       "\\item '2018-11'\n",
       "\\item '2018-12'\n",
       "\\item '2019-01'\n",
       "\\item '2019-02'\n",
       "\\item '2019-03'\n",
       "\\item '2019-04'\n",
       "\\item '2019-05'\n",
       "\\item '2019-06'\n",
       "\\item '2019-07'\n",
       "\\item '2019-08'\n",
       "\\item '2019-09'\n",
       "\\item '2019-10'\n",
       "\\item '2019-11'\n",
       "\\item '2019-12'\n",
       "\\item '2020-01'\n",
       "\\item '2020-02'\n",
       "\\item '2020-03'\n",
       "\\item '2020-04'\n",
       "\\item '2020-05'\n",
       "\\item '2020-06'\n",
       "\\item '2020-07'\n",
       "\\item '2020-08'\n",
       "\\item '2020-09'\n",
       "\\item '2020-10'\n",
       "\\item '2020-11'\n",
       "\\item '2020-12'\n",
       "\\end{enumerate*}\n"
      ],
      "text/markdown": [
       "2020-01\n",
       "**Levels**: 1. '2018-01'\n",
       "2. '2018-02'\n",
       "3. '2018-03'\n",
       "4. '2018-04'\n",
       "5. '2018-05'\n",
       "6. '2018-06'\n",
       "7. '2018-07'\n",
       "8. '2018-08'\n",
       "9. '2018-09'\n",
       "10. '2018-10'\n",
       "11. '2018-11'\n",
       "12. '2018-12'\n",
       "13. '2019-01'\n",
       "14. '2019-02'\n",
       "15. '2019-03'\n",
       "16. '2019-04'\n",
       "17. '2019-05'\n",
       "18. '2019-06'\n",
       "19. '2019-07'\n",
       "20. '2019-08'\n",
       "21. '2019-09'\n",
       "22. '2019-10'\n",
       "23. '2019-11'\n",
       "24. '2019-12'\n",
       "25. '2020-01'\n",
       "26. '2020-02'\n",
       "27. '2020-03'\n",
       "28. '2020-04'\n",
       "29. '2020-05'\n",
       "30. '2020-06'\n",
       "31. '2020-07'\n",
       "32. '2020-08'\n",
       "33. '2020-09'\n",
       "34. '2020-10'\n",
       "35. '2020-11'\n",
       "36. '2020-12'\n",
       "\n",
       "\n"
      ],
      "text/plain": [
       "[1] 2020-01\n",
       "36 Levels: 2018-01 2018-02 2018-03 2018-04 2018-05 2018-06 2018-07 ... 2020-12"
      ]
     },
     "metadata": {},
     "output_type": "display_data"
    }
   ],
   "source": [
    "tags[25,'yearm']"
   ]
  },
  {
   "cell_type": "code",
   "execution_count": 97,
   "metadata": {},
   "outputs": [
    {
     "data": {
      "text/plain": [
       "\n",
       "\t Optimal (m+1)-segment partition: \n",
       "\n",
       "Call:\n",
       "breakpoints.formula(formula = fh ~ 1, breaks = 3)\n",
       "\n",
       "Breakpoints at observation number:\n",
       "               \n",
       "m = 1   9      \n",
       "m = 2   9 17   \n",
       "m = 3   9 17 27\n",
       "\n",
       "Corresponding to breakdates:\n",
       "               \n",
       "m = 1   9      \n",
       "m = 2   9 17   \n",
       "m = 3   9 17 27\n",
       "\n",
       "Fit:\n",
       "                                               \n",
       "m   0          1          2          3         \n",
       "RSS    0.02190    0.01113    0.01063    0.01046\n",
       "BIC -157.24148 -174.44844 -168.93442 -162.34381"
      ]
     },
     "metadata": {},
     "output_type": "display_data"
    },
    {
     "name": "stderr",
     "output_type": "stream",
     "text": [
      "Warning message:\n",
      "\"Confidence intervals outside data time interval\n",
      "\t from 1 to 36 (36 observations)\"Warning message:\n",
      "\"Overlapping confidence intervals\""
     ]
    },
    {
     "data": {
      "image/png": "[encoded data removed]",
      "text/plain": [
       "plot without title"
      ]
     },
     "metadata": {},
     "output_type": "display_data"
    }
   ],
   "source": [
    "library(repr)\n",
    "options(repr.plot.width=7, repr.plot.height=4)\n",
    "\n",
    "fh <- ts(tags$sentidoN, start=c(1, 1), end=c(36, 1), frequency=1) \n",
    "\n",
    "# store the breakpoints\n",
    "bp.fh <- breakpoints(fh ~ 1,breaks = 3)\n",
    "summary(bp.fh)\n",
    "\n",
    "#postscript(file=\"sint_ansiosa_breakpoint.eps\")\n",
    "\n",
    "plot(fh)\n",
    "lines(bp.fh,breaks = 3)\n",
    "\n",
    "## confidence intervals\n",
    "ci.fh <- confint(bp.fh,breaks = 3)\n",
    "lines(ci.fh)\n",
    "\n",
    "#dev.off()"
   ]
  },
  {
   "cell_type": "code",
   "execution_count": 98,
   "metadata": {},
   "outputs": [
    {
     "data": {
      "text/html": [
       "2020-03\n",
       "<details>\n",
       "\t<summary style=display:list-item;cursor:pointer>\n",
       "\t\t<strong>Levels</strong>:\n",
       "\t</summary>\n",
       "\t<ol class=list-inline>\n",
       "\t\t<li>'2018-01'</li>\n",
       "\t\t<li>'2018-02'</li>\n",
       "\t\t<li>'2018-03'</li>\n",
       "\t\t<li>'2018-04'</li>\n",
       "\t\t<li>'2018-05'</li>\n",
       "\t\t<li>'2018-06'</li>\n",
       "\t\t<li>'2018-07'</li>\n",
       "\t\t<li>'2018-08'</li>\n",
       "\t\t<li>'2018-09'</li>\n",
       "\t\t<li>'2018-10'</li>\n",
       "\t\t<li>'2018-11'</li>\n",
       "\t\t<li>'2018-12'</li>\n",
       "\t\t<li>'2019-01'</li>\n",
       "\t\t<li>'2019-02'</li>\n",
       "\t\t<li>'2019-03'</li>\n",
       "\t\t<li>'2019-04'</li>\n",
       "\t\t<li>'2019-05'</li>\n",
       "\t\t<li>'2019-06'</li>\n",
       "\t\t<li>'2019-07'</li>\n",
       "\t\t<li>'2019-08'</li>\n",
       "\t\t<li>'2019-09'</li>\n",
       "\t\t<li>'2019-10'</li>\n",
       "\t\t<li>'2019-11'</li>\n",
       "\t\t<li>'2019-12'</li>\n",
       "\t\t<li>'2020-01'</li>\n",
       "\t\t<li>'2020-02'</li>\n",
       "\t\t<li>'2020-03'</li>\n",
       "\t\t<li>'2020-04'</li>\n",
       "\t\t<li>'2020-05'</li>\n",
       "\t\t<li>'2020-06'</li>\n",
       "\t\t<li>'2020-07'</li>\n",
       "\t\t<li>'2020-08'</li>\n",
       "\t\t<li>'2020-09'</li>\n",
       "\t\t<li>'2020-10'</li>\n",
       "\t\t<li>'2020-11'</li>\n",
       "\t\t<li>'2020-12'</li>\n",
       "\t</ol>\n",
       "</details>"
      ],
      "text/latex": [
       "2020-03\n",
       "\\emph{Levels}: \\begin{enumerate*}\n",
       "\\item '2018-01'\n",
       "\\item '2018-02'\n",
       "\\item '2018-03'\n",
       "\\item '2018-04'\n",
       "\\item '2018-05'\n",
       "\\item '2018-06'\n",
       "\\item '2018-07'\n",
       "\\item '2018-08'\n",
       "\\item '2018-09'\n",
       "\\item '2018-10'\n",
       "\\item '2018-11'\n",
       "\\item '2018-12'\n",
       "\\item '2019-01'\n",
       "\\item '2019-02'\n",
       "\\item '2019-03'\n",
       "\\item '2019-04'\n",
       "\\item '2019-05'\n",
       "\\item '2019-06'\n",
       "\\item '2019-07'\n",
       "\\item '2019-08'\n",
       "\\item '2019-09'\n",
       "\\item '2019-10'\n",
       "\\item '2019-11'\n",
       "\\item '2019-12'\n",
       "\\item '2020-01'\n",
       "\\item '2020-02'\n",
       "\\item '2020-03'\n",
       "\\item '2020-04'\n",
       "\\item '2020-05'\n",
       "\\item '2020-06'\n",
       "\\item '2020-07'\n",
       "\\item '2020-08'\n",
       "\\item '2020-09'\n",
       "\\item '2020-10'\n",
       "\\item '2020-11'\n",
       "\\item '2020-12'\n",
       "\\end{enumerate*}\n"
      ],
      "text/markdown": [
       "2020-03\n",
       "**Levels**: 1. '2018-01'\n",
       "2. '2018-02'\n",
       "3. '2018-03'\n",
       "4. '2018-04'\n",
       "5. '2018-05'\n",
       "6. '2018-06'\n",
       "7. '2018-07'\n",
       "8. '2018-08'\n",
       "9. '2018-09'\n",
       "10. '2018-10'\n",
       "11. '2018-11'\n",
       "12. '2018-12'\n",
       "13. '2019-01'\n",
       "14. '2019-02'\n",
       "15. '2019-03'\n",
       "16. '2019-04'\n",
       "17. '2019-05'\n",
       "18. '2019-06'\n",
       "19. '2019-07'\n",
       "20. '2019-08'\n",
       "21. '2019-09'\n",
       "22. '2019-10'\n",
       "23. '2019-11'\n",
       "24. '2019-12'\n",
       "25. '2020-01'\n",
       "26. '2020-02'\n",
       "27. '2020-03'\n",
       "28. '2020-04'\n",
       "29. '2020-05'\n",
       "30. '2020-06'\n",
       "31. '2020-07'\n",
       "32. '2020-08'\n",
       "33. '2020-09'\n",
       "34. '2020-10'\n",
       "35. '2020-11'\n",
       "36. '2020-12'\n",
       "\n",
       "\n"
      ],
      "text/plain": [
       "[1] 2020-03\n",
       "36 Levels: 2018-01 2018-02 2018-03 2018-04 2018-05 2018-06 2018-07 ... 2020-12"
      ]
     },
     "metadata": {},
     "output_type": "display_data"
    }
   ],
   "source": [
    "tags[27,'yearm']"
   ]
  },
  {
   "cell_type": "code",
   "execution_count": null,
   "metadata": {},
   "outputs": [],
   "source": []
  }
 ],
 "metadata": {
  "kernelspec": {
   "display_name": "R",
   "language": "R",
   "name": "ir"
  },
  "language_info": {
   "codemirror_mode": "r",
   "file_extension": ".r",
   "mimetype": "text/x-r-source",
   "name": "R",
   "pygments_lexer": "r",
   "version": "3.6.1"
  }
 },
 "nbformat": 4,
 "nbformat_minor": 2
}
